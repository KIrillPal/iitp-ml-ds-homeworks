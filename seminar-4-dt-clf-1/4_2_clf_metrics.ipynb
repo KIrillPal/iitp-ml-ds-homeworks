{
 "cells": [
  {
   "cell_type": "markdown",
   "metadata": {},
   "source": [
    "1. Метрики бинарной классификации\n",
    "    - precision, recall\n",
    "    - ROC AUC\n",
    "    - F1\n",
    "    \n",
    "2. Деревья решений для классификации (продолжение)\n",
    "    - Gini impurity index\n",
    "    - Information gain\n",
    "    - Деревья решений для регресии\n",
    "\n",
    "3. *Понятие слабого эстиматора. Ансамбли.\n",
    "\n",
    "------\n",
    "\n"
   ]
  },
  {
   "cell_type": "markdown",
   "metadata": {},
   "source": [
    "# 1. Метрики бинарной классификации: Матрица ошибок"
   ]
  },
  {
   "cell_type": "code",
   "execution_count": 4,
   "metadata": {},
   "outputs": [],
   "source": [
    "from sklearn.model_selection import train_test_split\n",
    "from sklearn.metrics import confusion_matrix, accuracy_score, roc_auc_score, roc_curve\n",
    "from sklearn.neighbors import KNeighborsClassifier\n",
    "\n",
    "import pandas as pd\n",
    "import numpy as np\n",
    "\n",
    "import matplotlib.pyplot as plt"
   ]
  },
  {
   "cell_type": "code",
   "execution_count": 6,
   "metadata": {},
   "outputs": [
    {
     "name": "stdout",
     "output_type": "stream",
     "text": [
      "/home/anvar/ml_ds_materials/trees/dt\r\n"
     ]
    }
   ],
   "source": [
    "!pwd"
   ]
  },
  {
   "cell_type": "code",
   "execution_count": 7,
   "metadata": {},
   "outputs": [
    {
     "name": "stderr",
     "output_type": "stream",
     "text": [
      "/home/anvar/anaconda3/lib/python3.8/site-packages/pandas/core/series.py:4517: SettingWithCopyWarning: \n",
      "A value is trying to be set on a copy of a slice from a DataFrame\n",
      "\n",
      "See the caveats in the documentation: https://pandas.pydata.org/pandas-docs/stable/user_guide/indexing.html#returning-a-view-versus-a-copy\n",
      "  return super().fillna(\n"
     ]
    }
   ],
   "source": [
    "data_train = pd.read_csv('../../_data/titanic/train.csv', index_col=0)\n",
    "data_test = pd.read_csv('../../_data/titanic/test.csv', index_col=0)\n",
    "\n",
    "num_features = ['Age', 'Fare', 'SibSp', 'Parch']\n",
    "\n",
    "data = data_train[num_features]\n",
    "X_train, X_test, y_train, y_test = train_test_split(data, data_train.Survived.values,\n",
    "                                                    shuffle=True, random_state=337)\n",
    "\n",
    "mean_age = np.round(X_train.Age.mean(), 3)\n",
    "mean_fare = np.round(X_train.Fare.mean(), 3)\n",
    "\n",
    "X_train['Age'].fillna(mean_age, inplace=True)\n",
    "X_test['Age'].fillna(mean_age, inplace=True)\n",
    "X_test['Fare'].fillna(mean_fare, inplace=True)"
   ]
  },
  {
   "cell_type": "code",
   "execution_count": 8,
   "metadata": {},
   "outputs": [
    {
     "data": {
      "text/plain": [
       "Int64Index([  1,   2,   3,   4,   5,   6,   7,   8,   9,  10,\n",
       "            ...\n",
       "            882, 883, 884, 885, 886, 887, 888, 889, 890, 891],\n",
       "           dtype='int64', name='PassengerId', length=891)"
      ]
     },
     "execution_count": 8,
     "metadata": {},
     "output_type": "execute_result"
    }
   ],
   "source": [
    "data_train.index"
   ]
  },
  {
   "cell_type": "code",
   "execution_count": 9,
   "metadata": {},
   "outputs": [
    {
     "data": {
      "text/html": [
       "<div>\n",
       "<style scoped>\n",
       "    .dataframe tbody tr th:only-of-type {\n",
       "        vertical-align: middle;\n",
       "    }\n",
       "\n",
       "    .dataframe tbody tr th {\n",
       "        vertical-align: top;\n",
       "    }\n",
       "\n",
       "    .dataframe thead th {\n",
       "        text-align: right;\n",
       "    }\n",
       "</style>\n",
       "<table border=\"1\" class=\"dataframe\">\n",
       "  <thead>\n",
       "    <tr style=\"text-align: right;\">\n",
       "      <th></th>\n",
       "      <th>Survived</th>\n",
       "      <th>Pclass</th>\n",
       "      <th>Name</th>\n",
       "      <th>Sex</th>\n",
       "      <th>Age</th>\n",
       "      <th>SibSp</th>\n",
       "      <th>Parch</th>\n",
       "      <th>Ticket</th>\n",
       "      <th>Fare</th>\n",
       "      <th>Cabin</th>\n",
       "      <th>Embarked</th>\n",
       "    </tr>\n",
       "    <tr>\n",
       "      <th>PassengerId</th>\n",
       "      <th></th>\n",
       "      <th></th>\n",
       "      <th></th>\n",
       "      <th></th>\n",
       "      <th></th>\n",
       "      <th></th>\n",
       "      <th></th>\n",
       "      <th></th>\n",
       "      <th></th>\n",
       "      <th></th>\n",
       "      <th></th>\n",
       "    </tr>\n",
       "  </thead>\n",
       "  <tbody>\n",
       "    <tr>\n",
       "      <th>1</th>\n",
       "      <td>0</td>\n",
       "      <td>3</td>\n",
       "      <td>Braund, Mr. Owen Harris</td>\n",
       "      <td>male</td>\n",
       "      <td>22.0</td>\n",
       "      <td>1</td>\n",
       "      <td>0</td>\n",
       "      <td>A/5 21171</td>\n",
       "      <td>7.2500</td>\n",
       "      <td>NaN</td>\n",
       "      <td>S</td>\n",
       "    </tr>\n",
       "    <tr>\n",
       "      <th>2</th>\n",
       "      <td>1</td>\n",
       "      <td>1</td>\n",
       "      <td>Cumings, Mrs. John Bradley (Florence Briggs Th...</td>\n",
       "      <td>female</td>\n",
       "      <td>38.0</td>\n",
       "      <td>1</td>\n",
       "      <td>0</td>\n",
       "      <td>PC 17599</td>\n",
       "      <td>71.2833</td>\n",
       "      <td>C85</td>\n",
       "      <td>C</td>\n",
       "    </tr>\n",
       "    <tr>\n",
       "      <th>3</th>\n",
       "      <td>1</td>\n",
       "      <td>3</td>\n",
       "      <td>Heikkinen, Miss. Laina</td>\n",
       "      <td>female</td>\n",
       "      <td>26.0</td>\n",
       "      <td>0</td>\n",
       "      <td>0</td>\n",
       "      <td>STON/O2. 3101282</td>\n",
       "      <td>7.9250</td>\n",
       "      <td>NaN</td>\n",
       "      <td>S</td>\n",
       "    </tr>\n",
       "    <tr>\n",
       "      <th>4</th>\n",
       "      <td>1</td>\n",
       "      <td>1</td>\n",
       "      <td>Futrelle, Mrs. Jacques Heath (Lily May Peel)</td>\n",
       "      <td>female</td>\n",
       "      <td>35.0</td>\n",
       "      <td>1</td>\n",
       "      <td>0</td>\n",
       "      <td>113803</td>\n",
       "      <td>53.1000</td>\n",
       "      <td>C123</td>\n",
       "      <td>S</td>\n",
       "    </tr>\n",
       "    <tr>\n",
       "      <th>5</th>\n",
       "      <td>0</td>\n",
       "      <td>3</td>\n",
       "      <td>Allen, Mr. William Henry</td>\n",
       "      <td>male</td>\n",
       "      <td>35.0</td>\n",
       "      <td>0</td>\n",
       "      <td>0</td>\n",
       "      <td>373450</td>\n",
       "      <td>8.0500</td>\n",
       "      <td>NaN</td>\n",
       "      <td>S</td>\n",
       "    </tr>\n",
       "  </tbody>\n",
       "</table>\n",
       "</div>"
      ],
      "text/plain": [
       "             Survived  Pclass  \\\n",
       "PassengerId                     \n",
       "1                   0       3   \n",
       "2                   1       1   \n",
       "3                   1       3   \n",
       "4                   1       1   \n",
       "5                   0       3   \n",
       "\n",
       "                                                          Name     Sex   Age  \\\n",
       "PassengerId                                                                    \n",
       "1                                      Braund, Mr. Owen Harris    male  22.0   \n",
       "2            Cumings, Mrs. John Bradley (Florence Briggs Th...  female  38.0   \n",
       "3                                       Heikkinen, Miss. Laina  female  26.0   \n",
       "4                 Futrelle, Mrs. Jacques Heath (Lily May Peel)  female  35.0   \n",
       "5                                     Allen, Mr. William Henry    male  35.0   \n",
       "\n",
       "             SibSp  Parch            Ticket     Fare Cabin Embarked  \n",
       "PassengerId                                                          \n",
       "1                1      0         A/5 21171   7.2500   NaN        S  \n",
       "2                1      0          PC 17599  71.2833   C85        C  \n",
       "3                0      0  STON/O2. 3101282   7.9250   NaN        S  \n",
       "4                1      0            113803  53.1000  C123        S  \n",
       "5                0      0            373450   8.0500   NaN        S  "
      ]
     },
     "execution_count": 9,
     "metadata": {},
     "output_type": "execute_result"
    }
   ],
   "source": [
    "data_train.head()"
   ]
  },
  {
   "cell_type": "code",
   "execution_count": 10,
   "metadata": {},
   "outputs": [
    {
     "data": {
      "text/plain": [
       "Survived                                                    1\n",
       "Pclass                                                      1\n",
       "Name        Cumings, Mrs. John Bradley (Florence Briggs Th...\n",
       "Sex                                                    female\n",
       "Age                                                        38\n",
       "SibSp                                                       1\n",
       "Parch                                                       0\n",
       "Ticket                                               PC 17599\n",
       "Fare                                                  71.2833\n",
       "Cabin                                                     C85\n",
       "Embarked                                                    C\n",
       "Name: 2, dtype: object"
      ]
     },
     "execution_count": 10,
     "metadata": {},
     "output_type": "execute_result"
    }
   ],
   "source": [
    "data_train.loc[2]"
   ]
  },
  {
   "cell_type": "code",
   "execution_count": 11,
   "metadata": {},
   "outputs": [
    {
     "data": {
      "text/plain": [
       "Survived                         1\n",
       "Pclass                           3\n",
       "Name        Heikkinen, Miss. Laina\n",
       "Sex                         female\n",
       "Age                             26\n",
       "SibSp                            0\n",
       "Parch                            0\n",
       "Ticket            STON/O2. 3101282\n",
       "Fare                         7.925\n",
       "Cabin                          NaN\n",
       "Embarked                         S\n",
       "Name: 3, dtype: object"
      ]
     },
     "execution_count": 11,
     "metadata": {},
     "output_type": "execute_result"
    }
   ],
   "source": [
    "data_train.iloc[2]"
   ]
  },
  {
   "cell_type": "code",
   "execution_count": 12,
   "metadata": {},
   "outputs": [],
   "source": [
    "KNN = KNeighborsClassifier(5)\n",
    "KNN.fit(X_train, y_train)\n",
    "y_pred = KNN.predict(X_test)\n",
    "y_pred_proba = KNN.predict_proba(X_test)"
   ]
  },
  {
   "cell_type": "code",
   "execution_count": 13,
   "metadata": {},
   "outputs": [
    {
     "name": "stdout",
     "output_type": "stream",
     "text": [
      "[[100  33]\n",
      " [ 48  42]]\n"
     ]
    }
   ],
   "source": [
    "print(confusion_matrix(y_test, y_pred))"
   ]
  },
  {
   "cell_type": "code",
   "execution_count": null,
   "metadata": {},
   "outputs": [],
   "source": []
  },
  {
   "cell_type": "markdown",
   "metadata": {},
   "source": [
    "##  Матрица ошибок (Confusion matrix)\n",
    "\n",
    "![cmat1](confusion_matrix.png)\n",
    "\n",
    "**Basic terminology**\n",
    "\n",
    "- **True Positives (TP):** мы *верно* предсказали что человек выжил\n",
    "- **True Negatives (TN):** мы *верно* предсказали что человек НЕ выжил\n",
    "- **False Positives (FP):** мы *НЕ верно* предсказали что человек выжил (Ошибка I рода, ложно-положительная)\n",
    "- **False Negatives (FN):** мы *НЕ верно* предсказали что человек НЕ выжил (Ошибка II рода, ложно-отрицательная)"
   ]
  },
  {
   "cell_type": "code",
   "execution_count": null,
   "metadata": {},
   "outputs": [],
   "source": []
  },
  {
   "cell_type": "markdown",
   "metadata": {},
   "source": [
    "#### Сохраним TP, FP, TN, FN"
   ]
  },
  {
   "cell_type": "code",
   "execution_count": 14,
   "metadata": {},
   "outputs": [],
   "source": [
    "cmat = confusion_matrix(y_test, y_pred)\n",
    "TP, TN, FP, FN = cmat[1, 1], cmat[0, 0], cmat[0, 1], cmat[1, 0]"
   ]
  },
  {
   "cell_type": "code",
   "execution_count": 15,
   "metadata": {},
   "outputs": [
    {
     "data": {
      "text/plain": [
       "array([[100,  33],\n",
       "       [ 48,  42]])"
      ]
     },
     "execution_count": 15,
     "metadata": {},
     "output_type": "execute_result"
    }
   ],
   "source": [
    "cmat"
   ]
  },
  {
   "cell_type": "code",
   "execution_count": 16,
   "metadata": {},
   "outputs": [
    {
     "data": {
      "text/plain": [
       "90"
      ]
     },
     "execution_count": 16,
     "metadata": {},
     "output_type": "execute_result"
    }
   ],
   "source": [
    "y_test.sum()"
   ]
  },
  {
   "cell_type": "code",
   "execution_count": 17,
   "metadata": {},
   "outputs": [],
   "source": [
    "def print_confusion(cmat=cmat):\n",
    "    TP, TN, FP, FN = cmat[1, 1], cmat[0, 0], cmat[0, 1], cmat[1, 0]\n",
    "    \n",
    "    print('__________________________________________________________\\n')\n",
    "    print('               Predicted \"0\"            Predicted \"1\"')\n",
    "    print('__________________________________________________________\\n')\n",
    "    print('Condition \"0\" True Negative            False Positive\\n')\n",
    "    print('                   {}                        {}'.format(TN, FP))\n",
    "    print('__________________________________________________________\\n')\n",
    "    print('Condition \"1\" False Negative           True Positive\\n')\n",
    "    print('                   {}                        {}'.format(FN, TP))\n",
    "    print('__________________________________________________________')"
   ]
  },
  {
   "cell_type": "code",
   "execution_count": 18,
   "metadata": {},
   "outputs": [
    {
     "name": "stdout",
     "output_type": "stream",
     "text": [
      "__________________________________________________________\n",
      "\n",
      "               Predicted \"0\"            Predicted \"1\"\n",
      "__________________________________________________________\n",
      "\n",
      "Condition \"0\" True Negative            False Positive\n",
      "\n",
      "                   100                        33\n",
      "__________________________________________________________\n",
      "\n",
      "Condition \"1\" False Negative           True Positive\n",
      "\n",
      "                   48                        42\n",
      "__________________________________________________________\n"
     ]
    }
   ],
   "source": [
    "print_confusion(cmat)"
   ]
  },
  {
   "cell_type": "markdown",
   "metadata": {},
   "source": [
    "#### Удобно считать если есть соответствующий pandas.DataFrame"
   ]
  },
  {
   "cell_type": "code",
   "execution_count": 19,
   "metadata": {},
   "outputs": [
    {
     "data": {
      "text/html": [
       "<div>\n",
       "<style scoped>\n",
       "    .dataframe tbody tr th:only-of-type {\n",
       "        vertical-align: middle;\n",
       "    }\n",
       "\n",
       "    .dataframe tbody tr th {\n",
       "        vertical-align: top;\n",
       "    }\n",
       "\n",
       "    .dataframe thead th {\n",
       "        text-align: right;\n",
       "    }\n",
       "</style>\n",
       "<table border=\"1\" class=\"dataframe\">\n",
       "  <thead>\n",
       "    <tr style=\"text-align: right;\">\n",
       "      <th>Predicted value</th>\n",
       "      <th>0</th>\n",
       "      <th>1</th>\n",
       "      <th>All</th>\n",
       "    </tr>\n",
       "    <tr>\n",
       "      <th>True value</th>\n",
       "      <th></th>\n",
       "      <th></th>\n",
       "      <th></th>\n",
       "    </tr>\n",
       "  </thead>\n",
       "  <tbody>\n",
       "    <tr>\n",
       "      <th>0</th>\n",
       "      <td>100</td>\n",
       "      <td>33</td>\n",
       "      <td>133</td>\n",
       "    </tr>\n",
       "    <tr>\n",
       "      <th>1</th>\n",
       "      <td>48</td>\n",
       "      <td>42</td>\n",
       "      <td>90</td>\n",
       "    </tr>\n",
       "    <tr>\n",
       "      <th>All</th>\n",
       "      <td>148</td>\n",
       "      <td>75</td>\n",
       "      <td>223</td>\n",
       "    </tr>\n",
       "  </tbody>\n",
       "</table>\n",
       "</div>"
      ],
      "text/plain": [
       "Predicted value    0   1  All\n",
       "True value                   \n",
       "0                100  33  133\n",
       "1                 48  42   90\n",
       "All              148  75  223"
      ]
     },
     "execution_count": 19,
     "metadata": {},
     "output_type": "execute_result"
    }
   ],
   "source": [
    "cmatrix = pd.DataFrame(data=y_test, columns=['True value'])\n",
    "cmatrix['Predicted value'] = y_pred\n",
    "\n",
    "pd.crosstab(index=cmatrix['True value'], columns=cmatrix['Predicted value'], margins='all')"
   ]
  },
  {
   "cell_type": "code",
   "execution_count": null,
   "metadata": {},
   "outputs": [],
   "source": []
  },
  {
   "cell_type": "markdown",
   "metadata": {},
   "source": [
    "##  Метрики получаемые из Confusion Matrix\n",
    "\n",
    "1. **Accuracy**\n",
    "2. Sensitivity (=True Positive Rate, Recall)\n",
    "3. Specificity\n",
    "4. Precision\n",
    "4. ~~AUC ROC~~\n",
    "5. ~~AUC PR~~\n",
    "6. F1-score\n",
    "\n"
   ]
  },
  {
   "cell_type": "markdown",
   "metadata": {},
   "source": [
    "----\n",
    "\n",
    "**Accuracy**: Доля объектов чьи метки были предсказаны верно \n"
   ]
  },
  {
   "cell_type": "code",
   "execution_count": 20,
   "metadata": {},
   "outputs": [
    {
     "name": "stdout",
     "output_type": "stream",
     "text": [
      "0.6367713004484304\n"
     ]
    }
   ],
   "source": [
    "accuracy = (TP + TN) / (TP + FP + FN + TN)\n",
    "print(accuracy)"
   ]
  },
  {
   "cell_type": "markdown",
   "metadata": {},
   "source": [
    "----\n",
    "\n",
    "**Misclassification rate = 1 - Accuracy**: Доля объектов чьи метки были предсказаны НЕ верно"
   ]
  },
  {
   "cell_type": "code",
   "execution_count": 21,
   "metadata": {},
   "outputs": [
    {
     "name": "stdout",
     "output_type": "stream",
     "text": [
      "0.663677130044843\n"
     ]
    }
   ],
   "source": [
    "error_rate = 1 - (TP + FP) / (TP + FP + FN + TN)\n",
    "print(error_rate)"
   ]
  },
  {
   "cell_type": "code",
   "execution_count": null,
   "metadata": {},
   "outputs": [],
   "source": []
  },
  {
   "cell_type": "markdown",
   "metadata": {},
   "source": [
    "----\n",
    "\n",
    "**Sensitivity**: доля положительных результатов, которые правильно идентифицированы как положительные \n",
    "* Насколько классификатор *чувствителен* к обнаружению положительных примеров (примеров класса 1). Другие названя: True Positive Rate, **Recall**"
   ]
  },
  {
   "cell_type": "code",
   "execution_count": 22,
   "metadata": {},
   "outputs": [
    {
     "name": "stdout",
     "output_type": "stream",
     "text": [
      "__________________________________________________________\n",
      "\n",
      "               Predicted \"0\"            Predicted \"1\"\n",
      "__________________________________________________________\n",
      "\n",
      "Condition \"0\" True Negative            False Positive\n",
      "\n",
      "                   100                        33\n",
      "__________________________________________________________\n",
      "\n",
      "Condition \"1\" False Negative           True Positive\n",
      "\n",
      "                   48                        42\n",
      "__________________________________________________________\n"
     ]
    }
   ],
   "source": [
    "print_confusion()"
   ]
  },
  {
   "cell_type": "code",
   "execution_count": 23,
   "metadata": {},
   "outputs": [
    {
     "name": "stdout",
     "output_type": "stream",
     "text": [
      "0.4666666666666667\n"
     ]
    }
   ],
   "source": [
    "sensitivity = TP / (TP + FN)\n",
    "print(sensitivity)"
   ]
  },
  {
   "cell_type": "code",
   "execution_count": null,
   "metadata": {},
   "outputs": [],
   "source": []
  },
  {
   "cell_type": "markdown",
   "metadata": {},
   "source": [
    "------\n",
    "\n",
    "**Specificity**: доля отрицательных результатов, которые правильно идентифицированы как отрицательные\n"
   ]
  },
  {
   "cell_type": "code",
   "execution_count": 24,
   "metadata": {},
   "outputs": [
    {
     "name": "stdout",
     "output_type": "stream",
     "text": [
      "__________________________________________________________\n",
      "\n",
      "               Predicted \"0\"            Predicted \"1\"\n",
      "__________________________________________________________\n",
      "\n",
      "Condition \"0\" True Negative            False Positive\n",
      "\n",
      "                   100                        33\n",
      "__________________________________________________________\n",
      "\n",
      "Condition \"1\" False Negative           True Positive\n",
      "\n",
      "                   48                        42\n",
      "__________________________________________________________\n"
     ]
    }
   ],
   "source": [
    "print_confusion()"
   ]
  },
  {
   "cell_type": "code",
   "execution_count": 25,
   "metadata": {},
   "outputs": [
    {
     "name": "stdout",
     "output_type": "stream",
     "text": [
      "0.7518796992481203\n"
     ]
    }
   ],
   "source": [
    "specificity = TN / (TN + FP)\n",
    "print(specificity)"
   ]
  },
  {
   "cell_type": "code",
   "execution_count": null,
   "metadata": {},
   "outputs": [],
   "source": []
  },
  {
   "cell_type": "markdown",
   "metadata": {},
   "source": [
    "-----\n",
    "\n",
    "**Precision** доля верно предсказанных положительных результатов\n",
    "* Какую часть 1 классификатор предсказал верно (от числа всех 1)?"
   ]
  },
  {
   "cell_type": "code",
   "execution_count": 26,
   "metadata": {},
   "outputs": [
    {
     "name": "stdout",
     "output_type": "stream",
     "text": [
      "__________________________________________________________\n",
      "\n",
      "               Predicted \"0\"            Predicted \"1\"\n",
      "__________________________________________________________\n",
      "\n",
      "Condition \"0\" True Negative            False Positive\n",
      "\n",
      "                   100                        33\n",
      "__________________________________________________________\n",
      "\n",
      "Condition \"1\" False Negative           True Positive\n",
      "\n",
      "                   48                        42\n",
      "__________________________________________________________\n"
     ]
    }
   ],
   "source": [
    "print_confusion()"
   ]
  },
  {
   "cell_type": "code",
   "execution_count": 27,
   "metadata": {},
   "outputs": [
    {
     "name": "stdout",
     "output_type": "stream",
     "text": [
      "0.56\n"
     ]
    }
   ],
   "source": [
    "precision = TP / (TP + FP)\n",
    "print(precision)"
   ]
  },
  {
   "cell_type": "markdown",
   "metadata": {},
   "source": [
    "ПОПРАВИТЬ В ТАБЛИЦЕ НИЖЕ RECALL & TPR"
   ]
  },
  {
   "cell_type": "markdown",
   "metadata": {},
   "source": [
    "\n",
    "### На какую метрику ориентироваться?\n",
    "\n",
    "* Выбор метрики зависит от конкретной прикладной задачи:\n",
    "    * Спам-фильтр (**Класс 1 - Спам**): *False negative* (спам проходит) приемлимо, а вот *False positive* (реальное письмо отфильтровывается) совершенно неприемлимо.\n",
    "    * Детекция подозрительной банковской операции (**Класс 1 - Операция проведена злоумышленниками**): *False positive* (операция клиента заблокирована) приемлимо, а вот *False negative* (операция проведенная злоумышленниками пропущена) совершенно неприемлимо.\n",
    "    \n",
    "### Окей, как нам максимизировать/минимизировать какую то из этих ошибок если у нас есть конкретный классификатор?"
   ]
  },
  {
   "cell_type": "code",
   "execution_count": null,
   "metadata": {},
   "outputs": [],
   "source": []
  },
  {
   "cell_type": "markdown",
   "metadata": {},
   "source": [
    "## Выбор порогового значения предсказания (threshold)"
   ]
  },
  {
   "cell_type": "markdown",
   "metadata": {},
   "source": [
    "Мы разобрали что такое Матрица ошибок (**Confusion Matrix**) и она строится на основе вектора предсказанных классов однако все классификаторы с которыми мы познакомились умеют для всякого нового объекта предсказывать **вероятность** его принадлежности тому или иному классу (в sklearn это реализовано ввиде метода *.predict_proba()*).\n",
    "\n",
    "* Например Метод **k Ближайших Соседей** (KNN) на этапе предсказания смотрит на метки соседей и вероятность принадлежности классу 1 равна доле соседей с меткой 1, а вероятность принадлежности классу 0 - доле соседей с меткой 0.\n",
    "* Метод **Решающего дерева** смотрит на долю объектов в листе в который попал тестовый объект.\n",
    "* Метод **Логистической регрессии** смотрит на взвешенное расстояние до решающей гиперплоскости (взвешенное с помощью логистической функции).\n",
    "\n",
    "и так далее.\n",
    "\n",
    "Для получения предсказания класса вектор вероятности обрубается по порогу (threshold, $t$). По умолчанию используется пороговое значение \n",
    "$$\n",
    "t = 0.5\n",
    "$$\n",
    "\n",
    "Т.е. \n",
    "\n",
    "$$\n",
    "y(x)=\\left\\{\n",
    "                \\begin{array}{ll}\n",
    "                  1, x \\geq 0.5\\\\\n",
    "                  0, x < 0.5\n",
    "                  \\end{array}\n",
    "              \\right.\n",
    "$$\n",
    "\n",
    "\n",
    "**ОДИН И ТОТ ЖЕ** вектор вероятностей при использовании разных $t$ может приводить к **РАЗНЫМ** векторам предсказаний классов, например:\n",
    "\n",
    "$$\n",
    "[0.3, 0.55, 0.6, 0.8] \\rightarrow [0, 1, 1, 1]\n",
    "$$\n",
    "\n",
    "при использовании порога $0.5$, и:\n",
    "\n",
    "$$\n",
    "[0.3, 0.55, 0.6, 0.8] \\rightarrow [0, 0, 0, 1]\n",
    "$$\n",
    "\n",
    "при использовании порога $0.7$\n",
    "\n",
    "Что в результате повлияет на значения в Матрице ошибок и на все метрики котрые считаются на ее основе:"
   ]
  },
  {
   "cell_type": "code",
   "execution_count": 28,
   "metadata": {},
   "outputs": [],
   "source": [
    "def cmatrix_at_treshold(y_true, y_predicted_proba, threshold=.5):\n",
    "    return confusion_matrix(y_true,\n",
    "                            np.where(y_predicted_proba[:, 1] >= threshold, 1, 0))"
   ]
  },
  {
   "cell_type": "code",
   "execution_count": 29,
   "metadata": {},
   "outputs": [],
   "source": [
    "cmat50 = cmatrix_at_treshold(y_test, y_pred_proba, threshold=.5)\n",
    "cmat25 = cmatrix_at_treshold(y_test, y_pred_proba, threshold=.25)\n",
    "cmat75 = cmatrix_at_treshold(y_test, y_pred_proba, threshold=.75)\n",
    "cmat100 = cmatrix_at_treshold(y_test, y_pred_proba, threshold=1)\n",
    "cmat0 = cmatrix_at_treshold(y_test, y_pred_proba, threshold=0)"
   ]
  },
  {
   "cell_type": "code",
   "execution_count": 30,
   "metadata": {},
   "outputs": [
    {
     "name": "stdout",
     "output_type": "stream",
     "text": [
      "__________________________________________________________\n",
      "\n",
      "               Predicted \"0\"            Predicted \"1\"\n",
      "__________________________________________________________\n",
      "\n",
      "Condition \"0\" True Negative            False Positive\n",
      "\n",
      "                   0                        133\n",
      "__________________________________________________________\n",
      "\n",
      "Condition \"1\" False Negative           True Positive\n",
      "\n",
      "                   0                        90\n",
      "__________________________________________________________\n"
     ]
    }
   ],
   "source": [
    "print_confusion(cmat0)"
   ]
  },
  {
   "cell_type": "code",
   "execution_count": 31,
   "metadata": {},
   "outputs": [
    {
     "data": {
      "text/plain": [
       "array([[  0, 133],\n",
       "       [  0,  90]])"
      ]
     },
     "execution_count": 31,
     "metadata": {},
     "output_type": "execute_result"
    }
   ],
   "source": [
    "cmat0"
   ]
  },
  {
   "cell_type": "code",
   "execution_count": 32,
   "metadata": {},
   "outputs": [
    {
     "data": {
      "text/plain": [
       "array([[79, 54],\n",
       "       [34, 56]])"
      ]
     },
     "execution_count": 32,
     "metadata": {},
     "output_type": "execute_result"
    }
   ],
   "source": [
    "cmat25"
   ]
  },
  {
   "cell_type": "code",
   "execution_count": 33,
   "metadata": {},
   "outputs": [
    {
     "data": {
      "text/plain": [
       "array([[100,  33],\n",
       "       [ 48,  42]])"
      ]
     },
     "execution_count": 33,
     "metadata": {},
     "output_type": "execute_result"
    }
   ],
   "source": [
    "cmat50"
   ]
  },
  {
   "cell_type": "code",
   "execution_count": 34,
   "metadata": {},
   "outputs": [
    {
     "data": {
      "text/plain": [
       "array([[121,  12],\n",
       "       [ 64,  26]])"
      ]
     },
     "execution_count": 34,
     "metadata": {},
     "output_type": "execute_result"
    }
   ],
   "source": [
    "cmat75"
   ]
  },
  {
   "cell_type": "code",
   "execution_count": 35,
   "metadata": {},
   "outputs": [
    {
     "data": {
      "text/plain": [
       "array([[130,   3],\n",
       "       [ 85,   5]])"
      ]
     },
     "execution_count": 35,
     "metadata": {},
     "output_type": "execute_result"
    }
   ],
   "source": [
    "cmat100"
   ]
  },
  {
   "cell_type": "markdown",
   "metadata": {},
   "source": [
    "Входные данные:\n",
    "\n",
    "* 223 объекта\n",
    "    * 133 класса \"0\"\n",
    "    * 90 класса \"1\"\n",
    "\n",
    "Что происходит с нашей **Матрицей ошибок** при увеличении threshold ?\n",
    "\n",
    "---\n",
    "\n",
    "1. threshold = 0. Все наблюдения предсказываются как класс \"1\":\n",
    "    * **False Positive** = 133\n",
    "    * **True Positive** = 90\n",
    "    * **True Negative** = 0\n",
    "    * **False Negative** = 0\n",
    "    * Specificity = $\\frac{TN}{TN + FP} = 0$\n",
    "    * Sensitivity = $\\frac{TP}{TP + FN} = 1$\n",
    "    \n",
    "---\n",
    "    \n",
    "2. threshold = 0.25. Какая-то часть объектов начинает предсказываться как \"0\":\n",
    "    * **False Positive** = 54\n",
    "    * **True Positive** = 56\n",
    "    * **True Negative** = 79\n",
    "    * **False Negative** = 34\n",
    "    * Specificity = $\\frac{TN}{TN + FP} = 0.59$\n",
    "    * Sensitivity = $\\frac{TP}{TP + FN} = 0.64$\n",
    "---\n",
    "    \n",
    "3. threshold = 0.75. Увеличивая пороговое значение мы уменьшаем число объектов предсказываемых как \"1\" и увеличиваем число объектов предсказываемых как 0:\n",
    "    * **False Positive** = 12\n",
    "    * **True Positive** = 26\n",
    "    * **True Negative** = 121\n",
    "    * **False Negative** = 64\n",
    "    * Specificity = $\\frac{TN}{TN + FP} = 0.9$\n",
    "    * Sensitivity = $\\frac{TP}{TP + FN} = 0.3$\n",
    "    \n",
    "    \n",
    "---\n",
    "    \n",
    "4. threshold = 1. Наконец все объекты (за исключением тех, которые предсказаны классом \"1\" c *вероятностью* 1) предсказываются классом \"0\":\n",
    "    * **False Positive** = 3\n",
    "    * **True Positive** = 5\n",
    "    * **True Negative** = 130\n",
    "    * **False Negative** = 85\n",
    "    * Specificity = $\\frac{TN}{TN + FP} = 0.98$\n",
    "    * Sensitivity = $\\frac{TP}{TP + FN} = 0.05$\n",
    "    \n",
    "Таким образом балансируя пороговое значение мы можем получать классификаторы с разными **чувствительностью и специфичностью** . \n",
    "\n",
    "------"
   ]
  },
  {
   "cell_type": "markdown",
   "metadata": {},
   "source": [
    "Кривая изменения **Чувствительности** и **Специфичности** в зависимости от выбранного порога называется ROC кривой.\n",
    "\n",
    "\n",
    "### ROC curve"
   ]
  },
  {
   "cell_type": "code",
   "execution_count": 36,
   "metadata": {},
   "outputs": [],
   "source": [
    "fpr, tpr, thresholds = roc_curve(y_test, y_pred_proba[:, 1])"
   ]
  },
  {
   "cell_type": "code",
   "execution_count": 38,
   "metadata": {},
   "outputs": [],
   "source": [
    "font = {'size'   : 22} \n",
    "plt.rc('font', **font)"
   ]
  },
  {
   "cell_type": "code",
   "execution_count": 39,
   "metadata": {},
   "outputs": [
    {
     "data": {
      "image/png": "[encoded data removed]",
      "text/plain": [
       "<Figure size 720x720 with 1 Axes>"
      ]
     },
     "metadata": {
      "needs_background": "light"
     },
     "output_type": "display_data"
    }
   ],
   "source": [
    "plt.figure(figsize=(10,10))\n",
    "\n",
    "plt.plot(fpr, tpr)\n",
    "\n",
    "for f,t,thresh in zip(fpr[1:-1], tpr[1:], thresholds[1:-1]):\n",
    "\n",
    "    plt.scatter(f, t)\n",
    "    plt.plot([f, f+0.1], [t, t], ls='--', c='r')\n",
    "    plt.text(f+.1, t-.01, 't = ${:.1f}$'.format(thresh))\n",
    "\n",
    "plt.ylabel('Sensitivity')\n",
    "plt.xlabel('1 - Specificity');\n",
    "plt.plot([0,1], [0,1], ls='--', lw=.66)\n",
    "plt.grid()\n",
    "plt.xlim([0, 1])\n",
    "plt.ylim([0,1]);\n",
    "\n",
    "# plt.text()"
   ]
  },
  {
   "cell_type": "markdown",
   "metadata": {},
   "source": [
    "Уменьшая пороговое значение мы движемся по этой кривой слева - направо, снизу - вверх.\n",
    "Часто бывает что необходимо чтобы классификатор достигал определенного уровня Sensitivity или определенного уровня\n",
    "Specificity этого можно достичь выбрав соответствующий порог предсказания.\n"
   ]
  },
  {
   "cell_type": "markdown",
   "metadata": {},
   "source": [
    "\n",
    "----\n",
    "\n",
    "\n",
    "## AUC ROC\n",
    "\n",
    "Несмотря на то что пороговое значение влияет на величины Чувствительности и Специфичности, одна величина на этом\n",
    "графике остается неизменной - Площадь под графиком.\n",
    "\n",
    "Площадь под ROC кривой носит название ROC AUC (или AUC ROC):\n",
    "\n",
    "Area Under the Curve Reciever Operator Characteristic\n",
    "\n",
    "https://people.inf.elte.hu/kiss/13dwhdm/roc.pdf"
   ]
  },
  {
   "cell_type": "code",
   "execution_count": null,
   "metadata": {},
   "outputs": [],
   "source": []
  },
  {
   "cell_type": "code",
   "execution_count": 40,
   "metadata": {},
   "outputs": [],
   "source": [
    "from sklearn.metrics import roc_auc_score"
   ]
  },
  {
   "cell_type": "code",
   "execution_count": 41,
   "metadata": {},
   "outputs": [
    {
     "data": {
      "text/plain": [
       "0.6399331662489558"
      ]
     },
     "execution_count": 41,
     "metadata": {},
     "output_type": "execute_result"
    }
   ],
   "source": [
    "roc_auc_score(y_test, y_pred_proba[:, 1])"
   ]
  },
  {
   "cell_type": "code",
   "execution_count": null,
   "metadata": {},
   "outputs": [],
   "source": []
  },
  {
   "cell_type": "markdown",
   "metadata": {},
   "source": [
    "------\n",
    "\n",
    "\n",
    "Метрика которая в некотором смысле балансирует между Precision и Recall (Specificity) назвается\n",
    "\n",
    "### F1-score\n",
    "\n",
    "И это просто Гармоническое среднее Precision и Recall:\n",
    "\n",
    "$$\n",
    "F_1 = 2\\times \\frac{\\text{Precision} \\times \\text{Recall}}{\\text{Precision}+\\text{Recall}}\n",
    "$$\n",
    "\n",
    "\n",
    "Ее легко обобщить для того чтобы учитывать одну из характеристик сильнее другой:\n",
    "\n",
    "$$\n",
    "F_1 = (1 + \\beta^2)\\times \\frac{\\text{Precision} \\times \\text{Recall}}{\\beta^2 \\times\\text{Precision}+\\text{Recall}}\n",
    "$$\n",
    "\n",
    "\n",
    "https://en.wikipedia.org/wiki/F1_score\n",
    "\n",
    "-----"
   ]
  },
  {
   "cell_type": "markdown",
   "metadata": {},
   "source": [
    "Аналог ROC кривой но уже изменение Precision и Recall при изменении параметра порога (**threshold**) носит название Precision Recall кривой, и конечно есть метрика Площадь под PR кривой\n",
    "\n",
    "### AUC PR"
   ]
  },
  {
   "cell_type": "markdown",
   "metadata": {},
   "source": [
    "Сравнительный анализ ROC и PR кривых можно найти в этом посте\n",
    "\n",
    "http://www.chioka.in/differences-between-roc-auc-and-pr-auc/\n",
    "\n",
    "Подробный разбор в этой статье\n",
    "\n",
    "http://pages.cs.wisc.edu/~jdavis/davisgoadrichcamera2.pdf\n",
    "\n",
    "------"
   ]
  },
  {
   "cell_type": "markdown",
   "metadata": {},
   "source": [
    "Хорошее объяснение вышеперечисленных метрик, а так же дополнительные материалы можно найти здесь\n",
    "https://www.youtube.com/watch?v=85dtiMz9tSo\n",
    "\n",
    "а так же в нотбуке к видео https://github.com/justmarkham/scikit-learn-videos/blob/master/09_classification_metrics.ipynb"
   ]
  },
  {
   "cell_type": "code",
   "execution_count": null,
   "metadata": {},
   "outputs": [],
   "source": []
  },
  {
   "cell_type": "code",
   "execution_count": null,
   "metadata": {},
   "outputs": [],
   "source": []
  },
  {
   "cell_type": "code",
   "execution_count": null,
   "metadata": {},
   "outputs": [],
   "source": []
  },
  {
   "cell_type": "markdown",
   "metadata": {},
   "source": [
    "# 2. Деревья решений для классификации (продолжение)\n",
    "\n",
    "На прошлом занятии мы разобрали идею Деревьев решений:\n",
    "\n",
    "![DecisionTree](tree1.png)\n",
    "\n",
    "\n",
    "Давайте теперь разберемся **как происходит разделения в каждом узле** то есть как проходит этап **обучения модели**. Есть как минимум две причины в этом разобраться : во-первых это позволит нам решать задачи классификации на 3 и более классов, во-вторых это даст нам возможность считать *важность* признаков в обученной модели.\n",
    "\n",
    "Для начала посмотрим какие бывают деревья решений"
   ]
  },
  {
   "cell_type": "markdown",
   "metadata": {},
   "source": [
    "\n",
    "----\n",
    "Дерево решений вообще говоря **не обязано быть бинарным**, на практике однако используются именно бинарные деревья, поскольку для любоого не бинарного дерева решений **можно построить бинарное** (при этом увеличится глубина дерева).\n",
    "\n",
    "### 1. Деревья решений использую простой одномерный предикат для разделения объектов\n",
    "\n",
    "Имеется ввиду что в каждом узле разделение объектов (и создание двух новых узлов) происходит **по 1 (одному)** признаку: \n",
    "\n",
    "*Все объекты со значением некоторого признака меньше трешхолда отправляются в один узел, а больше - в другой:*\n",
    "\n",
    "$$\n",
    "[x_j < t]\n",
    "$$\n",
    "\n",
    "Вообще говоря это совсем не обязательно, например в каждом отдельном узле можно строить любую модель (например логистическую регрессию или KNN), рассматривая сразу несколько признаков.\n",
    "\n",
    "### 2. Оценка качества \n",
    "\n",
    "Мы говорили про простой функционал качества разбиения (**выбора трешхолда**): количество ошибок (1-accuracy). \n",
    "На практике используются два критерия: Gini's impurity index и Information gain.\n",
    "\n",
    "**Индекс Джини**\n",
    "$$\n",
    "I_{Gini} = 1 - \\sum_i^K p_i^2 \n",
    "$$\n",
    "\n",
    "где $K$ - количество классов, a $p_i = \\frac{|n_i|}{n}$ - доля представителей $i$ - ого класса в данном узле\n",
    "\n",
    "\n",
    "**Энтропия**\n",
    "\n",
    "$$\n",
    "H(p) = - \\sum_i^K p_i\\log(p_i)\n",
    "$$\n",
    "\n",
    "**Информационный критерий**\n",
    "$$\n",
    "IG(p) = H(\\text{parent}) - H(\\text{child})\n",
    "$$\n",
    "\n",
    "\n",
    "#### Разделение производится по тому трешхолду и тому признаку по которому взвешенное среднее функционала качества в узлах потомках наименьшее.\n",
    "\n",
    "\n",
    "### 3. Критерий остановки\n",
    "\n",
    "Мы с вами говорили о таких параметрах Решающего дерева как минимальное число объектов в листе,\n",
    "и минимальное число объектов в узле, для того чтобы он был разделен на два. Еще один критерий - \n",
    "глубина дерева. Возможны и другие.\n",
    "\n",
    "* Ограничение числа объектов в листе\n",
    "* Ограничение числа объектов в узле, для того чтобы он был разделен\n",
    "* Ограничение глубины дерева\n",
    "* Ограничение минимального прироста Энтропии или Информационного критерия при разделении\n",
    "* Остановка в случае если все объекты в листе принадлежат к одному классу\n",
    "\n",
    "На прошлой лекции мы обсуждали технику которая называется **Прунинг** (pruning) это альтернатива Критериям остановки, когда сначала строится переобученное дерево, а затем она каким то образом упрощается. На практике по ряду причин чаще используются критерии остановки, а не прунинг.\n",
    "\n",
    "Подробнее см. https://github.com/esokolov/ml-course-hse/blob/master/2018-fall/lecture-notes/lecture07-trees.pdf\n",
    "\n",
    "Оссобенности разбиения непрерывных признаков\n",
    "* http://kevinmeurer.com/a-simple-guide-to-entropy-based-discretization/\n",
    "* http://clear-lines.com/blog/post/Discretizing-a-continuous-variable-using-Entropy.aspx\n",
    "---"
   ]
  },
  {
   "cell_type": "markdown",
   "metadata": {},
   "source": [
    "## 2.1. Оценка качества разделения в узле"
   ]
  },
  {
   "cell_type": "code",
   "execution_count": null,
   "metadata": {},
   "outputs": [],
   "source": []
  },
  {
   "cell_type": "code",
   "execution_count": 42,
   "metadata": {},
   "outputs": [],
   "source": [
    "def gini_impurity(y_current):\n",
    "    \n",
    "    n = y_current.shape[0]\n",
    "    val, count = np.unique(y_current, return_counts=True)\n",
    "    gini = 1 - ((count/n)**2).sum()\n",
    "        \n",
    "    return gini\n",
    "\n",
    "def entropy(y_current):\n",
    "    \n",
    "    gini = 1\n",
    "    n = y_current.shape[0]\n",
    "    val, count = np.unique(y_current, return_counts=True)\n",
    "    p = count/n\n",
    "    igain = p.dot(np.log(p))\n",
    "    \n",
    "    return igain"
   ]
  },
  {
   "cell_type": "code",
   "execution_count": 43,
   "metadata": {},
   "outputs": [],
   "source": [
    "n = 100\n",
    "Y_example = np.zeros((100,100))\n",
    "\n",
    "for i in range(100):\n",
    "    for j in range(i, 100):\n",
    "        Y_example[i, j] = 1\n",
    "        \n",
    "gini = [gini_impurity(y) for y in Y_example]\n",
    "ig = [-entropy(y) for y in Y_example]"
   ]
  },
  {
   "cell_type": "code",
   "execution_count": null,
   "metadata": {},
   "outputs": [],
   "source": []
  },
  {
   "cell_type": "code",
   "execution_count": 44,
   "metadata": {},
   "outputs": [
    {
     "data": {
      "image/png": "[encoded data removed]",
      "text/plain": [
       "<Figure size 504x504 with 1 Axes>"
      ]
     },
     "metadata": {
      "needs_background": "light"
     },
     "output_type": "display_data"
    }
   ],
   "source": [
    "plt.figure(figsize=(7,7))\n",
    "\n",
    "plt.plot(np.linspace(0,1,100), gini, label='Index Gini');\n",
    "plt.plot(np.linspace(0,1,100), ig, label ='Entropy');\n",
    "plt.legend()\n",
    "plt.xlabel('Доля примеров\\n положительного класса')\n",
    "plt.ylabel('Значение оптимизируемого\\n функционала');"
   ]
  },
  {
   "cell_type": "code",
   "execution_count": null,
   "metadata": {},
   "outputs": [],
   "source": []
  },
  {
   "cell_type": "markdown",
   "metadata": {},
   "source": [
    "## 2.2. Пример работы Решающего дерева"
   ]
  },
  {
   "cell_type": "code",
   "execution_count": null,
   "metadata": {},
   "outputs": [],
   "source": []
  },
  {
   "cell_type": "markdown",
   "metadata": {},
   "source": [
    "**Индекс Джини** и **Информационный критерий** это меры сбалансированности вектора (насколько значения объектов в наборе однородны). Максимальная неоднородность когда объектов разных классов поровну. Максимальная однородность когда в наборе объекты одного класса. \n",
    "\n",
    "Разбивая множество объектов на два подмножества, мы стремимся уменьшить неоднородность в каждом подмножестве.\n",
    "Посмотрем на примере Ирисов Фишера"
   ]
  },
  {
   "cell_type": "code",
   "execution_count": null,
   "metadata": {},
   "outputs": [],
   "source": []
  },
  {
   "cell_type": "markdown",
   "metadata": {},
   "source": [
    "### Ирисы Фишера"
   ]
  },
  {
   "cell_type": "code",
   "execution_count": null,
   "metadata": {},
   "outputs": [],
   "source": []
  },
  {
   "cell_type": "code",
   "execution_count": 45,
   "metadata": {},
   "outputs": [],
   "source": [
    "from sklearn.datasets import load_iris\n",
    "from sklearn.tree import DecisionTreeClassifier\n",
    "\n",
    "\n",
    "iris = load_iris()\n",
    "model = DecisionTreeClassifier()\n",
    "model = model.fit(iris.data, iris.target)"
   ]
  },
  {
   "cell_type": "code",
   "execution_count": 46,
   "metadata": {},
   "outputs": [],
   "source": [
    "feature_names = ['sepal length', 'sepal width',  'petal length',  'petal width']\n",
    "target_names = ['setosa', 'versicolor', 'virginica']"
   ]
  },
  {
   "cell_type": "code",
   "execution_count": 47,
   "metadata": {},
   "outputs": [
    {
     "data": {
      "text/plain": [
       "array([0.01333333, 0.01333333, 0.55072262, 0.42261071])"
      ]
     },
     "execution_count": 47,
     "metadata": {},
     "output_type": "execute_result"
    }
   ],
   "source": [
    "model.feature_importances_"
   ]
  },
  {
   "cell_type": "code",
   "execution_count": 45,
   "metadata": {},
   "outputs": [
    {
     "data": {
      "text/plain": [
       "array([1, 1, 0, 0, 0, 0, 0, 0, 0, 0, 0, 0, 0, 0, 0, 0, 0])"
      ]
     },
     "execution_count": 45,
     "metadata": {},
     "output_type": "execute_result"
    }
   ],
   "source": [
    "np.array(model.decision_path(iris.data).todense())[0]"
   ]
  },
  {
   "cell_type": "code",
   "execution_count": 46,
   "metadata": {},
   "outputs": [
    {
     "data": {
      "text/plain": [
       "array([1, 0, 1, 1, 1, 1, 0, 0, 0, 0, 0, 0, 0, 0, 0, 0, 0])"
      ]
     },
     "execution_count": 46,
     "metadata": {},
     "output_type": "execute_result"
    }
   ],
   "source": [
    "np.array(model.decision_path(iris.data).todense())[90]"
   ]
  },
  {
   "cell_type": "code",
   "execution_count": 48,
   "metadata": {},
   "outputs": [
    {
     "data": {
      "text/plain": [
       "array([5.1, 3.5, 1.4, 0.2])"
      ]
     },
     "execution_count": 48,
     "metadata": {},
     "output_type": "execute_result"
    }
   ],
   "source": [
    "iris.data[0]"
   ]
  },
  {
   "cell_type": "code",
   "execution_count": 49,
   "metadata": {},
   "outputs": [
    {
     "data": {
      "text/plain": [
       "array([0, 0, 0, 0, 0, 0, 0, 0, 0, 0, 0, 0, 0, 0, 0, 0, 0, 0, 0, 0, 0, 0,\n",
       "       0, 0, 0, 0, 0, 0, 0, 0, 0, 0, 0, 0, 0, 0, 0, 0, 0, 0, 0, 0, 0, 0,\n",
       "       0, 0, 0, 0, 0, 0, 1, 1, 1, 1, 1, 1, 1, 1, 1, 1, 1, 1, 1, 1, 1, 1,\n",
       "       1, 1, 1, 1, 1, 1, 1, 1, 1, 1, 1, 1, 1, 1, 1, 1, 1, 1, 1, 1, 1, 1,\n",
       "       1, 1, 1, 1, 1, 1, 1, 1, 1, 1, 1, 1, 2, 2, 2, 2, 2, 2, 2, 2, 2, 2,\n",
       "       2, 2, 2, 2, 2, 2, 2, 2, 2, 2, 2, 2, 2, 2, 2, 2, 2, 2, 2, 2, 2, 2,\n",
       "       2, 2, 2, 2, 2, 2, 2, 2, 2, 2, 2, 2, 2, 2, 2, 2, 2, 2])"
      ]
     },
     "execution_count": 49,
     "metadata": {},
     "output_type": "execute_result"
    }
   ],
   "source": [
    "model.predict(iris.data)"
   ]
  },
  {
   "cell_type": "code",
   "execution_count": 50,
   "metadata": {},
   "outputs": [
    {
     "data": {
      "text/plain": [
       "17"
      ]
     },
     "execution_count": 50,
     "metadata": {},
     "output_type": "execute_result"
    }
   ],
   "source": [
    "model.tree_.node_count"
   ]
  },
  {
   "cell_type": "code",
   "execution_count": null,
   "metadata": {},
   "outputs": [],
   "source": []
  },
  {
   "cell_type": "markdown",
   "metadata": {},
   "source": [
    "### Цифры. Интерпретируемость"
   ]
  },
  {
   "cell_type": "code",
   "execution_count": 51,
   "metadata": {},
   "outputs": [],
   "source": [
    "from sklearn.datasets import load_digits\n",
    "\n",
    "X, y = load_digits(n_class=2, return_X_y=True)"
   ]
  },
  {
   "cell_type": "code",
   "execution_count": 52,
   "metadata": {},
   "outputs": [
    {
     "data": {
      "image/png": "[encoded data removed]",
      "text/plain": [
       "<Figure size 864x864 with 9 Axes>"
      ]
     },
     "metadata": {
      "needs_background": "light"
     },
     "output_type": "display_data"
    }
   ],
   "source": [
    "plt.figure(figsize=(12,12))\n",
    "for i in range(9):\n",
    "    ax = plt.subplot(3,3,i+1)\n",
    "    ax.imshow(X[i].reshape(8,8), cmap='gray')"
   ]
  },
  {
   "cell_type": "code",
   "execution_count": 53,
   "metadata": {},
   "outputs": [
    {
     "name": "stdout",
     "output_type": "stream",
     "text": [
      "1.0\n",
      "(360, 64)\n"
     ]
    }
   ],
   "source": [
    "model = DecisionTreeClassifier()\n",
    "model.fit(X, y)\n",
    "y_pred = model.predict(X)\n",
    "\n",
    "print(accuracy_score(y, y_pred))\n",
    "print(X.shape)"
   ]
  },
  {
   "cell_type": "code",
   "execution_count": 54,
   "metadata": {},
   "outputs": [
    {
     "data": {
      "text/plain": [
       "array([1, 1, 0, 1, 0])"
      ]
     },
     "execution_count": 54,
     "metadata": {},
     "output_type": "execute_result"
    }
   ],
   "source": [
    "np.array(model.decision_path(X).todense())[0]"
   ]
  },
  {
   "cell_type": "code",
   "execution_count": 55,
   "metadata": {},
   "outputs": [
    {
     "data": {
      "text/plain": [
       "array([0.        , 0.        , 0.        , 0.        , 0.        ,\n",
       "       0.        , 0.        , 0.        , 0.        , 0.        ,\n",
       "       0.        , 0.        , 0.        , 0.        , 0.        ,\n",
       "       0.        , 0.        , 0.        , 0.        , 0.        ,\n",
       "       0.        , 0.        , 0.        , 0.        , 0.        ,\n",
       "       0.        , 0.        , 0.        , 0.95652699, 0.        ,\n",
       "       0.        , 0.        , 0.        , 0.        , 0.        ,\n",
       "       0.        , 0.        , 0.        , 0.        , 0.        ,\n",
       "       0.        , 0.        , 0.        , 0.        , 0.        ,\n",
       "       0.        , 0.        , 0.        , 0.        , 0.        ,\n",
       "       0.04347301, 0.        , 0.        , 0.        , 0.        ,\n",
       "       0.        , 0.        , 0.        , 0.        , 0.        ,\n",
       "       0.        , 0.        , 0.        , 0.        ])"
      ]
     },
     "execution_count": 55,
     "metadata": {},
     "output_type": "execute_result"
    }
   ],
   "source": [
    "model.feature_importances_"
   ]
  },
  {
   "cell_type": "code",
   "execution_count": 56,
   "metadata": {},
   "outputs": [
    {
     "data": {
      "image/png": "[encoded data removed]",
      "text/plain": [
       "<Figure size 432x288 with 1 Axes>"
      ]
     },
     "metadata": {
      "needs_background": "light"
     },
     "output_type": "display_data"
    }
   ],
   "source": [
    "plt.imshow(model.feature_importances_.reshape(8,8));"
   ]
  },
  {
   "cell_type": "code",
   "execution_count": null,
   "metadata": {},
   "outputs": [],
   "source": []
  },
  {
   "cell_type": "code",
   "execution_count": 57,
   "metadata": {},
   "outputs": [],
   "source": [
    "from sklearn.tree import export_graphviz\n",
    "\n",
    "export_graphviz(model, out_file='tree.dot', filled=True)"
   ]
  },
  {
   "cell_type": "code",
   "execution_count": 60,
   "metadata": {},
   "outputs": [],
   "source": [
    "# #sudo apt-get install graphviz\n",
    "\n",
    "# !dot -Tpng 'tree.dot' -o 'tree.png'\n",
    "\n",
    "# ![Iris_tree](tree.png)"
   ]
  },
  {
   "cell_type": "code",
   "execution_count": 61,
   "metadata": {},
   "outputs": [
    {
     "data": {
      "text/plain": [
       "array([1, 1, 0, 1, 0])"
      ]
     },
     "execution_count": 61,
     "metadata": {},
     "output_type": "execute_result"
    }
   ],
   "source": [
    "np.array(model.decision_path(X).todense())[0]"
   ]
  },
  {
   "cell_type": "code",
   "execution_count": 62,
   "metadata": {},
   "outputs": [
    {
     "data": {
      "text/plain": [
       "<matplotlib.image.AxesImage at 0x7fb5edf97850>"
      ]
     },
     "execution_count": 62,
     "metadata": {},
     "output_type": "execute_result"
    },
    {
     "data": {
      "image/png": "[encoded data removed]",
      "text/plain": [
       "<Figure size 432x288 with 1 Axes>"
      ]
     },
     "metadata": {
      "needs_background": "light"
     },
     "output_type": "display_data"
    }
   ],
   "source": [
    "plt.imshow(X[0].reshape(8,8))"
   ]
  },
  {
   "cell_type": "markdown",
   "metadata": {},
   "source": [
    "## 2.3. Решающие деревья легко обобщаются на задачу многоклассовой классификации\n",
    "\n",
    "### Пример с рукописными цифрами"
   ]
  },
  {
   "cell_type": "code",
   "execution_count": 63,
   "metadata": {},
   "outputs": [],
   "source": [
    "X, y = load_digits(n_class=10, return_X_y=True)"
   ]
  },
  {
   "cell_type": "code",
   "execution_count": 64,
   "metadata": {},
   "outputs": [
    {
     "data": {
      "image/png": "[encoded data removed]",
      "text/plain": [
       "<Figure size 864x864 with 9 Axes>"
      ]
     },
     "metadata": {},
     "output_type": "display_data"
    }
   ],
   "source": [
    "plt.figure(figsize=(12,12))\n",
    "for i in range(9):\n",
    "    ax = plt.subplot(3,3,i+1)\n",
    "    ax.imshow(X[i].reshape(8,8), cmap='gray')\n",
    "    ax.set_title(y[i])\n",
    "    ax.set_xticks([])\n",
    "    ax.set_yticks([])"
   ]
  },
  {
   "cell_type": "code",
   "execution_count": null,
   "metadata": {},
   "outputs": [],
   "source": []
  },
  {
   "cell_type": "code",
   "execution_count": 65,
   "metadata": {},
   "outputs": [
    {
     "name": "stdout",
     "output_type": "stream",
     "text": [
      "1.0\n"
     ]
    }
   ],
   "source": [
    "model = DecisionTreeClassifier()\n",
    "model.fit(X, y)\n",
    "y_pred = model.predict(X)\n",
    "\n",
    "print(accuracy_score(y, y_pred))"
   ]
  },
  {
   "cell_type": "code",
   "execution_count": 66,
   "metadata": {},
   "outputs": [
    {
     "data": {
      "image/png": "[encoded data removed]",
      "text/plain": [
       "<Figure size 432x288 with 1 Axes>"
      ]
     },
     "metadata": {
      "needs_background": "light"
     },
     "output_type": "display_data"
    }
   ],
   "source": [
    "plt.imshow(model.feature_importances_.reshape(8,8));"
   ]
  },
  {
   "cell_type": "code",
   "execution_count": 68,
   "metadata": {},
   "outputs": [
    {
     "data": {
      "text/plain": [
       "array([0.        , 0.        , 0.00210232, 0.00799499, 0.00280725,\n",
       "       0.06148264, 0.        , 0.        , 0.        , 0.00328898,\n",
       "       0.01776405, 0.00300528, 0.01474043, 0.01501789, 0.        ,\n",
       "       0.00061833, 0.        , 0.00622264, 0.01492878, 0.02059102,\n",
       "       0.047594  , 0.08725831, 0.        , 0.        , 0.0012193 ,\n",
       "       0.00855944, 0.02099497, 0.05361479, 0.04889383, 0.04569278,\n",
       "       0.00428904, 0.        , 0.        , 0.05271335, 0.03632829,\n",
       "       0.00877746, 0.07140602, 0.0207647 , 0.00731744, 0.        ,\n",
       "       0.        , 0.00404258, 0.07713712, 0.05306815, 0.0173373 ,\n",
       "       0.00440765, 0.00667371, 0.        , 0.        , 0.        ,\n",
       "       0.00961093, 0.00903023, 0.00267943, 0.01850322, 0.0240409 ,\n",
       "       0.        , 0.        , 0.        , 0.02017294, 0.        ,\n",
       "       0.06042786, 0.00289584, 0.00336548, 0.00061833])"
      ]
     },
     "execution_count": 68,
     "metadata": {},
     "output_type": "execute_result"
    }
   ],
   "source": [
    "model.feature_importances_"
   ]
  },
  {
   "cell_type": "code",
   "execution_count": null,
   "metadata": {},
   "outputs": [],
   "source": []
  },
  {
   "cell_type": "markdown",
   "metadata": {},
   "source": [
    "### Вопрос: откуда мы получаем feature importance?"
   ]
  },
  {
   "cell_type": "code",
   "execution_count": null,
   "metadata": {},
   "outputs": [],
   "source": []
  },
  {
   "cell_type": "code",
   "execution_count": null,
   "metadata": {},
   "outputs": [],
   "source": []
  },
  {
   "cell_type": "markdown",
   "metadata": {},
   "source": [
    "## 2.4. Пример на котором дерево решений строит очень сложную разделяющую кривую\n",
    "\n",
    "Пример взят отсюда https://habr.com/ru/company/ods/blog/322534/#slozhnyy-sluchay-dlya-derevev-resheniy .\n",
    "\n",
    "Как мы помним Деревья используют одномерный предикат для разделени множества объектов.\n",
    "Это значит что если данные плохо разделимы по **каждому** (индивидуальному) признаку по отдельности, результирующее решающее правило может оказаться очень сложным."
   ]
  },
  {
   "cell_type": "code",
   "execution_count": null,
   "metadata": {},
   "outputs": [],
   "source": []
  },
  {
   "cell_type": "code",
   "execution_count": 69,
   "metadata": {},
   "outputs": [],
   "source": [
    "from sklearn.tree import DecisionTreeClassifier"
   ]
  },
  {
   "cell_type": "code",
   "execution_count": 70,
   "metadata": {},
   "outputs": [
    {
     "data": {
      "image/png": "[encoded data removed]",
      "text/plain": [
       "<Figure size 720x720 with 1 Axes>"
      ]
     },
     "metadata": {
      "needs_background": "light"
     },
     "output_type": "display_data"
    }
   ],
   "source": [
    "def form_linearly_separable_data(n=500, x1_min=0, x1_max=30, x2_min=0, x2_max=30):\n",
    "    data, target = [], []\n",
    "    for i in range(n):\n",
    "        x1, x2 = np.random.randint(x1_min, x1_max), np.random.randint(x2_min, x2_max)\n",
    "\n",
    "        if np.abs(x1 - x2) > 0.5:\n",
    "            data.append([x1, x2])\n",
    "            target.append(np.sign(x1 - x2))\n",
    "    return np.array(data), np.array(target)\n",
    "\n",
    "X, y = form_linearly_separable_data()\n",
    "plt.figure(figsize=(10,10))\n",
    "plt.scatter(X[:, 0], X[:, 1], c=y, cmap='autumn');"
   ]
  },
  {
   "cell_type": "code",
   "execution_count": null,
   "metadata": {},
   "outputs": [],
   "source": []
  },
  {
   "cell_type": "markdown",
   "metadata": {},
   "source": [
    "Давайте посмотрим как данные выглядит в проекции на 1 ось"
   ]
  },
  {
   "cell_type": "code",
   "execution_count": 71,
   "metadata": {},
   "outputs": [
    {
     "data": {
      "image/png": "[encoded data removed]",
      "text/plain": [
       "<Figure size 1080x360 with 2 Axes>"
      ]
     },
     "metadata": {
      "needs_background": "light"
     },
     "output_type": "display_data"
    }
   ],
   "source": [
    "plt.figure(figsize=(15,5))\n",
    "ax1 = plt.subplot(1,2,1)\n",
    "ax1.set_title('Проекция на ось $X_0$')\n",
    "ax1.hist(X[y==1, 0], alpha=.3);\n",
    "ax1.hist(X[y==-1, 0], alpha=.6);\n",
    "\n",
    "ax2 = plt.subplot(1,2,2)\n",
    "ax2.set_title('Проекция на ось $X_1$')\n",
    "ax2.hist(X[y==1, 1], alpha=.3);\n",
    "ax2.hist(X[y==-1, 1], alpha=.6);\n"
   ]
  },
  {
   "cell_type": "code",
   "execution_count": null,
   "metadata": {},
   "outputs": [],
   "source": []
  },
  {
   "cell_type": "code",
   "execution_count": 72,
   "metadata": {},
   "outputs": [],
   "source": [
    "def get_grid(data, eps=0.01):\n",
    "    x_min, x_max = data[:, 0].min() - 1, data[:, 0].max() + 1\n",
    "    y_min, y_max = data[:, 1].min() - 1, data[:, 1].max() + 1\n",
    "    return np.meshgrid(np.arange(x_min, x_max, eps),\n",
    "                         np.arange(y_min, y_max, eps))"
   ]
  },
  {
   "cell_type": "code",
   "execution_count": 73,
   "metadata": {},
   "outputs": [
    {
     "name": "stderr",
     "output_type": "stream",
     "text": [
      "<ipython-input-73-7799b03e2b13>:7: MatplotlibDeprecationWarning: shading='flat' when X and Y have the same dimensions as C is deprecated since 3.3.  Either specify the corners of the quadrilaterals with X and Y, or pass shading='auto', 'nearest' or 'gouraud', or set rcParams['pcolor.shading'].  This will become an error two minor releases later.\n",
      "  plt.pcolormesh(xx, yy, predicted, cmap='autumn', alpha=0.3)\n"
     ]
    },
    {
     "data": {
      "image/png": "[encoded data removed]",
      "text/plain": [
       "<Figure size 720x720 with 1 Axes>"
      ]
     },
     "metadata": {
      "needs_background": "light"
     },
     "output_type": "display_data"
    }
   ],
   "source": [
    "tree = DecisionTreeClassifier(random_state=17).fit(X, y)\n",
    "\n",
    "\n",
    "xx, yy = get_grid(X, eps=.05)\n",
    "predicted = tree.predict(np.c_[xx.ravel(), yy.ravel()]).reshape(xx.shape)\n",
    "plt.figure(figsize=(10,10))\n",
    "plt.pcolormesh(xx, yy, predicted, cmap='autumn', alpha=0.3)\n",
    "plt.scatter(X[y==1, 0], X[y==1, 1], marker='x', s=100, cmap='autumn',  linewidth=1.5)\n",
    "plt.scatter(X[y==-1, 0], X[y==-1, 1], marker='o', s=100, cmap='autumn', edgecolors='k',linewidth=1.5)\n",
    "plt.title('Easy task. Decision tree compexifies everything');"
   ]
  },
  {
   "cell_type": "code",
   "execution_count": null,
   "metadata": {},
   "outputs": [],
   "source": []
  },
  {
   "cell_type": "code",
   "execution_count": 74,
   "metadata": {},
   "outputs": [],
   "source": [
    "# export_graphviz(tree, out_file='complex_tree.dot', filled=True)\n",
    "# !dot -Tpng 'complex_tree.dot' -o 'complex_tree.png'"
   ]
  },
  {
   "cell_type": "code",
   "execution_count": null,
   "metadata": {},
   "outputs": [],
   "source": []
  },
  {
   "cell_type": "markdown",
   "metadata": {},
   "source": [
    "## 2.5. Деревья решений для регрессии (кратко)\n",
    "\n",
    "см. sklearn.DecisionTreeRegressor"
   ]
  },
  {
   "cell_type": "code",
   "execution_count": null,
   "metadata": {},
   "outputs": [],
   "source": []
  },
  {
   "cell_type": "markdown",
   "metadata": {},
   "source": [
    "# 3. Ансамблирование деревьев. Случайный лес."
   ]
  },
  {
   "cell_type": "markdown",
   "metadata": {},
   "source": [
    "### Идея 1\n",
    "\n",
    "Что если у нас несколько классификаторов (каждый может быть не очень *умным*) ошибающихся на разных объектах\n",
    "Тогда если в качестве предсказания мы будем использовать *моду* мы можем расчитывать на лучшую предсказательную силу."
   ]
  },
  {
   "cell_type": "code",
   "execution_count": null,
   "metadata": {},
   "outputs": [],
   "source": []
  },
  {
   "cell_type": "markdown",
   "metadata": {},
   "source": [
    "### Идея 1\n",
    "\n",
    "Как получить модели которые ошибаются в разных местах?\n",
    "\n",
    "Давайте брать *тупые* деревья но учить их на **разных подвыборках признаков** !"
   ]
  },
  {
   "cell_type": "code",
   "execution_count": 75,
   "metadata": {},
   "outputs": [],
   "source": [
    "from sklearn.datasets import load_digits\n",
    "\n",
    "X, y = load_digits(n_class=2, return_X_y=True)"
   ]
  },
  {
   "cell_type": "code",
   "execution_count": 76,
   "metadata": {},
   "outputs": [
    {
     "name": "stdout",
     "output_type": "stream",
     "text": [
      "Точность классификатора: 0.947\n",
      "Ненулевые признаки: (array([10, 33, 35]),)\n",
      "\n",
      "-------\n",
      "\n",
      "Точность классификатора: 0.794\n",
      "Ненулевые признаки: (array([21, 33, 51]),)\n",
      "\n",
      "-------\n",
      "\n",
      "Точность классификатора: 0.939\n",
      "Ненулевые признаки: (array([18, 44, 49]),)\n",
      "\n",
      "-------\n",
      "\n",
      "Точность классификатора: 0.997\n",
      "Ненулевые признаки: (array([28, 59]),)\n",
      "\n",
      "-------\n",
      "\n",
      "Точность классификатора: 0.922\n",
      "Ненулевые признаки: (array([10, 29, 36]),)\n",
      "\n",
      "-------\n",
      "\n"
     ]
    }
   ],
   "source": [
    "for state in range(5):\n",
    "\n",
    "    model = DecisionTreeClassifier(max_features=4, max_depth=2, random_state=state)\n",
    "    model.fit(X, y)\n",
    "    y_pred = model.predict(X)\n",
    "\n",
    "    print('Точность классификатора: {:.3f}'.format(accuracy_score(y, y_pred)))\n",
    "    \n",
    "    \n",
    "    print('Ненулевые признаки: {}'.format(np.nonzero(model.feature_importances_)))\n",
    "    print('\\n-------\\n')"
   ]
  },
  {
   "cell_type": "code",
   "execution_count": 77,
   "metadata": {},
   "outputs": [
    {
     "data": {
      "text/plain": [
       "array([0.        , 0.        , 0.        , 0.        , 0.        ,\n",
       "       0.        , 0.        , 0.        , 0.        , 0.        ,\n",
       "       0.58780383, 0.        , 0.        , 0.        , 0.        ,\n",
       "       0.        , 0.        , 0.        , 0.        , 0.        ,\n",
       "       0.        , 0.        , 0.        , 0.        , 0.        ,\n",
       "       0.        , 0.        , 0.        , 0.        , 0.31468559,\n",
       "       0.        , 0.        , 0.        , 0.        , 0.        ,\n",
       "       0.        , 0.09751057, 0.        , 0.        , 0.        ,\n",
       "       0.        , 0.        , 0.        , 0.        , 0.        ,\n",
       "       0.        , 0.        , 0.        , 0.        , 0.        ,\n",
       "       0.        , 0.        , 0.        , 0.        , 0.        ,\n",
       "       0.        , 0.        , 0.        , 0.        , 0.        ,\n",
       "       0.        , 0.        , 0.        , 0.        ])"
      ]
     },
     "execution_count": 77,
     "metadata": {},
     "output_type": "execute_result"
    }
   ],
   "source": [
    "model.feature_importances_"
   ]
  },
  {
   "cell_type": "markdown",
   "metadata": {},
   "source": [
    "### Идея 2\n",
    "\n",
    "Как получить модели которые ошибаются в разных местах?\n",
    "\n",
    "Давайте брать *тупые* деревья, но учить их на **разных подвыборках объектов** !"
   ]
  },
  {
   "cell_type": "code",
   "execution_count": null,
   "metadata": {},
   "outputs": [],
   "source": []
  },
  {
   "cell_type": "markdown",
   "metadata": {},
   "source": [
    "### Результат: Случайный лес.\n",
    "\n",
    "sklearn.ensemble RandomForrest"
   ]
  },
  {
   "cell_type": "code",
   "execution_count": null,
   "metadata": {},
   "outputs": [],
   "source": []
  },
  {
   "cell_type": "code",
   "execution_count": null,
   "metadata": {},
   "outputs": [],
   "source": []
  },
  {
   "cell_type": "code",
   "execution_count": null,
   "metadata": {},
   "outputs": [],
   "source": []
  }
 ],
 "metadata": {
  "kernelspec": {
   "display_name": "Python 3",
   "language": "python",
   "name": "python3"
  },
  "language_info": {
   "codemirror_mode": {
    "name": "ipython",
    "version": 3
   },
   "file_extension": ".py",
   "mimetype": "text/x-python",
   "name": "python",
   "nbconvert_exporter": "python",
   "pygments_lexer": "ipython3",
   "version": "3.8.5"
  }
 },
 "nbformat": 4,
 "nbformat_minor": 2
}
