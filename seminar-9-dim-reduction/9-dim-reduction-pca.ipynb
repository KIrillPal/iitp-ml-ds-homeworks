{
 "cells": [
  {
   "cell_type": "markdown",
   "metadata": {},
   "source": [
    "# Снижение размерности"
   ]
  },
  {
   "cell_type": "markdown",
   "metadata": {},
   "source": [
    "## Пример 1.\n",
    "\n",
    "Давайте для начала рассмотрим следующий пример:"
   ]
  },
  {
   "cell_type": "code",
   "execution_count": null,
   "metadata": {},
   "outputs": [],
   "source": [
    "import numpy as np\n",
    "import matplotlib.pyplot as plt\n",
    "%matplotlib inline"
   ]
  },
  {
   "cell_type": "code",
   "execution_count": null,
   "metadata": {},
   "outputs": [],
   "source": [
    "X = np.array([[2,3,4,7,10], [1,1,1,1,1]]).T"
   ]
  },
  {
   "cell_type": "code",
   "execution_count": null,
   "metadata": {},
   "outputs": [],
   "source": [
    "X"
   ]
  },
  {
   "cell_type": "markdown",
   "metadata": {},
   "source": [
    "У нас есть 5 наблюдений и два признака, вопрос, какой из признаков\n",
    "вам кажется **важнее** и почему?"
   ]
  },
  {
   "cell_type": "code",
   "execution_count": null,
   "metadata": {},
   "outputs": [],
   "source": [
    "plt.scatter(X[:, 0], X[:, 1]);"
   ]
  },
  {
   "cell_type": "code",
   "execution_count": null,
   "metadata": {},
   "outputs": [],
   "source": []
  },
  {
   "cell_type": "code",
   "execution_count": null,
   "metadata": {},
   "outputs": [],
   "source": []
  },
  {
   "cell_type": "code",
   "execution_count": null,
   "metadata": {},
   "outputs": [],
   "source": []
  },
  {
   "cell_type": "code",
   "execution_count": null,
   "metadata": {},
   "outputs": [],
   "source": []
  },
  {
   "cell_type": "code",
   "execution_count": null,
   "metadata": {},
   "outputs": [],
   "source": []
  },
  {
   "cell_type": "markdown",
   "metadata": {},
   "source": [
    "Естественным ответом кажется сказать что первый, потому что этот признак **изменяется** от объекта к объекту,\n",
    "а второй признак - нет. \n",
    "\n",
    "Вопрос: Что значит **изменяется**?\n",
    "\n",
    "Хорошо, давайте теперь на другой пример:"
   ]
  },
  {
   "cell_type": "code",
   "execution_count": null,
   "metadata": {},
   "outputs": [],
   "source": [
    "X = np.array([[2,3,4,7,10], [4,6,8,14,20]]).T\n",
    "# X = np.array([[2,3,4,7,10], [2,3,4,7,10]]).T"
   ]
  },
  {
   "cell_type": "code",
   "execution_count": null,
   "metadata": {},
   "outputs": [],
   "source": [
    "plt.scatter(X[:, 0], X[:, 1]);"
   ]
  },
  {
   "cell_type": "markdown",
   "metadata": {},
   "source": [
    "Какой из признаков важнее здесь?\n",
    "\n",
    "Ответить уже не так легко, изменение происходит как по первой координате, так и по второй, но что если мы повернем картинку (скажем на 60 градусов)?"
   ]
  },
  {
   "cell_type": "code",
   "execution_count": null,
   "metadata": {},
   "outputs": [],
   "source": [
    "alpha = np.pi / 3\n",
    "rot_matrix = np.array([[np.cos(alpha), -np.sin(alpha)],\n",
    "                      [np.sin(alpha), np.cos(alpha)]])\n",
    "\n",
    "X_rot = X.dot(rot_matrix)"
   ]
  },
  {
   "cell_type": "code",
   "execution_count": null,
   "metadata": {},
   "outputs": [],
   "source": [
    "X_rot"
   ]
  },
  {
   "cell_type": "code",
   "execution_count": null,
   "metadata": {},
   "outputs": [],
   "source": [
    "plt.scatter(X[:, 0], X[:, 1], label='X original');\n",
    "plt.scatter(X_rot[:, 0], X_rot[:, 1], label='X rotated on 60 degrees');\n",
    "plt.legend();"
   ]
  },
  {
   "cell_type": "markdown",
   "metadata": {},
   "source": [
    "Можем ли мы теперь сказать какой из признаков для нас **важнее**?"
   ]
  },
  {
   "cell_type": "code",
   "execution_count": null,
   "metadata": {},
   "outputs": [],
   "source": []
  },
  {
   "cell_type": "code",
   "execution_count": null,
   "metadata": {},
   "outputs": [],
   "source": []
  },
  {
   "cell_type": "code",
   "execution_count": null,
   "metadata": {},
   "outputs": [],
   "source": []
  },
  {
   "cell_type": "code",
   "execution_count": null,
   "metadata": {},
   "outputs": [],
   "source": []
  },
  {
   "cell_type": "code",
   "execution_count": null,
   "metadata": {},
   "outputs": [],
   "source": []
  },
  {
   "cell_type": "code",
   "execution_count": null,
   "metadata": {},
   "outputs": [],
   "source": []
  },
  {
   "cell_type": "code",
   "execution_count": null,
   "metadata": {},
   "outputs": [],
   "source": []
  },
  {
   "cell_type": "code",
   "execution_count": null,
   "metadata": {},
   "outputs": [],
   "source": []
  },
  {
   "cell_type": "code",
   "execution_count": null,
   "metadata": {},
   "outputs": [],
   "source": []
  },
  {
   "cell_type": "code",
   "execution_count": null,
   "metadata": {},
   "outputs": [],
   "source": []
  },
  {
   "cell_type": "code",
   "execution_count": null,
   "metadata": {},
   "outputs": [],
   "source": []
  },
  {
   "cell_type": "code",
   "execution_count": null,
   "metadata": {},
   "outputs": [],
   "source": []
  },
  {
   "cell_type": "code",
   "execution_count": null,
   "metadata": {},
   "outputs": [],
   "source": []
  },
  {
   "cell_type": "markdown",
   "metadata": {},
   "source": [
    "Итак за словами **изменяется** и **важнее** на самом деле скрывается слово **Дисперсия**.\n",
    "\n",
    "Посмотрим на еще один пример:"
   ]
  },
  {
   "cell_type": "code",
   "execution_count": null,
   "metadata": {},
   "outputs": [],
   "source": [
    "random = np.random.RandomState(7)\n",
    "time_steps = np.linspace(0, 10, 40).reshape(-1, 1)\n",
    "X = time_steps + 2*random.normal(scale = .6, size=(40,1))\n",
    "X = np.concatenate((time_steps, X), axis=1 )"
   ]
  },
  {
   "cell_type": "code",
   "execution_count": null,
   "metadata": {},
   "outputs": [],
   "source": [
    "plt.scatter(X[:, 0], X[:, 1]);\n",
    "plt.xlabel('Признак 1')\n",
    "plt.ylabel('Признак 2');"
   ]
  },
  {
   "cell_type": "code",
   "execution_count": null,
   "metadata": {},
   "outputs": [],
   "source": [
    "np.std(X, axis=0)"
   ]
  },
  {
   "cell_type": "markdown",
   "metadata": {},
   "source": [
    "Как видно дисперсия внутри **Признака 1** немногим меньше дисперсии внутри **Признака 2**.\n",
    "\n",
    "### Вопрос\n",
    "\n",
    "Существует ли какая то **их линейная комбинация**: какой то новый признак, дисперсия внутри которого будет **больше**?"
   ]
  },
  {
   "cell_type": "code",
   "execution_count": null,
   "metadata": {},
   "outputs": [],
   "source": []
  },
  {
   "cell_type": "code",
   "execution_count": null,
   "metadata": {},
   "outputs": [],
   "source": []
  },
  {
   "cell_type": "code",
   "execution_count": null,
   "metadata": {},
   "outputs": [],
   "source": []
  },
  {
   "cell_type": "code",
   "execution_count": null,
   "metadata": {},
   "outputs": [],
   "source": []
  },
  {
   "cell_type": "code",
   "execution_count": null,
   "metadata": {},
   "outputs": [],
   "source": []
  },
  {
   "cell_type": "code",
   "execution_count": null,
   "metadata": {},
   "outputs": [],
   "source": []
  },
  {
   "cell_type": "code",
   "execution_count": null,
   "metadata": {},
   "outputs": [],
   "source": []
  },
  {
   "cell_type": "code",
   "execution_count": null,
   "metadata": {},
   "outputs": [],
   "source": []
  },
  {
   "cell_type": "code",
   "execution_count": null,
   "metadata": {},
   "outputs": [],
   "source": []
  },
  {
   "cell_type": "markdown",
   "metadata": {},
   "source": [
    "## Ответ\n",
    "\n",
    "да существует!"
   ]
  },
  {
   "cell_type": "code",
   "execution_count": null,
   "metadata": {},
   "outputs": [],
   "source": [
    "plt.scatter(X[:, 0], X[:, 1]);\n",
    "plt.xlabel('Признак 1')\n",
    "plt.ylabel('Признак 2');\n",
    "plt.plot([0, 10], [0, 10], c='r');"
   ]
  },
  {
   "cell_type": "markdown",
   "metadata": {},
   "source": [
    "А что это за направление?"
   ]
  },
  {
   "cell_type": "code",
   "execution_count": null,
   "metadata": {},
   "outputs": [],
   "source": []
  },
  {
   "cell_type": "code",
   "execution_count": null,
   "metadata": {},
   "outputs": [],
   "source": []
  },
  {
   "cell_type": "code",
   "execution_count": null,
   "metadata": {},
   "outputs": [],
   "source": []
  },
  {
   "cell_type": "code",
   "execution_count": null,
   "metadata": {},
   "outputs": [],
   "source": []
  },
  {
   "cell_type": "code",
   "execution_count": null,
   "metadata": {},
   "outputs": [],
   "source": []
  },
  {
   "cell_type": "code",
   "execution_count": null,
   "metadata": {},
   "outputs": [],
   "source": []
  },
  {
   "cell_type": "code",
   "execution_count": null,
   "metadata": {},
   "outputs": [],
   "source": []
  },
  {
   "cell_type": "code",
   "execution_count": null,
   "metadata": {},
   "outputs": [],
   "source": []
  },
  {
   "cell_type": "markdown",
   "metadata": {},
   "source": [
    "В нашем случае это простой поворот на 45 градусов"
   ]
  },
  {
   "cell_type": "code",
   "execution_count": null,
   "metadata": {},
   "outputs": [],
   "source": [
    "alpha = np.pi / 4\n",
    "rot_matrix = np.array([[np.cos(alpha), -np.sin(alpha)],\n",
    "                      [np.sin(alpha), np.cos(alpha)]])\n",
    "\n",
    "X_rot = X.dot(rot_matrix)"
   ]
  },
  {
   "cell_type": "code",
   "execution_count": null,
   "metadata": {},
   "outputs": [],
   "source": [
    "plt.figure(figsize=(12, 3))\n",
    "plt.scatter(X_rot[:, 0], X_rot[:, 1]);\n",
    "plt.xlabel('Признак 1')\n",
    "plt.ylabel('Признак 2');"
   ]
  },
  {
   "cell_type": "code",
   "execution_count": null,
   "metadata": {},
   "outputs": [],
   "source": [
    "print('Дисперсия 1 признака: {:.3f}; Дисперсия 2 признака: {:.3f}'.format(X[:, 0].std(), \n",
    "                                                                          X[:, 1].std()))\n",
    "\n",
    "print('Дисперсия 1 компоненты: {:.3f}; Дисперсия 2 компоненты: {:.3f}'.format(X_rot[:, 0].std(), \n",
    "                                                                              X_rot[:, 1].std()))"
   ]
  },
  {
   "cell_type": "markdown",
   "metadata": {},
   "source": [
    "# PCA\n",
    "\n",
    "метод который называется Principal Component Analysis позволяет выделять эти компоненты."
   ]
  },
  {
   "cell_type": "code",
   "execution_count": null,
   "metadata": {},
   "outputs": [],
   "source": [
    "from sklearn.decomposition import PCA"
   ]
  },
  {
   "cell_type": "code",
   "execution_count": null,
   "metadata": {},
   "outputs": [],
   "source": [
    "pca = PCA(2)\n",
    "xpca = pca.fit_transform(X)"
   ]
  },
  {
   "cell_type": "code",
   "execution_count": null,
   "metadata": {},
   "outputs": [],
   "source": [
    "pca.components_"
   ]
  },
  {
   "cell_type": "markdown",
   "metadata": {},
   "source": [
    "Сравните эти компоненты с матрицей поворота, есть ли отличия?"
   ]
  },
  {
   "cell_type": "code",
   "execution_count": null,
   "metadata": {},
   "outputs": [],
   "source": [
    "print('Дисперсия 1 компоненты: {:.3f}; Дисперсия 2 компоненты: {:.3f}'.format(X.dot(pca.components_[0]).std(),\n",
    "                                                                              X.dot(pca.components_[1]).std()))"
   ]
  },
  {
   "cell_type": "code",
   "execution_count": null,
   "metadata": {},
   "outputs": [],
   "source": []
  },
  {
   "cell_type": "markdown",
   "metadata": {},
   "source": [
    "Как видно **PCA** нашел лучшие направления чем поворот на 45 градусов."
   ]
  },
  {
   "cell_type": "markdown",
   "metadata": {},
   "source": [
    "### Оказывается для наших данных достаточно измерить только 1 признак, 2ой же признак является избыточным!\n",
    "\n",
    "----"
   ]
  },
  {
   "cell_type": "code",
   "execution_count": null,
   "metadata": {},
   "outputs": [],
   "source": []
  },
  {
   "cell_type": "code",
   "execution_count": null,
   "metadata": {},
   "outputs": [],
   "source": []
  },
  {
   "cell_type": "code",
   "execution_count": null,
   "metadata": {},
   "outputs": [],
   "source": []
  },
  {
   "cell_type": "markdown",
   "metadata": {},
   "source": [
    "До сих пор мы смотрели на двумерные примеры и из двумерных данных путем преобразования системы координат получали новые двумерные данные. Давайте рассмотрим пример посложнее:\n",
    "\n",
    "## Пример 2.\n",
    "Хорошо давайте теперь рассмотрим другой пример\n",
    "\n",
    "![pca](pca_example.png)\n",
    "\n",
    "\n",
    ">Pretend we are studying the motion\n",
    "of the physicist’s ideal spring. This system consists of a ball\n",
    "of mass `m` attached to a massless, frictionless spring. The ball\n",
    "is released a small distance away from equilibrium (i.e. the\n",
    "spring is stretched). Because the spring is ideal, it oscillates\n",
    "indefinitely along the x-axis about its equilibrium at a set frequency.\n",
    "However, being ignorant experimenters we do not know any of this. We do not know which, let alone how many, axes\n",
    "and dimensions are important to measure. Thus, we decide to measure the ball’s position in a three-dimensional space (since we live in a three dimensional world). Specifically, we place three movie cameras around our system of interest. At 120 Hz each movie camera records an image indicating a two dimensional position of the ball (a projection). Unfortunately, because of our ignorance, we do not even know what are the real `x`, `y` and `z` axes, so we choose **three camera positions a,b and c at some arbitrary angles** with respect to the system. The angles\n",
    "between our measurements might not even be 90 degrees! Now, we record with the cameras for several minutes. The big question remains: how do we get from this data set to a simple equation of `x`?\n",
    "\n",
    "**A Tutorial on Principal Component Analysis** https://arxiv.org/pdf/1404.1100.pdf "
   ]
  },
  {
   "cell_type": "code",
   "execution_count": null,
   "metadata": {},
   "outputs": [],
   "source": [
    "\n",
    "def generate_points(random_state=331):\n",
    "    random = np.random.RandomState(random_state)\n",
    "    time_steps = np.linspace(0, 10, 40).reshape(-1, 1)\n",
    "    X = time_steps + 3*random.normal(scale=0.3, size=(40,1))\n",
    "    X = np.concatenate((time_steps, X), axis=1 )\n",
    "\n",
    "    alpha = -np.pi/2\n",
    "    beta = np.pi/4\n",
    "    rot_matrix_1 = np.array([[np.cos(alpha), -np.sin(alpha)],\n",
    "                          [np.sin(alpha), np.cos(alpha)]])\n",
    "    rot_matrix_2 = np.array([[np.cos(beta), -np.sin(beta)],\n",
    "                          [np.sin(beta), np.cos(beta)]])\n",
    "\n",
    "    X_rot1 = X.dot(rot_matrix_1)\n",
    "    X_rot2 = X.dot(rot_matrix_2) + 5\n",
    "    \n",
    "    return X, X_rot1, X_rot2"
   ]
  },
  {
   "cell_type": "code",
   "execution_count": null,
   "metadata": {},
   "outputs": [],
   "source": [
    "# from utils import generate_points"
   ]
  },
  {
   "cell_type": "code",
   "execution_count": null,
   "metadata": {},
   "outputs": [],
   "source": [
    "camera1, camera2, camera3 = generate_points()"
   ]
  },
  {
   "cell_type": "code",
   "execution_count": null,
   "metadata": {},
   "outputs": [],
   "source": [
    "plt.figure(figsize=(7,7))\n",
    "ax1 = plt.subplot(2,2,1)\n",
    "ax1.scatter(camera1[:, 0], camera1[:, 1], label='Camera 1', c='b')\n",
    "ax1.legend();\n",
    "ax2 = plt.subplot(2,2,2)\n",
    "ax2.scatter(camera2[:, 0], camera2[:, 1], label='Camera 2', c='r')\n",
    "ax2.legend();\n",
    "ax3 = plt.subplot(2,2,3)\n",
    "ax3.scatter(camera3[:, 0], camera3[:, 1], label='Camera 3', c='orange')\n",
    "ax3.legend();"
   ]
  },
  {
   "cell_type": "code",
   "execution_count": null,
   "metadata": {},
   "outputs": [],
   "source": [
    "X = np.concatenate((camera1, camera2, camera3), axis=1)"
   ]
  },
  {
   "cell_type": "code",
   "execution_count": null,
   "metadata": {},
   "outputs": [],
   "source": [
    "X.shape"
   ]
  },
  {
   "cell_type": "code",
   "execution_count": null,
   "metadata": {},
   "outputs": [],
   "source": [
    "# X =(X - X.mean(axis=0))/X.std(axis=0)"
   ]
  },
  {
   "cell_type": "markdown",
   "metadata": {},
   "source": [
    "Итак для каждого наблюдения мы располагаем **6 измерениями** (2 координаты с каждой камеры). \n",
    "Но мы то знаем что на самом деле пружина изменялась только вдоль **одного единственного направления**!"
   ]
  },
  {
   "cell_type": "code",
   "execution_count": null,
   "metadata": {},
   "outputs": [],
   "source": [
    "pca = PCA(2)\n",
    "X_pca = pca.fit_transform(X)"
   ]
  },
  {
   "cell_type": "code",
   "execution_count": null,
   "metadata": {},
   "outputs": [],
   "source": [
    "plt.figure(figsize=(15, 2))\n",
    "plt.scatter(X_pca[:, 0], X_pca[:, 1]);\n",
    "plt.xlabel('Principle Component 1')\n",
    "plt.ylabel('Principle Component 2');"
   ]
  },
  {
   "cell_type": "code",
   "execution_count": null,
   "metadata": {},
   "outputs": [],
   "source": []
  },
  {
   "cell_type": "code",
   "execution_count": null,
   "metadata": {},
   "outputs": [],
   "source": [
    "for idx, feature in enumerate(X.T):\n",
    "    print('Дисперсия признака {}: {:.3f}'.format(idx+1, feature.std()))"
   ]
  },
  {
   "cell_type": "code",
   "execution_count": null,
   "metadata": {},
   "outputs": [],
   "source": [
    "for idx, feature in enumerate(X_pca.T):\n",
    "    print('Дисперсия компоненты {}: {:.3f}'.format(idx+1, feature.std()))"
   ]
  },
  {
   "cell_type": "code",
   "execution_count": null,
   "metadata": {},
   "outputs": [],
   "source": []
  },
  {
   "cell_type": "code",
   "execution_count": null,
   "metadata": {},
   "outputs": [],
   "source": []
  },
  {
   "cell_type": "code",
   "execution_count": null,
   "metadata": {},
   "outputs": [],
   "source": []
  },
  {
   "cell_type": "markdown",
   "metadata": {},
   "source": [
    "Таким образом метод главных компонент позволяет **снизить размерность данных**, преобразуя старые признаки в новые."
   ]
  },
  {
   "cell_type": "markdown",
   "metadata": {},
   "source": [
    "## PCA важное\n",
    "\n",
    "![pca](pca2.png)\n",
    "\n",
    "\n",
    "\n",
    "$$ X_{n \\times m} \\rightarrow X^{\\text{reduced}}_{n \\times k},\\ \\ \\  \\text{s.t.} \\ \\ \\  k < m$$\n",
    "                        \n",
    "$$X_{n \\times m} \\cdot S_{m\\times k} = X^{\\text{reduced}}_{n \\times k}$$\n",
    "\n",
    "\n",
    "\n",
    "1. PCA проецирует данные на новый признаки, которые являются линейной комбинацией старых.\n",
    "2. Новые признаки называются компонентами (или Главными компонентами). Эти направления попарно ортогональны.\n",
    "3. Мерой важности новых признаков является **доля объясненнной дисперсии**.\n",
    "4. Перед применением метода Главных компонент данные необходимо центрировать\n",
    "\n",
    "---\n",
    "\n",
    "* Подробный туториал по методу главных компонент https://arxiv.org/pdf/1404.1100.pdf (на английском)\n",
    "* Серия из 3 видео посвященных более подробному разбору в том числе пример вычисления руками (на русском) \n",
    "    * https://www.youtube.com/watch?v=NKmwnILrHD8&t=\n",
    "    * https://www.youtube.com/watch?v=cgdnlSv6kpg\n",
    "    * https://www.youtube.com/watch?v=WP2VLhAAM24&t=\n",
    "* Статья из цикла статей открытого курса по машинному обучению https://habr.com/ru/company/ods/blog/325654/ (на русском)\n",
    "    \n",
    "    \n",
    "----\n",
    "\n",
    "В пакете sklearn есть специальный класс PCA который реализует метод главных компонент.\n",
    "\n",
    "основные параметры, которые можно увидеть после обучения:\n",
    "* `.components_` - новые компоненты (количество - n_components). Каждая компонента - линейная комбинация изначальных признаков (представлна вектором длинной изначального количества признаков).\n",
    "\n",
    "Например если X имеет размер $100 \\times 5$, и мы хотим найти 3 главные компоненты, то после обучения поле `.components_` будет содержать матрицу размера $3 \\times 5$, т.е. задача PCA найти такое P, что:\n",
    "\n",
    "\n",
    "* `.explained_variance_` и `.explained_variance_ratio_` - объясненная дисперсия и доля объясненной дисперсии каждой компонентой."
   ]
  },
  {
   "cell_type": "code",
   "execution_count": null,
   "metadata": {},
   "outputs": [],
   "source": []
  },
  {
   "cell_type": "markdown",
   "metadata": {},
   "source": [
    "## Пример 3. Digits."
   ]
  },
  {
   "cell_type": "markdown",
   "metadata": {},
   "source": [
    "Давайте посмотрим на то насколько наши рукописные цифры с 64 признаками можно хорошо спроецировать на 2 измерения."
   ]
  },
  {
   "cell_type": "code",
   "execution_count": null,
   "metadata": {},
   "outputs": [],
   "source": [
    "from sklearn.datasets import load_digits"
   ]
  },
  {
   "cell_type": "code",
   "execution_count": null,
   "metadata": {},
   "outputs": [],
   "source": [
    "X, y = load_digits(n_class=2, return_X_y=True)\n",
    "\n",
    "# X = np.vstack([X[y==4], X[y==5]])\n",
    "# y = [4]*181+[5]*182"
   ]
  },
  {
   "cell_type": "code",
   "execution_count": null,
   "metadata": {},
   "outputs": [],
   "source": [
    "pca = PCA(2)\n",
    "\n",
    "X_pca = pca.fit_transform(X)"
   ]
  },
  {
   "cell_type": "code",
   "execution_count": null,
   "metadata": {},
   "outputs": [],
   "source": [
    "plt.scatter(X_pca[:, 0], X_pca[:, 1]);"
   ]
  },
  {
   "cell_type": "code",
   "execution_count": null,
   "metadata": {},
   "outputs": [],
   "source": [
    "plt.scatter(X_pca[:, 0], X_pca[:, 1], c=y);"
   ]
  },
  {
   "cell_type": "code",
   "execution_count": null,
   "metadata": {},
   "outputs": [],
   "source": [
    "new_0 = [-20, 0] # 0,1\n",
    "# new_0 = [-20, 20] # 4,5\n",
    "plt.imshow(pca.inverse_transform(new_0).reshape(8,8));"
   ]
  },
  {
   "cell_type": "code",
   "execution_count": null,
   "metadata": {},
   "outputs": [],
   "source": [
    "new_0 = [20, -10] # 0,1\n",
    "# new_0 = [20, -10] # 4,5\n",
    "plt.imshow(pca.inverse_transform(new_0).reshape(8,8));"
   ]
  },
  {
   "cell_type": "code",
   "execution_count": null,
   "metadata": {},
   "outputs": [],
   "source": [
    "plt.imshow(np.random.rand(64).reshape(8,8));"
   ]
  },
  {
   "cell_type": "code",
   "execution_count": null,
   "metadata": {},
   "outputs": [],
   "source": []
  },
  {
   "cell_type": "code",
   "execution_count": null,
   "metadata": {},
   "outputs": [],
   "source": [
    "# y = 0.25*x + 5 # 0,1\n",
    "# y = -0.75*x + 5 # 4,5\n",
    "\n",
    "x_coords = np.linspace(-20, 20, 20)\n",
    "y_coords = 0.25 * x_coords + 5\n",
    "# y_coords = -0.75 * x_coords + 5\n",
    "xy_coords = np.vstack([x_coords, y_coords]).T\n",
    "new_digits = pca.inverse_transform(xy_coords).reshape(20, 8, 8)"
   ]
  },
  {
   "cell_type": "code",
   "execution_count": null,
   "metadata": {},
   "outputs": [],
   "source": [
    "fig, axs = plt.subplots(4, 5, figsize=(8,8))\n",
    "\n",
    "for i, ax in enumerate(axs.flatten()):\n",
    "    ax.imshow(np.clip(new_digits[i], 4, 10), cmap='gray')"
   ]
  },
  {
   "cell_type": "code",
   "execution_count": null,
   "metadata": {},
   "outputs": [],
   "source": []
  },
  {
   "cell_type": "code",
   "execution_count": null,
   "metadata": {},
   "outputs": [],
   "source": []
  },
  {
   "cell_type": "markdown",
   "metadata": {},
   "source": [
    "* Попробуйте разбить данные на две части: train и test. Обучить преобразование координат с помощью PCA на одной части и потом спроецировать вторую часть данных на найденные компоненты. Сравните с результатом полученным без разделения данных на две части. Постройте доверительный интервал для первой главной компоненты используя метод бутстреппинга. \n",
    "\n",
    "* Попробуйте увеличить количество классов (параметр n_class в функции load_digits) и посмотреть как изменятся наши компоненты."
   ]
  },
  {
   "cell_type": "code",
   "execution_count": null,
   "metadata": {},
   "outputs": [],
   "source": []
  },
  {
   "cell_type": "code",
   "execution_count": null,
   "metadata": {},
   "outputs": [],
   "source": []
  },
  {
   "cell_type": "code",
   "execution_count": null,
   "metadata": {},
   "outputs": [],
   "source": []
  },
  {
   "cell_type": "markdown",
   "metadata": {},
   "source": [
    "# Другие методы снижения размерности\n",
    "\n",
    "TSNE, MDS, LDA, Random Projection, Autoencoders, ..."
   ]
  },
  {
   "cell_type": "code",
   "execution_count": null,
   "metadata": {},
   "outputs": [],
   "source": [
    "from sklearn.manifold import TSNE\n",
    "\n",
    "tsne = TSNE(random_state=33)\n",
    "X_tsne = tsne.fit_transform(X)\n",
    "\n",
    "plt.scatter(X_tsne[:, 0], X_tsne[:, 1], c=y);\n",
    "\n",
    "# tsne = TSNE(random_state=32)\n",
    "# X_tsne = tsne.fit_transform(X)\n",
    "\n",
    "# plt.scatter(X_tsne[:, 0], X_tsne[:, 1], c=y);"
   ]
  },
  {
   "cell_type": "code",
   "execution_count": null,
   "metadata": {},
   "outputs": [],
   "source": []
  },
  {
   "cell_type": "code",
   "execution_count": null,
   "metadata": {},
   "outputs": [],
   "source": []
  },
  {
   "cell_type": "markdown",
   "metadata": {},
   "source": [
    "# Для чего используют методы снижения размерности?\n",
    "\n",
    "$$ X_{n \\times m} \\rightarrow X^{\\text{reduced}}_{n \\times k},\\ \\ \\  \\text{s.t.} \\ \\ \\  k < m$$\n",
    "                        \n",
    "\n",
    "- Снижение уровня шума\n",
    "- Для визуализации\n",
    "- Для сэмплирования данных\n",
    "- Для детектирования аномалий\n",
    "- ..."
   ]
  },
  {
   "cell_type": "code",
   "execution_count": null,
   "metadata": {},
   "outputs": [],
   "source": []
  }
 ],
 "metadata": {
  "kernelspec": {
   "display_name": "Python 3",
   "language": "python",
   "name": "python3"
  },
  "language_info": {
   "codemirror_mode": {
    "name": "ipython",
    "version": 3
   },
   "file_extension": ".py",
   "mimetype": "text/x-python",
   "name": "python",
   "nbconvert_exporter": "python",
   "pygments_lexer": "ipython3",
   "version": "3.8.8"
  }
 },
 "nbformat": 4,
 "nbformat_minor": 2
}
