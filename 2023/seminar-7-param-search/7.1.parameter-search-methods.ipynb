{
 "cells": [
  {
   "cell_type": "markdown",
   "metadata": {
    "_cell_guid": "79c7e3d0-c299-4dcb-8224-4455121ee9b0",
    "_uuid": "d629ff2d2480ee46fbb7e2d37f6b5fab8052498a"
   },
   "source": [
    "# Parameter search comparisons\n",
    "\n",
    "1. GridSearch\n",
    "2. RandomSearch\n",
    "3. HyperOpt Usage\n",
    "\n",
    "> We will use IDAO-2020 data for demonstration.\n",
    "https://www.kaggle.com/datasets/neibyr/idao2020"
   ]
  },
  {
   "cell_type": "code",
   "execution_count": null,
   "metadata": {},
   "outputs": [],
   "source": [
    "# Глубина дерева [2,...,12]\n",
    "# Количество дереьвев [10,..,20]"
   ]
  },
  {
   "cell_type": "code",
   "execution_count": 12,
   "metadata": {},
   "outputs": [],
   "source": [
    "import pandas as pd\n",
    "import numpy as np\n",
    "\n",
    "from sklearn.ensemble import RandomForestRegressor\n",
    "from catboost import CatBoostRegressor\n",
    "\n",
    "from sklearn.model_selection import KFold, cross_val_score"
   ]
  },
  {
   "cell_type": "code",
   "execution_count": 11,
   "metadata": {},
   "outputs": [],
   "source": [
    "# !pip install catboost"
   ]
  },
  {
   "cell_type": "code",
   "execution_count": 3,
   "metadata": {},
   "outputs": [],
   "source": [
    "# !kaggle datasets download -d neibyr/idao2020\n",
    "# !unzip  idao2020.zip"
   ]
  },
  {
   "cell_type": "code",
   "execution_count": 4,
   "metadata": {},
   "outputs": [],
   "source": [
    "RANDOM_SEED=5\n",
    "\n",
    "train = pd.read_csv('./data/train.csv', index_col=0)\n",
    "test =  pd.read_csv('./data/Track 1/test.csv', index_col=0)"
   ]
  },
  {
   "cell_type": "code",
   "execution_count": 5,
   "metadata": {},
   "outputs": [
    {
     "data": {
      "text/html": [
       "<div>\n",
       "<style scoped>\n",
       "    .dataframe tbody tr th:only-of-type {\n",
       "        vertical-align: middle;\n",
       "    }\n",
       "\n",
       "    .dataframe tbody tr th {\n",
       "        vertical-align: top;\n",
       "    }\n",
       "\n",
       "    .dataframe thead th {\n",
       "        text-align: right;\n",
       "    }\n",
       "</style>\n",
       "<table border=\"1\" class=\"dataframe\">\n",
       "  <thead>\n",
       "    <tr style=\"text-align: right;\">\n",
       "      <th></th>\n",
       "      <th>epoch</th>\n",
       "      <th>sat_id</th>\n",
       "      <th>x</th>\n",
       "      <th>y</th>\n",
       "      <th>z</th>\n",
       "      <th>Vx</th>\n",
       "      <th>Vy</th>\n",
       "      <th>Vz</th>\n",
       "      <th>x_sim</th>\n",
       "      <th>y_sim</th>\n",
       "      <th>z_sim</th>\n",
       "      <th>Vx_sim</th>\n",
       "      <th>Vy_sim</th>\n",
       "      <th>Vz_sim</th>\n",
       "    </tr>\n",
       "    <tr>\n",
       "      <th>id</th>\n",
       "      <th></th>\n",
       "      <th></th>\n",
       "      <th></th>\n",
       "      <th></th>\n",
       "      <th></th>\n",
       "      <th></th>\n",
       "      <th></th>\n",
       "      <th></th>\n",
       "      <th></th>\n",
       "      <th></th>\n",
       "      <th></th>\n",
       "      <th></th>\n",
       "      <th></th>\n",
       "      <th></th>\n",
       "    </tr>\n",
       "  </thead>\n",
       "  <tbody>\n",
       "    <tr>\n",
       "      <th>0</th>\n",
       "      <td>2014-01-01T00:00:00.000</td>\n",
       "      <td>0</td>\n",
       "      <td>-8855.823863</td>\n",
       "      <td>13117.780146</td>\n",
       "      <td>-20728.353233</td>\n",
       "      <td>-0.908303</td>\n",
       "      <td>-3.808436</td>\n",
       "      <td>-2.022083</td>\n",
       "      <td>-8843.131454</td>\n",
       "      <td>13138.221690</td>\n",
       "      <td>-20741.615306</td>\n",
       "      <td>-0.907527</td>\n",
       "      <td>-3.804930</td>\n",
       "      <td>-2.024133</td>\n",
       "    </tr>\n",
       "    <tr>\n",
       "      <th>1</th>\n",
       "      <td>2014-01-01T00:46:43.000</td>\n",
       "      <td>0</td>\n",
       "      <td>-10567.672384</td>\n",
       "      <td>1619.746066</td>\n",
       "      <td>-24451.813271</td>\n",
       "      <td>-0.302590</td>\n",
       "      <td>-4.272617</td>\n",
       "      <td>-0.612796</td>\n",
       "      <td>-10555.500066</td>\n",
       "      <td>1649.289367</td>\n",
       "      <td>-24473.089556</td>\n",
       "      <td>-0.303704</td>\n",
       "      <td>-4.269816</td>\n",
       "      <td>-0.616468</td>\n",
       "    </tr>\n",
       "  </tbody>\n",
       "</table>\n",
       "</div>"
      ],
      "text/plain": [
       "                      epoch  sat_id             x             y             z  \\\n",
       "id                                                                              \n",
       "0   2014-01-01T00:00:00.000       0  -8855.823863  13117.780146 -20728.353233   \n",
       "1   2014-01-01T00:46:43.000       0 -10567.672384   1619.746066 -24451.813271   \n",
       "\n",
       "          Vx        Vy        Vz         x_sim         y_sim         z_sim  \\\n",
       "id                                                                           \n",
       "0  -0.908303 -3.808436 -2.022083  -8843.131454  13138.221690 -20741.615306   \n",
       "1  -0.302590 -4.272617 -0.612796 -10555.500066   1649.289367 -24473.089556   \n",
       "\n",
       "      Vx_sim    Vy_sim    Vz_sim  \n",
       "id                                \n",
       "0  -0.907527 -3.804930 -2.024133  \n",
       "1  -0.303704 -4.269816 -0.616468  "
      ]
     },
     "execution_count": 5,
     "metadata": {},
     "output_type": "execute_result"
    }
   ],
   "source": [
    "train.head(2)"
   ]
  },
  {
   "cell_type": "code",
   "execution_count": 6,
   "metadata": {},
   "outputs": [
    {
     "data": {
      "text/html": [
       "<div>\n",
       "<style scoped>\n",
       "    .dataframe tbody tr th:only-of-type {\n",
       "        vertical-align: middle;\n",
       "    }\n",
       "\n",
       "    .dataframe tbody tr th {\n",
       "        vertical-align: top;\n",
       "    }\n",
       "\n",
       "    .dataframe thead th {\n",
       "        text-align: right;\n",
       "    }\n",
       "</style>\n",
       "<table border=\"1\" class=\"dataframe\">\n",
       "  <thead>\n",
       "    <tr style=\"text-align: right;\">\n",
       "      <th></th>\n",
       "      <th>sat_id</th>\n",
       "      <th>epoch</th>\n",
       "      <th>x_sim</th>\n",
       "      <th>y_sim</th>\n",
       "      <th>z_sim</th>\n",
       "      <th>Vx_sim</th>\n",
       "      <th>Vy_sim</th>\n",
       "      <th>Vz_sim</th>\n",
       "    </tr>\n",
       "    <tr>\n",
       "      <th>id</th>\n",
       "      <th></th>\n",
       "      <th></th>\n",
       "      <th></th>\n",
       "      <th></th>\n",
       "      <th></th>\n",
       "      <th></th>\n",
       "      <th></th>\n",
       "      <th></th>\n",
       "    </tr>\n",
       "  </thead>\n",
       "  <tbody>\n",
       "    <tr>\n",
       "      <th>3927</th>\n",
       "      <td>1</td>\n",
       "      <td>2014-02-01T00:01:45.162</td>\n",
       "      <td>-13366.891347</td>\n",
       "      <td>-14236.753503</td>\n",
       "      <td>6386.774555</td>\n",
       "      <td>4.333815</td>\n",
       "      <td>-0.692764</td>\n",
       "      <td>0.810774</td>\n",
       "    </tr>\n",
       "    <tr>\n",
       "      <th>3928</th>\n",
       "      <td>1</td>\n",
       "      <td>2014-02-01T00:22:57.007</td>\n",
       "      <td>-7370.434039</td>\n",
       "      <td>-14498.771520</td>\n",
       "      <td>7130.411325</td>\n",
       "      <td>5.077413</td>\n",
       "      <td>0.360609</td>\n",
       "      <td>0.313402</td>\n",
       "    </tr>\n",
       "  </tbody>\n",
       "</table>\n",
       "</div>"
      ],
      "text/plain": [
       "      sat_id                    epoch         x_sim         y_sim  \\\n",
       "id                                                                  \n",
       "3927       1  2014-02-01T00:01:45.162 -13366.891347 -14236.753503   \n",
       "3928       1  2014-02-01T00:22:57.007  -7370.434039 -14498.771520   \n",
       "\n",
       "            z_sim    Vx_sim    Vy_sim    Vz_sim  \n",
       "id                                               \n",
       "3927  6386.774555  4.333815 -0.692764  0.810774  \n",
       "3928  7130.411325  5.077413  0.360609  0.313402  "
      ]
     },
     "execution_count": 6,
     "metadata": {},
     "output_type": "execute_result"
    }
   ],
   "source": [
    "test.head(2)"
   ]
  },
  {
   "cell_type": "code",
   "execution_count": 7,
   "metadata": {},
   "outputs": [],
   "source": [
    "def prepare_features(df):\n",
    "    '''minimal preprocessing'''\n",
    "    date = pd.to_datetime(df.epoch)\n",
    "    # year and month are the same accross the data\n",
    "    df['day'] = date.dt.day\n",
    "    df['weekday'] = date.dt.weekday\n",
    "    df['hour'] = date.dt.hour\n",
    "    df['minute'] = date.dt.minute\n",
    "    df['second'] = date.dt.second\n",
    "    \n",
    "    return df.drop('epoch', axis=1)"
   ]
  },
  {
   "cell_type": "code",
   "execution_count": 8,
   "metadata": {},
   "outputs": [],
   "source": [
    "train = prepare_features(train)\n",
    "X = train[['x_sim', 'y_sim', 'z_sim',\n",
    "           'Vx_sim', 'Vy_sim', 'Vz_sim',\n",
    "           'sat_id', 'day', 'weekday', 'hour', 'minute','second']]\n",
    "Y = train[['x', 'y', 'z',\n",
    "           'Vx', 'Vy', 'Vz']]"
   ]
  },
  {
   "cell_type": "markdown",
   "metadata": {},
   "source": [
    "# 1. GridSearch"
   ]
  },
  {
   "cell_type": "code",
   "execution_count": 9,
   "metadata": {},
   "outputs": [],
   "source": [
    "from sklearn.model_selection import GridSearchCV"
   ]
  },
  {
   "cell_type": "code",
   "execution_count": 10,
   "metadata": {},
   "outputs": [],
   "source": [
    "# Sattelite based cross-validation\n",
    "\n",
    "rgn = RandomForestRegressor(n_estimators=10)\n",
    "cv = list(KFold(n_splits=5, shuffle=True, random_state=RANDOM_SEED).split(X, Y['x'], groups=X['sat_id']))"
   ]
  },
  {
   "cell_type": "code",
   "execution_count": 13,
   "metadata": {},
   "outputs": [],
   "source": [
    "# [1][2][3][4][5]\n",
    "\n",
    "# Train [1-4],     Test [5] --> Accuracy = 0.78\n",
    "# Train [1,2,3,5], Test [4] --> Accuracy = 0.73\n",
    "# Train [1,2,4,5], Test [3] --> Accuracy = 0.88\n",
    "# Train [1,3,4,5], Test [2] --> Accuracy = 0.71\n",
    "# Train [2,3,4,5], Test [1] --> Accuracy = 0.75\n",
    "\n",
    "\n",
    "# RandomForest(n_estimators=10, max_depth=4, min_samples_split=10)\n",
    "\n",
    "# mean = 0.72 std = 0.1\n",
    "\n",
    "# RandomForest(n_estimators=10, max_depth=8, min_samples_split=10)\n",
    "\n",
    "# mean = 0.75 std = 0.08\n",
    "\n",
    "# Leave-one-out"
   ]
  },
  {
   "cell_type": "code",
   "execution_count": 14,
   "metadata": {},
   "outputs": [
    {
     "data": {
      "text/plain": [
       "30"
      ]
     },
     "execution_count": 14,
     "metadata": {},
     "output_type": "execute_result"
    }
   ],
   "source": [
    "len(np.arange(3,8,2)) * len(np.arange(2,25,5)) * 1 * 2"
   ]
  },
  {
   "cell_type": "code",
   "execution_count": 15,
   "metadata": {},
   "outputs": [],
   "source": [
    "params = {\n",
    "    'max_depth': np.arange(3,8,2),\n",
    "    'min_samples_split': np.arange(2,25,5),\n",
    "    'min_samples_leaf': [5],\n",
    "    'max_features': [0.3, 0.7],\n",
    "    'random_state':[RANDOM_SEED],\n",
    "}\n",
    "\n",
    "gs = GridSearchCV(estimator=rgn,\n",
    "                  param_grid=params,\n",
    "                  scoring='neg_mean_squared_error',\n",
    "                  cv=cv,\n",
    "                  n_jobs=-1,\n",
    "                  verbose=5,)"
   ]
  },
  {
   "cell_type": "code",
   "execution_count": null,
   "metadata": {},
   "outputs": [],
   "source": [
    "train-validation\n",
    "\n",
    "80-20"
   ]
  },
  {
   "cell_type": "code",
   "execution_count": null,
   "metadata": {},
   "outputs": [],
   "source": [
    "8 - 1,1\n",
    "8 - 0,0\n",
    "4 - 1,0\n",
    "\n",
    "accuracy = 16/20 = 0.8\n",
    "\n",
    "20-20-20-20-20\n",
    "1,2,3,4,5\n",
    "\n",
    "1 -> 0.8 w_j-1\n",
    "2 -> 0.9 w_j-2\n",
    "3 -> 0.7\n",
    "...\n",
    "\n",
    "Mean, Std"
   ]
  },
  {
   "cell_type": "code",
   "execution_count": null,
   "metadata": {},
   "outputs": [],
   "source": [
    "100+-10, 90+-20\n",
    "\n",
    "TTtest, Student t-test"
   ]
  },
  {
   "cell_type": "code",
   "execution_count": 45,
   "metadata": {},
   "outputs": [],
   "source": [
    "# train-validation-test\n",
    "# train - обучаете \"параметры\" алгоритма\n",
    "# validation - подбор гиперпараметров\n",
    "# test - оценка качества работы алгоритма\n",
    "\n",
    "# train-test\n",
    "# train: fold1, fold2, fold3 - cross-validation\n",
    "# fold1+fold2 -> fold3\n",
    "# fold2+fold3 -> fold1\n",
    "# fold1+fold3 -> fold2"
   ]
  },
  {
   "cell_type": "code",
   "execution_count": 16,
   "metadata": {},
   "outputs": [
    {
     "name": "stdout",
     "output_type": "stream",
     "text": [
      "Fitting 5 folds for each of 30 candidates, totalling 150 fits\n"
     ]
    },
    {
     "data": {
      "text/plain": [
       "GridSearchCV(cv=[(array([     3,      4,      5, ..., 649908, 649910, 649911]),\n",
       "                  array([     0,      1,      2, ..., 649906, 649907, 649909])),\n",
       "                 (array([     0,      1,      2, ..., 649909, 649910, 649911]),\n",
       "                  array([     7,     10,     13, ..., 649889, 649893, 649908])),\n",
       "                 (array([     0,      1,      2, ..., 649908, 649909, 649910]),\n",
       "                  array([     3,      4,     11, ..., 649904, 649905, 649911])),\n",
       "                 (array([     0,      1,      2, ..., 649909, 649910, 649911]),\n",
       "                  array([     5,      8,     15, ..., 649898, 649900, 649902])),\n",
       "                 (array([     0,      1,      2, ..., 649908, 649909, 649911]),\n",
       "                  array([     9,     17,     18, ..., 649897, 649903, 649910]))],\n",
       "             estimator=RandomForestRegressor(n_estimators=10), n_jobs=-1,\n",
       "             param_grid={'max_depth': array([3, 5, 7]),\n",
       "                         'max_features': [0.3, 0.7], 'min_samples_leaf': [5],\n",
       "                         'min_samples_split': array([ 2,  7, 12, 17, 22]),\n",
       "                         'random_state': [5]},\n",
       "             scoring='neg_mean_squared_error', verbose=5)"
      ]
     },
     "execution_count": 16,
     "metadata": {},
     "output_type": "execute_result"
    }
   ],
   "source": [
    "gs.fit(X, Y['x'])\n",
    "# ~10 min"
   ]
  },
  {
   "cell_type": "code",
   "execution_count": null,
   "metadata": {},
   "outputs": [],
   "source": [
    "params = {\n",
    "    'max_depth': np.arange(3,8,2),\n",
    "    'min_samples_split': np.arange(2,25,5),\n",
    "    'min_samples_leaf': [5],\n",
    "    'max_features': [0.3, 0.7],\n",
    "    'random_state':[RANDOM_SEED],\n",
    "}\n"
   ]
  },
  {
   "cell_type": "code",
   "execution_count": 19,
   "metadata": {},
   "outputs": [
    {
     "data": {
      "text/plain": [
       "-46118936.64006169"
      ]
     },
     "execution_count": 19,
     "metadata": {},
     "output_type": "execute_result"
    }
   ],
   "source": [
    "gs.best_score_"
   ]
  },
  {
   "cell_type": "code",
   "execution_count": 21,
   "metadata": {},
   "outputs": [
    {
     "data": {
      "text/plain": [
       "{'max_depth': 7,\n",
       " 'max_features': 0.7,\n",
       " 'min_samples_leaf': 5,\n",
       " 'min_samples_split': 22,\n",
       " 'random_state': 5}"
      ]
     },
     "execution_count": 21,
     "metadata": {},
     "output_type": "execute_result"
    }
   ],
   "source": [
    "gs.best_params_"
   ]
  },
  {
   "cell_type": "code",
   "execution_count": 22,
   "metadata": {},
   "outputs": [
    {
     "data": {
      "text/plain": [
       "RandomForestRegressor(max_depth=7, max_features=0.7, min_samples_leaf=5,\n",
       "                      min_samples_split=22, n_estimators=10, random_state=5)"
      ]
     },
     "execution_count": 22,
     "metadata": {},
     "output_type": "execute_result"
    }
   ],
   "source": [
    "gs.best_estimator_"
   ]
  },
  {
   "cell_type": "markdown",
   "metadata": {},
   "source": [
    "# 2. RandomSearch"
   ]
  },
  {
   "cell_type": "code",
   "execution_count": 23,
   "metadata": {},
   "outputs": [],
   "source": [
    "from sklearn.model_selection import RandomizedSearchCV\n",
    "from scipy import stats"
   ]
  },
  {
   "cell_type": "code",
   "execution_count": 46,
   "metadata": {},
   "outputs": [
    {
     "data": {
      "text/plain": [
       "<scipy.stats._distn_infrastructure.rv_continuous_frozen at 0x7f50dfc6ac40>"
      ]
     },
     "execution_count": 46,
     "metadata": {},
     "output_type": "execute_result"
    }
   ],
   "source": [
    "stats.uniform()"
   ]
  },
  {
   "cell_type": "code",
   "execution_count": 24,
   "metadata": {},
   "outputs": [],
   "source": [
    "params = {\n",
    "    'max_depth': stats.randint(2, 8),\n",
    "    'min_samples_split': stats.randint(2, 25),\n",
    "    'min_samples_leaf': [5],\n",
    "    'max_features': stats.uniform(),\n",
    "    'random_state':[RANDOM_SEED],\n",
    "}\n",
    "\n",
    "\n",
    "rs = RandomizedSearchCV(estimator=rgn,\n",
    "                       param_distributions=params,\n",
    "                       n_iter=30,\n",
    "                       scoring='neg_mean_squared_error',\n",
    "                       n_jobs=-1,\n",
    "                       cv=cv,\n",
    "                       verbose=5,\n",
    "                       random_state=RANDOM_SEED)"
   ]
  },
  {
   "cell_type": "code",
   "execution_count": 25,
   "metadata": {},
   "outputs": [
    {
     "name": "stdout",
     "output_type": "stream",
     "text": [
      "Fitting 5 folds for each of 30 candidates, totalling 150 fits\n"
     ]
    },
    {
     "data": {
      "text/plain": [
       "RandomizedSearchCV(cv=[(array([     3,      4,      5, ..., 649908, 649910, 649911]),\n",
       "                        array([     0,      1,      2, ..., 649906, 649907, 649909])),\n",
       "                       (array([     0,      1,      2, ..., 649909, 649910, 649911]),\n",
       "                        array([     7,     10,     13, ..., 649889, 649893, 649908])),\n",
       "                       (array([     0,      1,      2, ..., 649908, 649909, 649910]),\n",
       "                        array([     3,      4,     11, ..., 649904, 649905, 649911])),\n",
       "                       (array([     0,      1,      2, ..., 649909, 649910, 649911]),\n",
       "                        array([     5,      8,     15, ..., 649898, 649900, 64990...\n",
       "                   param_distributions={'max_depth': <scipy.stats._distn_infrastructure.rv_discrete_frozen object at 0x7f50dfc1ca30>,\n",
       "                                        'max_features': <scipy.stats._distn_infrastructure.rv_continuous_frozen object at 0x7f50dfc1cac0>,\n",
       "                                        'min_samples_leaf': [5],\n",
       "                                        'min_samples_split': <scipy.stats._distn_infrastructure.rv_discrete_frozen object at 0x7f50dfc1ecd0>,\n",
       "                                        'random_state': [5]},\n",
       "                   random_state=5, scoring='neg_mean_squared_error', verbose=5)"
      ]
     },
     "execution_count": 25,
     "metadata": {},
     "output_type": "execute_result"
    }
   ],
   "source": [
    "rs.fit(X, Y['x'])"
   ]
  },
  {
   "cell_type": "code",
   "execution_count": 26,
   "metadata": {},
   "outputs": [
    {
     "data": {
      "text/plain": [
       "{'max_depth': 7,\n",
       " 'max_features': 0.8265542486873563,\n",
       " 'min_samples_leaf': 5,\n",
       " 'min_samples_split': 18,\n",
       " 'random_state': 5}"
      ]
     },
     "execution_count": 26,
     "metadata": {},
     "output_type": "execute_result"
    }
   ],
   "source": [
    "rs.best_params_"
   ]
  },
  {
   "cell_type": "code",
   "execution_count": 47,
   "metadata": {},
   "outputs": [
    {
     "data": {
      "text/plain": [
       "{'max_depth': 7,\n",
       " 'max_features': 0.7,\n",
       " 'min_samples_leaf': 5,\n",
       " 'min_samples_split': 22,\n",
       " 'random_state': 5}"
      ]
     },
     "execution_count": 47,
     "metadata": {},
     "output_type": "execute_result"
    }
   ],
   "source": [
    "gs.best_params_"
   ]
  },
  {
   "cell_type": "code",
   "execution_count": 27,
   "metadata": {},
   "outputs": [],
   "source": [
    "# RandomForestRegressor(**rs.best_params_)\n",
    "# 10*0.83"
   ]
  },
  {
   "cell_type": "markdown",
   "metadata": {},
   "source": [
    "# 3. Hyperopt usage \n",
    "\n",
    "http://hyperopt.github.io/hyperopt/"
   ]
  },
  {
   "cell_type": "code",
   "execution_count": 31,
   "metadata": {},
   "outputs": [],
   "source": [
    "# !pip install hyperopt"
   ]
  },
  {
   "cell_type": "code",
   "execution_count": 32,
   "metadata": {},
   "outputs": [],
   "source": [
    "from hyperopt import Trials, fmin, hp, tpe"
   ]
  },
  {
   "cell_type": "code",
   "execution_count": 56,
   "metadata": {},
   "outputs": [],
   "source": [
    "rgn = RandomForestRegressor(n_estimators=10, min_samples_leaf=5, random_state=RANDOM_SEED)\n",
    "\n",
    "def score(params):\n",
    "    print(f\"Training with params: {params}\")\n",
    "    rgn.set_params(**params)\n",
    "    cv = list(KFold(n_splits=5, shuffle=True, random_state=RANDOM_SEED).split(X, Y['x'], groups=X['sat_id']))\n",
    "    neg_mse = cross_val_score(rgn, X, Y['x'], scoring='neg_mean_squared_error', cv=cv).mean()        \n",
    "    return -neg_mse\n",
    "\n",
    "\n",
    "def optimize(random_state=RANDOM_SEED, niter=2):\n",
    "    param_space = {\n",
    "    'max_depth': hp.choice('max_depth', np.arange(2, 8, dtype=int)),\n",
    "    'min_samples_split': hp.choice('min_samples_split', np.arange(2, 25, dtype=int)),\n",
    "    'max_features': hp.uniform('max_features', 0, 1.),\n",
    "    }\n",
    "    trials = Trials()\n",
    "    best = fmin(score, \n",
    "                param_space, \n",
    "                algo=tpe.suggest, \n",
    "                trials=trials, \n",
    "                max_evals=niter,\n",
    "                rstate=np.random.default_rng(RANDOM_SEED)\n",
    "               )\n",
    "    return best, trials, param_space"
   ]
  },
  {
   "cell_type": "code",
   "execution_count": 80,
   "metadata": {},
   "outputs": [
    {
     "name": "stdout",
     "output_type": "stream",
     "text": [
      "Training with params: {'max_depth': 5, 'max_features': 0.23244083818919758, 'min_samples_split': 19}    \n",
      "Training with params: {'max_depth': 5, 'max_features': 0.12850062719790667, 'min_samples_split': 8}     \n",
      "Training with params: {'max_depth': 3, 'max_features': 0.5151489749049859, 'min_samples_split': 3}      \n",
      "Training with params: {'max_depth': 2, 'max_features': 0.23370057559854263, 'min_samples_split': 14}    \n",
      "Training with params: {'max_depth': 5, 'max_features': 0.6319311937777371, 'min_samples_split': 10}     \n",
      "Training with params: {'max_depth': 3, 'max_features': 0.16199009717757973, 'min_samples_split': 7}     \n",
      "Training with params: {'max_depth': 3, 'max_features': 0.27304662452385786, 'min_samples_split': 9}     \n",
      "Training with params: {'max_depth': 3, 'max_features': 0.744845460895223, 'min_samples_split': 11}      \n",
      "Training with params: {'max_depth': 4, 'max_features': 0.855854763369589, 'min_samples_split': 15}      \n",
      "Training with params: {'max_depth': 2, 'max_features': 0.023657216970935924, 'min_samples_split': 13}   \n",
      "Training with params: {'max_depth': 7, 'max_features': 0.007936699729253816, 'min_samples_split': 18}   \n",
      "Training with params: {'max_depth': 7, 'max_features': 0.5405139869710144, 'min_samples_split': 21}     \n",
      "Training with params: {'max_depth': 2, 'max_features': 0.2627748510184573, 'min_samples_split': 16}     \n",
      "Training with params: {'max_depth': 6, 'max_features': 0.9384392973316729, 'min_samples_split': 3}      \n",
      "Training with params: {'max_depth': 6, 'max_features': 0.7050179459209299, 'min_samples_split': 7}      \n",
      "Training with params: {'max_depth': 5, 'max_features': 0.9158796719708263, 'min_samples_split': 2}      \n",
      "Training with params: {'max_depth': 4, 'max_features': 0.8903013214934632, 'min_samples_split': 18}     \n",
      "Training with params: {'max_depth': 7, 'max_features': 0.2601283851405143, 'min_samples_split': 3}      \n",
      "Training with params: {'max_depth': 7, 'max_features': 0.6418745940302248, 'min_samples_split': 12}     \n",
      "Training with params: {'max_depth': 3, 'max_features': 0.6194672401785355, 'min_samples_split': 11}     \n",
      "Training with params: {'max_depth': 6, 'max_features': 0.40325592766349055, 'min_samples_split': 12}    \n",
      "Training with params: {'max_depth': 6, 'max_features': 0.9898474382679345, 'min_samples_split': 17}     \n",
      "Training with params: {'max_depth': 6, 'max_features': 0.9739237389523481, 'min_samples_split': 17}     \n",
      "Training with params: {'max_depth': 6, 'max_features': 0.9893814239880362, 'min_samples_split': 22}     \n",
      "Training with params: {'max_depth': 6, 'max_features': 0.7847793343657716, 'min_samples_split': 20}     \n",
      "Training with params: {'max_depth': 6, 'max_features': 0.8221146954517965, 'min_samples_split': 6}      \n",
      "Training with params: {'max_depth': 6, 'max_features': 0.9993925764034823, 'min_samples_split': 17}     \n",
      "Training with params: {'max_depth': 6, 'max_features': 0.4150172984027204, 'min_samples_split': 4}      \n",
      "Training with params: {'max_depth': 6, 'max_features': 0.9263521517978899, 'min_samples_split': 5}      \n",
      "Training with params: {'max_depth': 4, 'max_features': 0.9075598138354999, 'min_samples_split': 5}      \n",
      "Training with params: {'max_depth': 6, 'max_features': 0.7147860577288607, 'min_samples_split': 5}      \n",
      "Training with params: {'max_depth': 5, 'max_features': 0.42298696253619195, 'min_samples_split': 23}    \n",
      "Training with params: {'max_depth': 6, 'max_features': 0.8192230620937249, 'min_samples_split': 24}     \n",
      "Training with params: {'max_depth': 2, 'max_features': 0.569385551019544, 'min_samples_split': 19}      \n",
      "Training with params: {'max_depth': 5, 'max_features': 0.9513096150482241, 'min_samples_split': 3}      \n",
      "Training with params: {'max_depth': 4, 'max_features': 0.35645470992553324, 'min_samples_split': 14}    \n",
      "Training with params: {'max_depth': 6, 'max_features': 0.6823297169571414, 'min_samples_split': 8}      \n",
      "Training with params: {'max_depth': 3, 'max_features': 0.7855849652730065, 'min_samples_split': 10}     \n",
      "Training with params: {'max_depth': 2, 'max_features': 0.4752983915285206, 'min_samples_split': 5}      \n",
      "Training with params: {'max_depth': 6, 'max_features': 0.13253926379868392, 'min_samples_split': 9}     \n",
      "Training with params: {'max_depth': 5, 'max_features': 0.8547016462721113, 'min_samples_split': 3}      \n",
      "Training with params: {'max_depth': 3, 'max_features': 0.5912192101572538, 'min_samples_split': 15}     \n",
      "Training with params: {'max_depth': 7, 'max_features': 0.9407602571513763, 'min_samples_split': 13}     \n",
      "Training with params: {'max_depth': 7, 'max_features': 0.7619361807110059, 'min_samples_split': 16}     \n",
      "Training with params: {'max_depth': 7, 'max_features': 0.7441148521783655, 'min_samples_split': 13}     \n",
      "Training with params: {'max_depth': 7, 'max_features': 0.6606716579533443, 'min_samples_split': 16}     \n",
      "Training with params: {'max_depth': 7, 'max_features': 0.4810976083675561, 'min_samples_split': 13}     \n",
      "Training with params: {'max_depth': 7, 'max_features': 0.8664500395078054, 'min_samples_split': 13}     \n",
      "Training with params: {'max_depth': 7, 'max_features': 0.8720940507690229, 'min_samples_split': 13}     \n",
      "Training with params: {'max_depth': 7, 'max_features': 0.5179199197684882, 'min_samples_split': 13}     \n",
      "100%|█████████████████████████████████| 50/50 [05:53<00:00,  7.08s/trial, best loss: 44255009.564420745]\n"
     ]
    }
   ],
   "source": [
    "# Use niter=2 for minimal example\n",
    "best_hyperparams, trials = optimize(niter=50) #30 "
   ]
  },
  {
   "cell_type": "markdown",
   "metadata": {},
   "source": [
    "# HyperOpt `fmin` returns indexes for `choice` defined parameters "
   ]
  },
  {
   "cell_type": "code",
   "execution_count": 81,
   "metadata": {},
   "outputs": [
    {
     "data": {
      "text/plain": [
       "{'max_depth': 5, 'max_features': 0.9407602571513763, 'min_samples_split': 11}"
      ]
     },
     "execution_count": 81,
     "metadata": {},
     "output_type": "execute_result"
    }
   ],
   "source": [
    "# np.arange(2, 8, dtype=int)[5], np.arange(2, 25, dtype=int)[1]\n",
    "\n",
    "best_hyperparams"
   ]
  },
  {
   "cell_type": "code",
   "execution_count": 83,
   "metadata": {},
   "outputs": [],
   "source": [
    "param_space = {\n",
    "    'max_depth': hp.choice('max_depth', np.arange(2, 8, dtype=int)),\n",
    "    'min_samples_split': hp.choice('min_samples_split', np.arange(2, 25, dtype=int)),\n",
    "    'max_features': hp.uniform('max_features', 0, 1.),\n",
    "    }"
   ]
  },
  {
   "cell_type": "markdown",
   "metadata": {},
   "source": [
    "# Use `space_eval` to get optimal hyperparameters values!"
   ]
  },
  {
   "cell_type": "code",
   "execution_count": 90,
   "metadata": {},
   "outputs": [
    {
     "name": "stdout",
     "output_type": "stream",
     "text": [
      "{'max_depth': 7, 'max_features': 0.9407602571513763, 'min_samples_split': 13}\n"
     ]
    }
   ],
   "source": [
    "from hyperopt import space_eval\n",
    "print(space_eval(param_space, best_hyperparams))"
   ]
  },
  {
   "cell_type": "code",
   "execution_count": 77,
   "metadata": {},
   "outputs": [
    {
     "name": "stdout",
     "output_type": "stream",
     "text": [
      "[{'loss': 310758559.1580734, 'status': 'ok'}, {'loss': 382120055.5637368, 'status': 'ok'}, {'loss': 155642079.99346083, 'status': 'ok'}, {'loss': 422269175.05689955, 'status': 'ok'}, {'loss': 75231158.40544374, 'status': 'ok'}]\n",
      "{'state': 2, 'tid': 4, 'spec': None, 'result': {'loss': 75231158.40544374, 'status': 'ok'}, 'misc': {'tid': 4, 'cmd': ('domain_attachment', 'FMinIter_Domain'), 'workdir': None, 'idxs': {'max_depth': [4], 'max_features': [4], 'min_samples_split': [4]}, 'vals': {'max_depth': [3], 'max_features': [0.6319311937777371], 'min_samples_split': [8]}}, 'exp_key': None, 'owner': None, 'version': 0, 'book_time': datetime.datetime(2023, 3, 30, 16, 52, 41, 714000), 'refresh_time': datetime.datetime(2023, 3, 30, 16, 52, 48, 854000)}\n",
      "({'max_depth': [0, 1, 2, 3, 4], 'max_features': [0, 1, 2, 3, 4], 'min_samples_split': [0, 1, 2, 3, 4]}, {'max_depth': [3, 3, 1, 0, 3], 'max_features': [0.23244083818919758, 0.12850062719790667, 0.5151489749049859, 0.23370057559854263, 0.6319311937777371], 'min_samples_split': [17, 6, 1, 12, 8]})\n"
     ]
    }
   ],
   "source": [
    "# Checkout trials object\n",
    "\n",
    "print(trials.results)\n",
    "print(trials.best_trial)\n",
    "print(trials.idxs_vals)"
   ]
  },
  {
   "cell_type": "code",
   "execution_count": 39,
   "metadata": {},
   "outputs": [
    {
     "data": {
      "text/plain": [
       "{'max_depth': 7,\n",
       " 'max_features': 0.7,\n",
       " 'min_samples_leaf': 5,\n",
       " 'min_samples_split': 22,\n",
       " 'random_state': 5}"
      ]
     },
     "execution_count": 39,
     "metadata": {},
     "output_type": "execute_result"
    }
   ],
   "source": [
    "gs.best_params_"
   ]
  },
  {
   "cell_type": "code",
   "execution_count": 40,
   "metadata": {},
   "outputs": [
    {
     "data": {
      "text/plain": [
       "{'max_depth': 7,\n",
       " 'max_features': 0.8265542486873563,\n",
       " 'min_samples_leaf': 5,\n",
       " 'min_samples_split': 18,\n",
       " 'random_state': 5}"
      ]
     },
     "execution_count": 40,
     "metadata": {},
     "output_type": "execute_result"
    }
   ],
   "source": [
    "rs.best_params_"
   ]
  },
  {
   "cell_type": "code",
   "execution_count": 48,
   "metadata": {},
   "outputs": [
    {
     "data": {
      "text/plain": [
       "{'max_depth': 4, 'max_features': 0.9384392973316729, 'min_samples_split': 1}"
      ]
     },
     "execution_count": 48,
     "metadata": {},
     "output_type": "execute_result"
    }
   ],
   "source": [
    "best_hyperparams"
   ]
  },
  {
   "cell_type": "code",
   "execution_count": 41,
   "metadata": {},
   "outputs": [
    {
     "data": {
      "text/plain": [
       "-46118936.64006169"
      ]
     },
     "execution_count": 41,
     "metadata": {},
     "output_type": "execute_result"
    }
   ],
   "source": [
    "rgn = RandomForestRegressor(n_estimators=10, min_samples_leaf=5, random_state=RANDOM_SEED, n_jobs=-1)\n",
    "rgn.set_params(**gs.best_params_)\n",
    "cross_val_score(rgn, X, Y['x'], cv=cv, scoring='neg_mean_squared_error').mean()"
   ]
  },
  {
   "cell_type": "code",
   "execution_count": 50,
   "metadata": {},
   "outputs": [
    {
     "data": {
      "text/plain": [
       "6791.09240107952"
      ]
     },
     "execution_count": 50,
     "metadata": {},
     "output_type": "execute_result"
    }
   ],
   "source": [
    "np.sqrt(46_118_936)"
   ]
  },
  {
   "cell_type": "code",
   "execution_count": 42,
   "metadata": {},
   "outputs": [
    {
     "data": {
      "text/plain": [
       "-45767720.244413085"
      ]
     },
     "execution_count": 42,
     "metadata": {},
     "output_type": "execute_result"
    }
   ],
   "source": [
    "rgn = RandomForestRegressor(n_estimators=10, min_samples_leaf=5, random_state=RANDOM_SEED, n_jobs=-1)\n",
    "rgn.set_params(**rs.best_params_)\n",
    "cross_val_score(rgn, X, Y['x'], cv=cv, scoring='neg_mean_squared_error').mean()"
   ]
  },
  {
   "cell_type": "code",
   "execution_count": 51,
   "metadata": {},
   "outputs": [
    {
     "data": {
      "text/plain": [
       "6765.184402512617"
      ]
     },
     "execution_count": 51,
     "metadata": {},
     "output_type": "execute_result"
    }
   ],
   "source": [
    "np.sqrt(45_767_720)"
   ]
  },
  {
   "cell_type": "code",
   "execution_count": 91,
   "metadata": {},
   "outputs": [
    {
     "data": {
      "text/plain": [
       "-44255009.564420745"
      ]
     },
     "execution_count": 91,
     "metadata": {},
     "output_type": "execute_result"
    }
   ],
   "source": [
    "rgn = RandomForestRegressor(n_estimators=10, min_samples_leaf=5, **space_eval(param_space, best_hyperparams),\n",
    "                            random_state=RANDOM_SEED, n_jobs=-1)\n",
    "cross_val_score(rgn, X, Y['x'], cv=cv, scoring='neg_mean_squared_error').mean()"
   ]
  },
  {
   "cell_type": "code",
   "execution_count": 93,
   "metadata": {},
   "outputs": [
    {
     "data": {
      "text/plain": [
       "6652.443836666342"
      ]
     },
     "execution_count": 93,
     "metadata": {},
     "output_type": "execute_result"
    }
   ],
   "source": [
    "np.sqrt(44_255_009)"
   ]
  },
  {
   "cell_type": "code",
   "execution_count": null,
   "metadata": {},
   "outputs": [],
   "source": []
  },
  {
   "cell_type": "markdown",
   "metadata": {},
   "source": [
    "# Optuna (an alternative to HyperOpt)\n",
    "\n",
    "https://optuna.org/"
   ]
  },
  {
   "cell_type": "code",
   "execution_count": 98,
   "metadata": {},
   "outputs": [],
   "source": [
    "# !pip install optuna"
   ]
  },
  {
   "cell_type": "code",
   "execution_count": 99,
   "metadata": {},
   "outputs": [],
   "source": [
    "import optuna"
   ]
  },
  {
   "cell_type": "code",
   "execution_count": 111,
   "metadata": {},
   "outputs": [],
   "source": [
    "def objective(trial: optuna.trial.Trial):\n",
    "    param_space = {\n",
    "#         'n_estimators': trial.suggest_int('n_estimators', 10, 50),\n",
    "        'max_depth': trial.suggest_int('max_depth', 2, 8),\n",
    "        'min_samples_split': trial.suggest_int('min_samples_split', 2, 25),\n",
    "        'max_features': trial.suggest_float('max_features', 1e-6, 1., log=False),\n",
    "        }\n",
    "\n",
    "    rgn = RandomForestRegressor(n_estimators=10, random_state=RANDOM_SEED, **param_space, n_jobs=6)\n",
    "\n",
    "    cv = list(KFold(n_splits=5, shuffle=True, random_state=RANDOM_SEED).split(X, Y['x'], groups=X['sat_id']))\n",
    "    mse = cross_val_score(rgn, X, Y['x'], scoring='neg_mean_squared_error', cv=cv).mean()\n",
    "\n",
    "    return mse"
   ]
  },
  {
   "cell_type": "code",
   "execution_count": 112,
   "metadata": {},
   "outputs": [
    {
     "name": "stderr",
     "output_type": "stream",
     "text": [
      "\u001b[32m[I 2023-04-05 12:37:49,008]\u001b[0m A new study created in memory with name: no-name-6e2d623f-ef20-4e40-b376-a5807092cc86\u001b[0m\n",
      "/home/anvar/anaconda3/lib/python3.9/site-packages/optuna/progress_bar.py:56: ExperimentalWarning: Progress bar is experimental (supported from v1.2.0). The interface can change in the future.\n",
      "  self._init_valid()\n"
     ]
    },
    {
     "data": {
      "application/vnd.jupyter.widget-view+json": {
       "model_id": "353d411550d845f799df98d4cdcbbe8e",
       "version_major": 2,
       "version_minor": 0
      },
      "text/plain": [
       "  0%|          | 0/20 [00:00<?, ?it/s]"
      ]
     },
     "metadata": {},
     "output_type": "display_data"
    },
    {
     "name": "stdout",
     "output_type": "stream",
     "text": [
      "\u001b[32m[I 2023-04-05 12:37:52,763]\u001b[0m Trial 0 finished with value: -422269175.05689955 and parameters: {'max_depth': 2, 'min_samples_split': 23, 'max_features': 0.21698009297885476}. Best is trial 0 with value: -422269175.05689955.\u001b[0m\n",
      "\u001b[32m[I 2023-04-05 12:38:01,107]\u001b[0m Trial 1 finished with value: -130513293.2825294 and parameters: {'max_depth': 3, 'min_samples_split': 15, 'max_features': 0.6256556934473542}. Best is trial 1 with value: -130513293.2825294.\u001b[0m\n",
      "\u001b[32m[I 2023-04-05 12:38:04,778]\u001b[0m Trial 2 finished with value: -319833435.91123134 and parameters: {'max_depth': 6, 'min_samples_split': 11, 'max_features': 0.1201239238944989}. Best is trial 1 with value: -130513293.2825294.\u001b[0m\n",
      "\u001b[32m[I 2023-04-05 12:38:20,771]\u001b[0m Trial 3 finished with value: -54956240.06746979 and parameters: {'max_depth': 5, 'min_samples_split': 14, 'max_features': 0.8416357332728771}. Best is trial 3 with value: -54956240.06746979.\u001b[0m\n",
      "\u001b[32m[I 2023-04-05 12:38:27,976]\u001b[0m Trial 4 finished with value: -153974083.10420033 and parameters: {'max_depth': 3, 'min_samples_split': 19, 'max_features': 0.506319196338015}. Best is trial 3 with value: -54956240.06746979.\u001b[0m\n",
      "\u001b[32m[I 2023-04-05 12:38:53,175]\u001b[0m Trial 5 finished with value: -40665758.10411073 and parameters: {'max_depth': 8, 'min_samples_split': 25, 'max_features': 0.9663942892253412}. Best is trial 5 with value: -40665758.10411073.\u001b[0m\n",
      "\u001b[32m[I 2023-04-05 12:39:00,841]\u001b[0m Trial 6 finished with value: -183672706.89774826 and parameters: {'max_depth': 2, 'min_samples_split': 11, 'max_features': 0.9159373988181002}. Best is trial 5 with value: -40665758.10411073.\u001b[0m\n",
      "\u001b[32m[I 2023-04-05 12:39:06,365]\u001b[0m Trial 7 finished with value: -230514785.19255733 and parameters: {'max_depth': 6, 'min_samples_split': 5, 'max_features': 0.18708223990250605}. Best is trial 5 with value: -40665758.10411073.\u001b[0m\n",
      "\u001b[32m[I 2023-04-05 12:39:12,600]\u001b[0m Trial 8 finished with value: -230204143.784724 and parameters: {'max_depth': 2, 'min_samples_split': 13, 'max_features': 0.6104484613774004}. Best is trial 5 with value: -40665758.10411073.\u001b[0m\n",
      "\u001b[32m[I 2023-04-05 12:39:20,669]\u001b[0m Trial 9 finished with value: -110237489.28277202 and parameters: {'max_depth': 7, 'min_samples_split': 7, 'max_features': 0.29984791195323846}. Best is trial 5 with value: -40665758.10411073.\u001b[0m\n",
      "\u001b[32m[I 2023-04-05 12:39:45,842]\u001b[0m Trial 10 finished with value: -40665758.10411073 and parameters: {'max_depth': 8, 'min_samples_split': 25, 'max_features': 0.9889886878124968}. Best is trial 5 with value: -40665758.10411073.\u001b[0m\n",
      "\u001b[32m[I 2023-04-05 12:40:11,015]\u001b[0m Trial 11 finished with value: -40665758.104110725 and parameters: {'max_depth': 8, 'min_samples_split': 25, 'max_features': 0.9961552727861642}. Best is trial 11 with value: -40665758.104110725.\u001b[0m\n",
      "\u001b[32m[I 2023-04-05 12:40:32,262]\u001b[0m Trial 12 finished with value: -41489311.58886669 and parameters: {'max_depth': 8, 'min_samples_split': 21, 'max_features': 0.8080083940187153}. Best is trial 11 with value: -40665758.104110725.\u001b[0m\n",
      "\u001b[32m[I 2023-04-05 12:40:54,985]\u001b[0m Trial 13 finished with value: -44250166.63855652 and parameters: {'max_depth': 7, 'min_samples_split': 18, 'max_features': 0.988955185250718}. Best is trial 11 with value: -40665758.104110725.\u001b[0m\n",
      "\u001b[32m[I 2023-04-05 12:41:16,270]\u001b[0m Trial 14 finished with value: -41245411.45603029 and parameters: {'max_depth': 8, 'min_samples_split': 25, 'max_features': 0.8093711895746393}. Best is trial 11 with value: -40665758.104110725.\u001b[0m\n",
      "\u001b[32m[I 2023-04-05 12:41:29,510]\u001b[0m Trial 15 finished with value: -59991224.37010169 and parameters: {'max_depth': 5, 'min_samples_split': 21, 'max_features': 0.7281914202396331}. Best is trial 11 with value: -40665758.104110725.\u001b[0m\n",
      "\u001b[32m[I 2023-04-05 12:41:52,165]\u001b[0m Trial 16 finished with value: -44250166.63855652 and parameters: {'max_depth': 7, 'min_samples_split': 18, 'max_features': 0.9901472809597429}. Best is trial 11 with value: -40665758.104110725.\u001b[0m\n",
      "\u001b[32m[I 2023-04-05 12:42:07,426]\u001b[0m Trial 17 finished with value: -52300217.89539288 and parameters: {'max_depth': 6, 'min_samples_split': 2, 'max_features': 0.7312495072122467}. Best is trial 11 with value: -40665758.104110725.\u001b[0m\n",
      "\u001b[32m[I 2023-04-05 12:42:30,654]\u001b[0m Trial 18 finished with value: -41216450.6245957 and parameters: {'max_depth': 8, 'min_samples_split': 22, 'max_features': 0.8570933472145238}. Best is trial 11 with value: -40665758.104110725.\u001b[0m\n",
      "\u001b[32m[I 2023-04-05 12:42:38,492]\u001b[0m Trial 19 finished with value: -144975728.9198702 and parameters: {'max_depth': 5, 'min_samples_split': 25, 'max_features': 0.3976410876624189}. Best is trial 11 with value: -40665758.104110725.\u001b[0m\n"
     ]
    }
   ],
   "source": [
    "study = optuna.create_study(direction='maximize', pruner=optuna.pruners.MedianPruner(n_warmup_steps=5))\n",
    "study.optimize(objective, n_trials=20, show_progress_bar=True, n_jobs=1)"
   ]
  },
  {
   "cell_type": "code",
   "execution_count": 113,
   "metadata": {},
   "outputs": [
    {
     "data": {
      "text/plain": [
       "{'max_depth': 8, 'min_samples_split': 25, 'max_features': 0.9961552727861642}"
      ]
     },
     "execution_count": 113,
     "metadata": {},
     "output_type": "execute_result"
    }
   ],
   "source": [
    "study.best_params"
   ]
  },
  {
   "cell_type": "code",
   "execution_count": 114,
   "metadata": {},
   "outputs": [
    {
     "data": {
      "text/plain": [
       "-40665758.104110725"
      ]
     },
     "execution_count": 114,
     "metadata": {},
     "output_type": "execute_result"
    }
   ],
   "source": [
    "study.best_value"
   ]
  },
  {
   "cell_type": "code",
   "execution_count": 117,
   "metadata": {},
   "outputs": [
    {
     "data": {
      "text/plain": [
       "-40665758.10411073"
      ]
     },
     "execution_count": 117,
     "metadata": {},
     "output_type": "execute_result"
    }
   ],
   "source": [
    "rgn = RandomForestRegressor(n_estimators=10, **study.best_params,\n",
    "                            random_state=RANDOM_SEED, n_jobs=-1)\n",
    "cross_val_score(rgn, X, Y['x'], cv=cv, scoring='neg_mean_squared_error').mean()"
   ]
  },
  {
   "cell_type": "code",
   "execution_count": null,
   "metadata": {},
   "outputs": [],
   "source": []
  },
  {
   "cell_type": "code",
   "execution_count": null,
   "metadata": {},
   "outputs": [],
   "source": []
  },
  {
   "cell_type": "code",
   "execution_count": null,
   "metadata": {},
   "outputs": [],
   "source": []
  }
 ],
 "metadata": {
  "kernelspec": {
   "display_name": "Python 3 (ipykernel)",
   "language": "python",
   "name": "python3"
  },
  "language_info": {
   "codemirror_mode": {
    "name": "ipython",
    "version": 3
   },
   "file_extension": ".py",
   "mimetype": "text/x-python",
   "name": "python",
   "nbconvert_exporter": "python",
   "pygments_lexer": "ipython3",
   "version": "3.9.13"
  }
 },
 "nbformat": 4,
 "nbformat_minor": 4
}
