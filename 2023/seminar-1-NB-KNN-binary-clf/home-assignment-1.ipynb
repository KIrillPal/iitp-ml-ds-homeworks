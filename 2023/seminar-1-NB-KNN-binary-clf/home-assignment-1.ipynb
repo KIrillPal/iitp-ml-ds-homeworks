{
 "cells": [
  {
   "cell_type": "markdown",
   "id": "a7973ccf",
   "metadata": {},
   "source": [
    "# Домашнее задание 1. \n",
    "\n",
    "-  \"Оптимальность\" наивного Байесовского классификатора\n",
    "- Оценка \"важности\" признаков (feature importance)\n",
    "\n",
    "Для тех кто не знаком с библиотекой pandas я рекомендую вот эти два практических туториала:\n",
    "\n",
    "-  https://nbviewer.jupyter.org/github/justmarkham/pandas-videos/blob/master/pandas.ipynb (1-3 часа на прохождение, 30 вопросов с видео разборами)\n",
    "- https://github.com/guipsamora/pandas_exercises/ 11 топиков покрывающих весь основной функционал библиотеки\n"
   ]
  },
  {
   "cell_type": "code",
   "execution_count": null,
   "id": "df3f9952",
   "metadata": {},
   "outputs": [],
   "source": []
  },
  {
   "cell_type": "markdown",
   "id": "7104cd39",
   "metadata": {},
   "source": [
    "## 1. Наивный Байес\n",
    "\n",
    "Ваша задача сравнить вероятности получаемые наивным байесовским классификатором с вероятностями получаемыми если не делать предположения о независимости признаков. Мы будем делать это для 2 признаков рассмотренных на семинаре: Пол и Класс билета (пассажира)."
   ]
  },
  {
   "cell_type": "code",
   "execution_count": 29,
   "id": "4d081a96",
   "metadata": {},
   "outputs": [],
   "source": [
    "import pandas as pd"
   ]
  },
  {
   "cell_type": "code",
   "execution_count": 35,
   "id": "08916921",
   "metadata": {},
   "outputs": [],
   "source": [
    "df = pd.read_csv('../data/titanic_data.csv')"
   ]
  },
  {
   "cell_type": "code",
   "execution_count": 3,
   "id": "f8497c59",
   "metadata": {},
   "outputs": [],
   "source": [
    "X = pd.DataFrame()\n",
    "\n",
    "X['Sex'] = df['Sex'].map({\n",
    "    'Male':0,\n",
    "    'Female':1\n",
    "})\n",
    "X['PassengerClass'] = df['Passenger Class'].map({\n",
    "    'First': 1,\n",
    "    'Second': 2,\n",
    "    'Third': 3\n",
    "})\n",
    "\n",
    "X['Survived'] = df['Survived'].map({\n",
    "    'Yes': 1,\n",
    "    'No': 0\n",
    "})\n",
    "\n",
    "y = X['Survived']\n",
    "X = X.drop(['Survived'], axis=1)"
   ]
  },
  {
   "cell_type": "code",
   "execution_count": null,
   "id": "fa5b8080",
   "metadata": {},
   "outputs": [],
   "source": []
  },
  {
   "cell_type": "markdown",
   "id": "884ee769",
   "metadata": {},
   "source": [
    "## 1.1 Разделим данные на тренировочную и тестовую части"
   ]
  },
  {
   "cell_type": "code",
   "execution_count": 16,
   "id": "bff7a804",
   "metadata": {},
   "outputs": [],
   "source": [
    "from sklearn.model_selection import train_test_split"
   ]
  },
  {
   "cell_type": "code",
   "execution_count": 17,
   "id": "33ea4670",
   "metadata": {},
   "outputs": [],
   "source": [
    "X_train, X_test, y_train, y_test = train_test_split(X, y, train_size=0.66, random_state=5)"
   ]
  },
  {
   "cell_type": "code",
   "execution_count": null,
   "id": "41e9d7df",
   "metadata": {},
   "outputs": [],
   "source": []
  },
  {
   "cell_type": "markdown",
   "id": "bdf6e1fc",
   "metadata": {},
   "source": [
    "## 1.2 Реализуйте функцию `get_probability_survived_bayes`\n",
    "\n",
    "Которая считает честные вероятности выживания при условии заданного класса билета и пола:\n",
    "\n",
    "$$\n",
    "P(\\text{y}|\\text{Sex}, \\text{Passenger Class}) = \\frac{p(\\text{Sex}|\\text{Passenger Class}, \\text{y}) p(\\text{Passenger Class}|\\text{ y}) p(\\text{y})}{p(\\text{Sex}|\\text{Passenger Class}) p(\\text{Passenger Class})}\n",
    "$$\n",
    "\n",
    "## Помните что оценка вероятностей всегда должна происходить на тренировчной выборке."
   ]
  },
  {
   "cell_type": "code",
   "execution_count": 13,
   "id": "01177ce2",
   "metadata": {},
   "outputs": [],
   "source": [
    "from typing import Tuple"
   ]
  },
  {
   "cell_type": "code",
   "execution_count": 14,
   "id": "9c477f9b",
   "metadata": {},
   "outputs": [],
   "source": [
    "# Hint 1. Используйте pandas.groupby\n",
    "# Hint 2. Вы возвращаете tuple p_not_survived, p_survived, в котором\n",
    "# вероятность выжить находится на второй позиции, чтобы когда вы берете аргмакс получать метки классов 0/1 (не выжил/выжил)\n",
    "\n",
    "def get_probability_survived_bayes(pclass: int, sex: int) -> Tuple[float, float]:\n",
    "    '''Given `Passenger Class` and `Sex` returns true probabilities tuple(p_not_survived, p_survived)'''\n",
    "    ...\n",
    "    \n"
   ]
  },
  {
   "cell_type": "code",
   "execution_count": null,
   "id": "b9d25923",
   "metadata": {},
   "outputs": [],
   "source": []
  },
  {
   "cell_type": "markdown",
   "id": "dc7484a1",
   "metadata": {},
   "source": [
    "## 1.3 Реализуйте функцию `get_probability_survived_bayes_naive`\n",
    "\n",
    "Которая оценивает вероятность выжить в предположении о независимости признаков\n",
    "\n",
    "$$\n",
    "P(\\text{y}|\\text{Sex}, \\text{Passenger Class}) = \\frac{p(\\text{Sex}|\\text{y}) p(\\text{Passenger Class}|\\text{ y}) p(\\text{y})}{p(\\text{Sex}) p(\\text{Passenger Class})}\n",
    "$$"
   ]
  },
  {
   "cell_type": "code",
   "execution_count": 21,
   "id": "5ee72a95",
   "metadata": {},
   "outputs": [],
   "source": [
    "def get_probability_survived_bayes_naive(pclass: int, sex: int) -> Tuple[float, float]:\n",
    "    '''Given `Passenger Class` and `Sex` returns tuple(p_not_survived, p_survived), \n",
    "    under naive assumption of features independence'''\n",
    "    ...\n",
    "    \n",
    "# Hint 1. Поскольку вы делаете предположении о независимости признаков, то p(y=1|...) + p(y=0| ...) некорректно отнормированы\n",
    "# и не будут суммироваться в 1. Не забудьте выполнить необходимую нормировку."
   ]
  },
  {
   "cell_type": "code",
   "execution_count": null,
   "id": "1daa083a",
   "metadata": {},
   "outputs": [],
   "source": []
  },
  {
   "cell_type": "markdown",
   "id": "ab34439e",
   "metadata": {},
   "source": [
    "## 1.4 Используйте ваши функции для того чтобы сделать предсказание на тесте\n",
    "\n",
    "\n",
    "1. Для всех 6 уникальных комбинаций значений признаков сравните вероятности принадлежности классу 1\n",
    " - насколько они отличаются?\n",
    " - влияют ли эти отличия на предсказание класса объекта, при пороге $p = 0.5$?\n",
    "2. Посчитайте точность (accuracy) на тренировочной и тестовой выборке для двух подходов, какой подход дает более высокую точность? (используйте порог $p = 0.5$).\n",
    "3. С вашей точки зрения в данной задаче следует максимизировать Recall или Precision? Объясните свой ответ.\n",
    "4. В зависимости от вашего ответа на предыдущий вопрос, какой классификатор и какой порог вероятности необходимо выбрать. Сравните матрицу ошибок (confusion matrix) для найденного порога и порога $p = 0.5$ и прокомментируйте отличия.\n"
   ]
  },
  {
   "cell_type": "code",
   "execution_count": null,
   "id": "fd4246f5",
   "metadata": {},
   "outputs": [],
   "source": [
    "y_pred_proba = []\n",
    "\n",
    "for _, (sex, pclass, _) in tqdm(X_test.iterrows()):\n",
    "    y_pred_proba.append(get_probability_survived_bayes_naive(pclass, sex))"
   ]
  },
  {
   "cell_type": "code",
   "execution_count": null,
   "id": "aac56efd",
   "metadata": {},
   "outputs": [],
   "source": []
  },
  {
   "cell_type": "code",
   "execution_count": null,
   "id": "db040d3a",
   "metadata": {},
   "outputs": [],
   "source": []
  },
  {
   "cell_type": "markdown",
   "id": "9b07b1f5",
   "metadata": {},
   "source": [
    "## 1.5 Обучите имплементацию `MultinomialNB` из `sklearn`\n",
    "\n",
    "1. Тот же вопрос что и 1.4.1, прокомментируйте отличия в оценке вероятности ваших имлементаций и имплементации\n",
    "`MultinomialNB`. Влияют ли они на предсказание классов при стандартном пороге вероятности? Заполните таблицу `probabilities`."
   ]
  },
  {
   "cell_type": "code",
   "execution_count": 25,
   "id": "bf606069",
   "metadata": {},
   "outputs": [
    {
     "data": {
      "text/html": [
       "<div>\n",
       "<style scoped>\n",
       "    .dataframe tbody tr th:only-of-type {\n",
       "        vertical-align: middle;\n",
       "    }\n",
       "\n",
       "    .dataframe tbody tr th {\n",
       "        vertical-align: top;\n",
       "    }\n",
       "\n",
       "    .dataframe thead th {\n",
       "        text-align: right;\n",
       "    }\n",
       "</style>\n",
       "<table border=\"1\" class=\"dataframe\">\n",
       "  <thead>\n",
       "    <tr style=\"text-align: right;\">\n",
       "      <th></th>\n",
       "      <th>Sex</th>\n",
       "      <th>Passenger Class</th>\n",
       "      <th>Bayes</th>\n",
       "      <th>BayesNaive</th>\n",
       "      <th>MultinomialNB</th>\n",
       "    </tr>\n",
       "  </thead>\n",
       "  <tbody>\n",
       "    <tr>\n",
       "      <th>0</th>\n",
       "      <td>0</td>\n",
       "      <td>1</td>\n",
       "      <td>0</td>\n",
       "      <td>0</td>\n",
       "      <td>0</td>\n",
       "    </tr>\n",
       "    <tr>\n",
       "      <th>1</th>\n",
       "      <td>0</td>\n",
       "      <td>2</td>\n",
       "      <td>0</td>\n",
       "      <td>0</td>\n",
       "      <td>0</td>\n",
       "    </tr>\n",
       "    <tr>\n",
       "      <th>2</th>\n",
       "      <td>0</td>\n",
       "      <td>3</td>\n",
       "      <td>0</td>\n",
       "      <td>0</td>\n",
       "      <td>0</td>\n",
       "    </tr>\n",
       "    <tr>\n",
       "      <th>3</th>\n",
       "      <td>1</td>\n",
       "      <td>1</td>\n",
       "      <td>0</td>\n",
       "      <td>0</td>\n",
       "      <td>0</td>\n",
       "    </tr>\n",
       "    <tr>\n",
       "      <th>4</th>\n",
       "      <td>1</td>\n",
       "      <td>2</td>\n",
       "      <td>0</td>\n",
       "      <td>0</td>\n",
       "      <td>0</td>\n",
       "    </tr>\n",
       "    <tr>\n",
       "      <th>5</th>\n",
       "      <td>1</td>\n",
       "      <td>3</td>\n",
       "      <td>0</td>\n",
       "      <td>0</td>\n",
       "      <td>0</td>\n",
       "    </tr>\n",
       "  </tbody>\n",
       "</table>\n",
       "</div>"
      ],
      "text/plain": [
       "   Sex  Passenger Class  Bayes  BayesNaive  MultinomialNB\n",
       "0    0                1      0           0              0\n",
       "1    0                2      0           0              0\n",
       "2    0                3      0           0              0\n",
       "3    1                1      0           0              0\n",
       "4    1                2      0           0              0\n",
       "5    1                3      0           0              0"
      ]
     },
     "execution_count": 25,
     "metadata": {},
     "output_type": "execute_result"
    }
   ],
   "source": [
    "probabilities = pd.DataFrame()\n",
    "probabilities['Sex'] = [0,0,0,1,1,1]\n",
    "probabilities['Passenger Class'] = [1,2,3,1,2,3]\n",
    "probabilities['Bayes'] = [0]*6\n",
    "probabilities['BayesNaive'] = [0]*6\n",
    "probabilities['MultinomialNB'] = [0]*6\n",
    "\n",
    "probabilities"
   ]
  },
  {
   "cell_type": "code",
   "execution_count": null,
   "id": "d231a5fb",
   "metadata": {},
   "outputs": [],
   "source": []
  },
  {
   "cell_type": "markdown",
   "id": "86941059",
   "metadata": {},
   "source": [
    "## 2.1 Используя MultinomialNB обучите классификатор на бОльшем количестве признаков\n",
    "\n",
    "1. Подготовьте признаки \n",
    "- 'Passenger Class',\n",
    "- 'Sex',\n",
    "- 'Age',\n",
    "- 'No of Siblings or Spouses on Board',\n",
    "- 'No of Parents or Children on Board',\n",
    "- 'Port of Embarkation'\n",
    "\n",
    "для обучения:\n",
    "- закодируйте столбец `Port of Embarkation` по аналогии с `Passenger Class`\n",
    "- заполните пропуски в столбце `Age` средним возрастом в датасете используйте `pd.DataFrame.fillna(...)`\n",
    "- заполните пропуске в столбце `Port of Embarkation` самым частым портом посадки\n",
    "- для разбиения на тренировчную и тестовую часть данных используйте `train_size=0.66` и `random_state=5`\n",
    "\n",
    "2. обучите MultinomialNB модель на тренировочной части данных\n",
    "2. Как изменилась точность вашей модели на тестовой части данных по сравнению с моделью обученной на 2 признаках?\n",
    "3. Что означает признак `Life Boat`? Следуют ли на ваш взгляд включать его в список признаков для обучения модели? \n",
    "- Опишите сценарий (использования модели) в котором его следует включать в список признаков. \n",
    "- Опишите сценарий (использования модели) в котором его не следует включать в список признаков.\n",
    "5. Какая ошибка содержится в предложенной последовательности действий в п. 2.1? "
   ]
  },
  {
   "cell_type": "code",
   "execution_count": 62,
   "id": "fc3a4d73",
   "metadata": {},
   "outputs": [],
   "source": [
    "X = pd.DataFrame()\n",
    "\n",
    "X['Sex'] = df['Sex'].map({\n",
    "    'Male':0,\n",
    "    'Female':1\n",
    "})\n",
    "X['PassengerClass'] = df['Passenger Class'].map({\n",
    "    'First': 1,\n",
    "    'Second': 2,\n",
    "    'Third': 3\n",
    "})\n",
    "\n",
    "X['Survived'] = df['Survived'].map({\n",
    "    'Yes': 1,\n",
    "    'No': 0\n",
    "})\n",
    "\n",
    "\n",
    "X['Age'] = df['Age']\n",
    "\n",
    "X['No of Siblings or Spouses on Board'] = df['No of Siblings or Spouses on Board']\n",
    "X['No of Parents or Children on Board'] = df['No of Parents or Children on Board']\n",
    "\n",
    "X['Port of Embarkation'] = df['Port of Embarkation'].map(\n",
    "{\n",
    "    'Southampton':1,\n",
    "    'Cherbourg':2,\n",
    "    'Queenstown':3\n",
    "    \n",
    "})\n",
    "\n",
    "y = X['Survived']\n",
    "X = X.drop(['Survived'], axis=1)"
   ]
  },
  {
   "cell_type": "code",
   "execution_count": 63,
   "id": "2f5eba1b",
   "metadata": {},
   "outputs": [],
   "source": [
    "columns = ['Passenger Class', 'Sex', 'Age', 'No of Siblings or Spouses on Board',\n",
    " 'No of Parents or Children on Board', 'Port of Embarkation']"
   ]
  },
  {
   "cell_type": "code",
   "execution_count": 64,
   "id": "e2ce0937",
   "metadata": {},
   "outputs": [],
   "source": [
    "X['Age'] = X['Age'].fillna(X['Age'].mean())\n",
    "X['Port of Embarkation'] = X['Port of Embarkation'].fillna(X['Port of Embarkation'].median())"
   ]
  },
  {
   "cell_type": "code",
   "execution_count": 65,
   "id": "8a6135b5",
   "metadata": {},
   "outputs": [],
   "source": [
    "X['Age'] = X['Age'] // 10"
   ]
  },
  {
   "cell_type": "code",
   "execution_count": 97,
   "id": "4d015de2",
   "metadata": {},
   "outputs": [],
   "source": [
    "X_train, X_test, y_train, y_test = train_test_split(X, y, train_size=0.66, random_state=5)"
   ]
  },
  {
   "cell_type": "code",
   "execution_count": 124,
   "id": "84bdaecc",
   "metadata": {},
   "outputs": [
    {
     "data": {
      "text/plain": [
       "MultinomialNB()"
      ]
     },
     "execution_count": 124,
     "metadata": {},
     "output_type": "execute_result"
    }
   ],
   "source": [
    "clf = MultinomialNB()\n",
    "\n",
    "clf.fit(X_train.drop('Port of Embarkation', axis=1), y_train)\n",
    "# clf.fit(X_train, y_train)"
   ]
  },
  {
   "cell_type": "code",
   "execution_count": 125,
   "id": "0ac7cf60",
   "metadata": {},
   "outputs": [],
   "source": [
    "y_train_pred = clf.predict(X_train.drop('Port of Embarkation', axis=1))\n",
    "y_test_pred = clf.predict(X_test.drop('Port of Embarkation', axis=1))\n",
    "\n",
    "# y_train_pred = clf.predict(X_train)\n",
    "# y_test_pred = clf.predict(X_test)"
   ]
  },
  {
   "cell_type": "code",
   "execution_count": 126,
   "id": "3e9e447a",
   "metadata": {},
   "outputs": [
    {
     "name": "stdout",
     "output_type": "stream",
     "text": [
      "Model performance on train data: 0.7809965237543454\n"
     ]
    }
   ],
   "source": [
    "print(f'Model performance on train data: {accuracy_score(y_train, y_train_pred)}')"
   ]
  },
  {
   "cell_type": "code",
   "execution_count": 127,
   "id": "edefe188",
   "metadata": {},
   "outputs": [
    {
     "name": "stdout",
     "output_type": "stream",
     "text": [
      "Model performance on test data: 0.7623318385650224\n"
     ]
    }
   ],
   "source": [
    "print(f'Model performance on test data: {accuracy_score(y_test, y_test_pred)}')"
   ]
  },
  {
   "cell_type": "code",
   "execution_count": 128,
   "id": "31cc9d12",
   "metadata": {},
   "outputs": [
    {
     "data": {
      "text/html": [
       "<div>\n",
       "<style scoped>\n",
       "    .dataframe tbody tr th:only-of-type {\n",
       "        vertical-align: middle;\n",
       "    }\n",
       "\n",
       "    .dataframe tbody tr th {\n",
       "        vertical-align: top;\n",
       "    }\n",
       "\n",
       "    .dataframe thead th {\n",
       "        text-align: right;\n",
       "    }\n",
       "</style>\n",
       "<table border=\"1\" class=\"dataframe\">\n",
       "  <thead>\n",
       "    <tr style=\"text-align: right;\">\n",
       "      <th></th>\n",
       "      <th>Sex</th>\n",
       "      <th>PassengerClass</th>\n",
       "      <th>Age</th>\n",
       "      <th>No of Siblings or Spouses on Board</th>\n",
       "      <th>No of Parents or Children on Board</th>\n",
       "      <th>Port of Embarkation</th>\n",
       "    </tr>\n",
       "  </thead>\n",
       "  <tbody>\n",
       "    <tr>\n",
       "      <th>615</th>\n",
       "      <td>0</td>\n",
       "      <td>3</td>\n",
       "      <td>2.0</td>\n",
       "      <td>0</td>\n",
       "      <td>0</td>\n",
       "      <td>1.0</td>\n",
       "    </tr>\n",
       "    <tr>\n",
       "      <th>287</th>\n",
       "      <td>0</td>\n",
       "      <td>1</td>\n",
       "      <td>6.0</td>\n",
       "      <td>0</td>\n",
       "      <td>0</td>\n",
       "      <td>1.0</td>\n",
       "    </tr>\n",
       "    <tr>\n",
       "      <th>720</th>\n",
       "      <td>0</td>\n",
       "      <td>3</td>\n",
       "      <td>2.0</td>\n",
       "      <td>0</td>\n",
       "      <td>0</td>\n",
       "      <td>3.0</td>\n",
       "    </tr>\n",
       "    <tr>\n",
       "      <th>222</th>\n",
       "      <td>0</td>\n",
       "      <td>1</td>\n",
       "      <td>2.0</td>\n",
       "      <td>0</td>\n",
       "      <td>0</td>\n",
       "      <td>2.0</td>\n",
       "    </tr>\n",
       "    <tr>\n",
       "      <th>244</th>\n",
       "      <td>0</td>\n",
       "      <td>1</td>\n",
       "      <td>3.0</td>\n",
       "      <td>0</td>\n",
       "      <td>0</td>\n",
       "      <td>2.0</td>\n",
       "    </tr>\n",
       "    <tr>\n",
       "      <th>...</th>\n",
       "      <td>...</td>\n",
       "      <td>...</td>\n",
       "      <td>...</td>\n",
       "      <td>...</td>\n",
       "      <td>...</td>\n",
       "      <td>...</td>\n",
       "    </tr>\n",
       "    <tr>\n",
       "      <th>73</th>\n",
       "      <td>1</td>\n",
       "      <td>1</td>\n",
       "      <td>2.0</td>\n",
       "      <td>0</td>\n",
       "      <td>0</td>\n",
       "      <td>1.0</td>\n",
       "    </tr>\n",
       "    <tr>\n",
       "      <th>1142</th>\n",
       "      <td>0</td>\n",
       "      <td>3</td>\n",
       "      <td>0.0</td>\n",
       "      <td>4</td>\n",
       "      <td>1</td>\n",
       "      <td>3.0</td>\n",
       "    </tr>\n",
       "    <tr>\n",
       "      <th>998</th>\n",
       "      <td>0</td>\n",
       "      <td>3</td>\n",
       "      <td>2.0</td>\n",
       "      <td>0</td>\n",
       "      <td>0</td>\n",
       "      <td>2.0</td>\n",
       "    </tr>\n",
       "    <tr>\n",
       "      <th>206</th>\n",
       "      <td>0</td>\n",
       "      <td>1</td>\n",
       "      <td>4.0</td>\n",
       "      <td>2</td>\n",
       "      <td>0</td>\n",
       "      <td>3.0</td>\n",
       "    </tr>\n",
       "    <tr>\n",
       "      <th>867</th>\n",
       "      <td>1</td>\n",
       "      <td>3</td>\n",
       "      <td>2.0</td>\n",
       "      <td>1</td>\n",
       "      <td>1</td>\n",
       "      <td>1.0</td>\n",
       "    </tr>\n",
       "  </tbody>\n",
       "</table>\n",
       "<p>863 rows × 6 columns</p>\n",
       "</div>"
      ],
      "text/plain": [
       "      Sex  PassengerClass  Age  No of Siblings or Spouses on Board  \\\n",
       "615     0               3  2.0                                   0   \n",
       "287     0               1  6.0                                   0   \n",
       "720     0               3  2.0                                   0   \n",
       "222     0               1  2.0                                   0   \n",
       "244     0               1  3.0                                   0   \n",
       "...   ...             ...  ...                                 ...   \n",
       "73      1               1  2.0                                   0   \n",
       "1142    0               3  0.0                                   4   \n",
       "998     0               3  2.0                                   0   \n",
       "206     0               1  4.0                                   2   \n",
       "867     1               3  2.0                                   1   \n",
       "\n",
       "      No of Parents or Children on Board  Port of Embarkation  \n",
       "615                                    0                  1.0  \n",
       "287                                    0                  1.0  \n",
       "720                                    0                  3.0  \n",
       "222                                    0                  2.0  \n",
       "244                                    0                  2.0  \n",
       "...                                  ...                  ...  \n",
       "73                                     0                  1.0  \n",
       "1142                                   1                  3.0  \n",
       "998                                    0                  2.0  \n",
       "206                                    0                  3.0  \n",
       "867                                    1                  1.0  \n",
       "\n",
       "[863 rows x 6 columns]"
      ]
     },
     "execution_count": 128,
     "metadata": {},
     "output_type": "execute_result"
    }
   ],
   "source": [
    "X_train"
   ]
  },
  {
   "cell_type": "code",
   "execution_count": 81,
   "id": "015f8724",
   "metadata": {},
   "outputs": [
    {
     "data": {
      "text/plain": [
       "0.3819709702062643"
      ]
     },
     "execution_count": 81,
     "metadata": {},
     "output_type": "execute_result"
    }
   ],
   "source": [
    "y.mean()"
   ]
  },
  {
   "cell_type": "code",
   "execution_count": null,
   "id": "3cabd21d",
   "metadata": {},
   "outputs": [],
   "source": []
  },
  {
   "cell_type": "code",
   "execution_count": 46,
   "id": "6517f0d3",
   "metadata": {},
   "outputs": [
    {
     "name": "stdout",
     "output_type": "stream",
     "text": [
      "Model performance on train data: 0.7844727694090382\n"
     ]
    }
   ],
   "source": [
    "print(f'Model performance on train data: {accuracy_score(y_train, y_train_pred)}')"
   ]
  },
  {
   "cell_type": "code",
   "execution_count": 47,
   "id": "747ec53d",
   "metadata": {},
   "outputs": [
    {
     "name": "stdout",
     "output_type": "stream",
     "text": [
      "Model performance on test data: 0.7668161434977578\n"
     ]
    }
   ],
   "source": [
    "print(f'Model performance on test data: {accuracy_score(y_test, y_test_pred)}')"
   ]
  },
  {
   "cell_type": "code",
   "execution_count": null,
   "id": "21717ab2",
   "metadata": {},
   "outputs": [],
   "source": []
  },
  {
   "cell_type": "markdown",
   "id": "e1ece380",
   "metadata": {},
   "source": [
    "## 2.2. Оценка важности признаков\n",
    "\n",
    "Мы воспользуемся простым (и не очень хорошим^[1]) методом оценки важности признаков:\n",
    "\n",
    "1. Воспользуйтесь моделью из п.2. Качество модели на тестовой части данных это ваш бейзлайн\n",
    "2. Исключая по 1 признаку из `X` обучайте модель `MultinomialNB` и измеряйте ее точность на тестовой части данных\n",
    "3. Сохраняйте величину падения или роста качества по сравнению с бейзлайном. Если точность упала значит признак \"полезный\", если выросло - \"вредный\". Абсолютная величина падения или роста в данном случае не так важна, важен только порядок признаков. Такая оценка называется качественной (в противовес количественной).\n",
    "4. Прокомментируйте полученный результат, насколько он согласуется с вашей интуицией?\n",
    "5. В чем на ваш взляд могут быть преимущества использования мЕньшего числа признаков при обучении моделей? (не обязательно в контексте данной задачи)\n",
    "\n",
    "\n",
    "[1] а впрочем какие из них хороши?"
   ]
  },
  {
   "cell_type": "code",
   "execution_count": null,
   "id": "5757bd7e",
   "metadata": {},
   "outputs": [],
   "source": []
  },
  {
   "cell_type": "markdown",
   "id": "6b71f0c8",
   "metadata": {},
   "source": [
    "## 3. Подготовьте репорт о выполненном задании\n",
    "\n",
    "Подготовьте текстовый репорт о выполенном домашнем задании. Ваш репорт должен включать ответы на вопросы:\n",
    "- 1.4.1-1.4.4\n",
    "- 1.5.1\n",
    "- 2.1.3-2.1.5\n",
    "- 2.2.3-2.2.5\n",
    "\n",
    "Вы можете вставлять в текст таблицы и/или графики на ваше усмотрение (для п. 1.5.1 обязательно вставьте таблицу или скриншот таблицы), текст репорта должен быть в двухколоночном формате не более 2 страниц 12 кеглем Times New Roman (**крайне** желательно 1 страница), см шаблон https://docs.google.com/document/d/1YqnO0OFbTR7XgzmdWryQF22J1kl9Fg7hSlNbqa6Jbiw/edit?usp=sharing\n",
    "\n",
    "Подготовленный репорт и jupyter notebook c вашим решением необходимо отправить на почту kurmukovai@gmail.com, с темой письма `[iitp-intro-ds-2023-ha1-Surname]`, например `[iitp-intro-ds-2023-Kurmukov]` до 23:59:59 МСК 25.02.2023 ."
   ]
  },
  {
   "cell_type": "code",
   "execution_count": null,
   "id": "36ebcc3b",
   "metadata": {},
   "outputs": [],
   "source": []
  },
  {
   "cell_type": "code",
   "execution_count": 6,
   "id": "afd65210",
   "metadata": {},
   "outputs": [],
   "source": [
    "from functools import lru_cache\n",
    "\n",
    "@lru_cache\n",
    "def get_probability_survived_bayes(pclass, sex):   \n",
    "    sub = X_train.groupby(['Sex', 'PassengerClass'])['y'].mean().reset_index()\n",
    "    p = sub.query('Sex==@sex').query('PassengerClass==@pclass')['y'].values[0]\n",
    "    return 1-p, p\n",
    "\n",
    "@lru_cache\n",
    "def get_probability_survived_bayes_naive(pclass, sex):\n",
    "    # P(Sex=1|y=1) * P(Passenger Class=1| y=1) * P(y=1) / P(Sex=1) * P(Passenger Class=1)\n",
    "    \n",
    "    # P(Sex=1|y=1)\n",
    "    p1 = X_train.query('y==1')['Sex'].mean()\n",
    "    p10 = X_train.query('y==0')['Sex'].mean()\n",
    "    if sex == 0:\n",
    "        p1 = 1 - p1\n",
    "        p10 = 1 - p10\n",
    "        \n",
    "    # P(Passenger Class=1| y=1)\n",
    "    p2 = X_train.query('y==1')['PassengerClass'].value_counts()[pclass] / X_train.query('y==1')['PassengerClass'].count()\n",
    "    p20 = X_train.query('y==0')['PassengerClass'].value_counts()[pclass] / X_train.query('y==0')['PassengerClass'].count()\n",
    "    \n",
    "    # P(y=1)\n",
    "    p3 = X_train['y'].mean()\n",
    "    p30 = 1 - p3\n",
    "    \n",
    "    # P(Sex=1)\n",
    "    p4 = X_train['Sex'].mean()\n",
    "    if sex == 0:\n",
    "        p4 = 1 - p4\n",
    "    \n",
    "    # P(Passenger Class=1)\n",
    "    p5 = X_train['PassengerClass'].value_counts()[pclass] / X_train['PassengerClass'].count()\n",
    "    \n",
    "#     print(p1, p2, p3, p4, p5)\n",
    "    \n",
    "    p_1 = p1 * p2 * p3 / (p4 * p5)\n",
    "    p_0 = p10 * p20 * p30 / (p4 * p5)\n",
    "    return p_0 / (p_1 + p_0), p_1 / (p_1 + p_0)"
   ]
  },
  {
   "cell_type": "code",
   "execution_count": 7,
   "id": "bcdd6503",
   "metadata": {},
   "outputs": [
    {
     "name": "stderr",
     "output_type": "stream",
     "text": [
      "/home/anvar/anaconda3/lib/python3.8/site-packages/sklearn/naive_bayes.py:508: UserWarning: alpha too small will result in numeric errors, setting alpha = 1.0e-10\n",
      "  warnings.warn('alpha too small will result in numeric errors, '\n"
     ]
    },
    {
     "data": {
      "text/plain": [
       "MultinomialNB(alpha=0)"
      ]
     },
     "execution_count": 7,
     "metadata": {},
     "output_type": "execute_result"
    }
   ],
   "source": [
    "clf = MultinomialNB(alpha=0)\n",
    "\n",
    "clf.fit(X.drop('y', axis=1), y)"
   ]
  },
  {
   "cell_type": "code",
   "execution_count": 9,
   "id": "1790e2a6",
   "metadata": {},
   "outputs": [],
   "source": [
    "# accuracy_score(y, clf.predict(X.drop('y', axis=1)))"
   ]
  },
  {
   "cell_type": "code",
   "execution_count": 10,
   "id": "2d034af7",
   "metadata": {},
   "outputs": [],
   "source": [
    "from tqdm import tqdm\n",
    "import numpy as np"
   ]
  },
  {
   "cell_type": "code",
   "execution_count": 196,
   "id": "aeb41c87",
   "metadata": {},
   "outputs": [
    {
     "name": "stderr",
     "output_type": "stream",
     "text": [
      "446it [00:00, 14598.45it/s]\n"
     ]
    }
   ],
   "source": [
    "y_pred = []\n",
    "for _, (sex, pclass, _) in tqdm(X_test.iterrows()):\n",
    "    y_pred.append(np.argmax(get_probability_survived_bayes_naive(pclass, sex)))"
   ]
  },
  {
   "cell_type": "code",
   "execution_count": 197,
   "id": "db18532f",
   "metadata": {},
   "outputs": [
    {
     "data": {
      "text/plain": [
       "0.7645739910313901"
      ]
     },
     "execution_count": 197,
     "metadata": {},
     "output_type": "execute_result"
    }
   ],
   "source": [
    "accuracy_score(y_test, y_pred)"
   ]
  },
  {
   "cell_type": "code",
   "execution_count": 198,
   "id": "50375694",
   "metadata": {},
   "outputs": [
    {
     "name": "stderr",
     "output_type": "stream",
     "text": [
      "446it [00:00, 13522.09it/s]\n"
     ]
    }
   ],
   "source": [
    "y_pred = []\n",
    "for _, (sex, pclass, _) in tqdm(X_test.iterrows()):\n",
    "    y_pred.append(np.argmax(get_probability_survived_bayes(pclass, sex)))"
   ]
  },
  {
   "cell_type": "code",
   "execution_count": 200,
   "id": "3dd89195",
   "metadata": {},
   "outputs": [
    {
     "data": {
      "text/plain": [
       "0.7645739910313901"
      ]
     },
     "execution_count": 200,
     "metadata": {},
     "output_type": "execute_result"
    }
   ],
   "source": [
    "accuracy_score(y_test, y_pred)"
   ]
  },
  {
   "cell_type": "code",
   "execution_count": null,
   "id": "051e509a",
   "metadata": {},
   "outputs": [],
   "source": []
  },
  {
   "cell_type": "code",
   "execution_count": null,
   "id": "43c4645e",
   "metadata": {},
   "outputs": [],
   "source": []
  },
  {
   "cell_type": "code",
   "execution_count": null,
   "id": "9ce1139a",
   "metadata": {},
   "outputs": [],
   "source": []
  },
  {
   "cell_type": "code",
   "execution_count": 45,
   "id": "8b0e115e",
   "metadata": {},
   "outputs": [],
   "source": [
    "from sklearn.model_selection import train_test_split\n",
    "from sklearn.metrics import confusion_matrix, precision_score, recall_score, accuracy_score"
   ]
  },
  {
   "cell_type": "code",
   "execution_count": 187,
   "id": "3c05f21c",
   "metadata": {},
   "outputs": [],
   "source": [
    "X_train, X_test, y_train, y_test = train_test_split(X, y, train_size=0.66, random_state=5)"
   ]
  },
  {
   "cell_type": "code",
   "execution_count": 16,
   "id": "fcd3e3e4",
   "metadata": {},
   "outputs": [
    {
     "data": {
      "text/plain": [
       "MultinomialNB()"
      ]
     },
     "execution_count": 16,
     "metadata": {},
     "output_type": "execute_result"
    }
   ],
   "source": [
    "clf = MultinomialNB()\n",
    "\n",
    "clf.fit(X_train.drop('y', axis=1), y_train)"
   ]
  },
  {
   "cell_type": "code",
   "execution_count": 17,
   "id": "3629f6dd",
   "metadata": {},
   "outputs": [],
   "source": [
    "y_train_pred = clf.predict(X_train.drop('y', axis=1))\n",
    "y_test_pred = clf.predict(X_test.drop('y', axis=1))"
   ]
  },
  {
   "cell_type": "code",
   "execution_count": 20,
   "id": "13deb30a",
   "metadata": {},
   "outputs": [
    {
     "name": "stdout",
     "output_type": "stream",
     "text": [
      "Model performance on train data: 0.7879490150637312\n"
     ]
    }
   ],
   "source": [
    "print(f'Model performance on train data: {accuracy_score(y_train, y_train_pred)}')"
   ]
  },
  {
   "cell_type": "code",
   "execution_count": 21,
   "id": "85f1b5ed",
   "metadata": {},
   "outputs": [
    {
     "name": "stdout",
     "output_type": "stream",
     "text": [
      "Model performance on test data: 0.7645739910313901\n"
     ]
    }
   ],
   "source": [
    "print(f'Model performance on test data: {accuracy_score(y_test, y_test_pred)}')"
   ]
  },
  {
   "cell_type": "code",
   "execution_count": null,
   "id": "6f77e862",
   "metadata": {},
   "outputs": [],
   "source": []
  }
 ],
 "metadata": {
  "kernelspec": {
   "display_name": "Python 3 (ipykernel)",
   "language": "python",
   "name": "python3"
  },
  "language_info": {
   "codemirror_mode": {
    "name": "ipython",
    "version": 3
   },
   "file_extension": ".py",
   "mimetype": "text/x-python",
   "name": "python",
   "nbconvert_exporter": "python",
   "pygments_lexer": "ipython3",
   "version": "3.9.13"
  }
 },
 "nbformat": 4,
 "nbformat_minor": 5
}
