{
 "cells": [
  {
   "cell_type": "markdown",
   "id": "a7973ccf",
   "metadata": {},
   "source": [
    "# Домашнее задание 1. \n",
    "\n",
    "-  \"Оптимальность\" наивного Байесовского классификатора\n",
    "- Оценка \"важности\" признаков (feature importance)\n",
    "\n",
    "Для тех кто не знаком с библиотекой pandas я рекомендую вот эти два практических туториала:\n",
    "\n",
    "-  https://nbviewer.jupyter.org/github/justmarkham/pandas-videos/blob/master/pandas.ipynb (1-3 часа на прохождение, 30 вопросов с видео разборами)\n",
    "- https://github.com/guipsamora/pandas_exercises/ 11 топиков покрывающих весь основной функционал библиотеки\n"
   ]
  },
  {
   "cell_type": "markdown",
   "id": "df3f9952",
   "metadata": {},
   "source": [
    "Кондрашов Кирилл Павлович"
   ]
  },
  {
   "cell_type": "markdown",
   "id": "7104cd39",
   "metadata": {},
   "source": [
    "## 1. Наивный Байес\n",
    "\n",
    "Ваша задача сравнить вероятности получаемые наивным байесовским классификатором с вероятностями получаемыми если не делать предположения о независимости признаков. Мы будем делать это для 2 признаков рассмотренных на семинаре: Пол и Класс билета (пассажира)."
   ]
  },
  {
   "cell_type": "code",
   "execution_count": 6,
   "id": "4d081a96",
   "metadata": {},
   "outputs": [],
   "source": [
    "import pandas as pd\n",
    "import numpy as np"
   ]
  },
  {
   "cell_type": "code",
   "execution_count": 7,
   "id": "08916921",
   "metadata": {},
   "outputs": [],
   "source": [
    "df = pd.read_csv('./titanic_data.csv')"
   ]
  },
  {
   "cell_type": "code",
   "execution_count": 8,
   "id": "f8497c59",
   "metadata": {},
   "outputs": [],
   "source": [
    "X = pd.DataFrame()\n",
    "\n",
    "X['Sex'] = df['Sex'].map({\n",
    "    'Male':0,\n",
    "    'Female':1\n",
    "})\n",
    "X['PassengerClass'] = df['Passenger Class'].map({\n",
    "    'First': 1,\n",
    "    'Second': 2,\n",
    "    'Third': 3\n",
    "})\n",
    "\n",
    "X['Survived'] = df['Survived'].map({\n",
    "    'Yes': 1,\n",
    "    'No': 0\n",
    "})\n",
    "\n",
    "y = X['Survived']\n",
    "X = X.drop(['Survived'], axis=1)"
   ]
  },
  {
   "cell_type": "code",
   "execution_count": 9,
   "id": "3334caed",
   "metadata": {},
   "outputs": [],
   "source": [
    "def concat_Xy(X, y):\n",
    "    data = X.copy()\n",
    "    data['Survived'] = y\n",
    "    return data"
   ]
  },
  {
   "cell_type": "code",
   "execution_count": 10,
   "id": "fa5b8080",
   "metadata": {},
   "outputs": [],
   "source": [
    "data = concat_Xy(X, y)"
   ]
  },
  {
   "cell_type": "code",
   "execution_count": 11,
   "id": "207a0454",
   "metadata": {},
   "outputs": [
    {
     "name": "stdout",
     "output_type": "stream",
     "text": [
      "Statistics by 'Sex' feature\n",
      "     Survived\n",
      "Sex          \n",
      "0    0.190985\n",
      "1    0.727468\n"
     ]
    }
   ],
   "source": [
    "print(\"Statistics by 'Sex' feature\")\n",
    "sex_prob = data[['Sex', 'Survived']].groupby('Sex').mean()\n",
    "print(sex_prob)"
   ]
  },
  {
   "cell_type": "code",
   "execution_count": 12,
   "id": "37b9aef6",
   "metadata": {},
   "outputs": [
    {
     "name": "stdout",
     "output_type": "stream",
     "text": [
      "Statistics by 'PassengerClass' feature\n",
      "                Survived\n",
      "PassengerClass          \n",
      "1               0.619195\n",
      "2               0.429603\n",
      "3               0.255289\n"
     ]
    }
   ],
   "source": [
    "print(\"Statistics by 'PassengerClass' feature\")\n",
    "class_prob = data[['PassengerClass', 'Survived']].groupby('PassengerClass').mean()\n",
    "print(class_prob)"
   ]
  },
  {
   "cell_type": "code",
   "execution_count": 13,
   "id": "17ba84e7",
   "metadata": {},
   "outputs": [
    {
     "name": "stdout",
     "output_type": "stream",
     "text": [
      "Naive statistics by both features\n",
      "                       0         1\n",
      "PassengerClass                    \n",
      "1               0.118257  0.450444\n",
      "2               0.082048  0.312522\n",
      "3               0.048756  0.185715\n"
     ]
    }
   ],
   "source": [
    "print(\"Naive statistics by both features\")\n",
    "naive_probs = class_prob.drop('Survived', axis=1)\n",
    "naive_probs[0] = class_prob['Survived']\n",
    "naive_probs[1] = class_prob['Survived']\n",
    "mul_dict = {\n",
    "    0: sex_prob.at[0, 'Survived'], \n",
    "    1: sex_prob.at[1, 'Survived']\n",
    "}\n",
    "naive_probs = naive_probs.mul(mul_dict)\n",
    "print(naive_probs)"
   ]
  },
  {
   "cell_type": "code",
   "execution_count": 14,
   "id": "0a1b696a",
   "metadata": {},
   "outputs": [
    {
     "name": "stdout",
     "output_type": "stream",
     "text": [
      "Real statistics by both features\n",
      "                       0         1\n",
      "PassengerClass                    \n",
      "1               0.340782  0.965278\n",
      "2               0.146199  0.886792\n",
      "3               0.152130  0.490741\n"
     ]
    }
   ],
   "source": [
    "print(\"Real statistics by both features\")\n",
    "real_probs = naive_probs.copy()\n",
    "for row in real_probs.axes[0]:\n",
    "    for col in real_probs.axes[1]:\n",
    "        total = data.loc[\n",
    "            (data['PassengerClass']==row) & \n",
    "            (data['Sex']==col)\n",
    "        ]\n",
    "        survived = total.loc[data['Survived']==1]\n",
    "        real_probs.at[row, col] = survived.size / total.size\n",
    "print(real_probs)"
   ]
  },
  {
   "cell_type": "code",
   "execution_count": 15,
   "metadata": {},
   "outputs": [
    {
     "name": "stdout",
     "output_type": "stream",
     "text": [
      "Difference\n",
      "                       0         1\n",
      "PassengerClass                    \n",
      "1              -0.222525 -0.514833\n",
      "2              -0.064151 -0.574270\n",
      "3              -0.103374 -0.305026\n",
      "MAE\n",
      "-0.2973633086700544\n",
      "MSE\n",
      "0.12536659076999057\n"
     ]
    }
   ],
   "source": [
    "print(\"Difference\")\n",
    "print(naive_probs - real_probs)\n",
    "print(\"MAE\")\n",
    "bias = np.mean(np.array(naive_probs - real_probs))\n",
    "mse = np.mean(np.array(naive_probs - real_probs)**2)\n",
    "print(bias)\n",
    "print(\"MSE\")\n",
    "print(mse)"
   ]
  },
  {
   "cell_type": "markdown",
   "id": "884ee769",
   "metadata": {},
   "source": [
    "## 1.1 Разделим данные на тренировочную и тестовую части 70-30\n",
    "\n",
    "сколько наблюдений оказалось в тренировочной и тестовой выборках?"
   ]
  },
  {
   "cell_type": "code",
   "execution_count": 16,
   "id": "bff7a804",
   "metadata": {},
   "outputs": [],
   "source": [
    "from sklearn.model_selection import train_test_split"
   ]
  },
  {
   "cell_type": "code",
   "execution_count": 17,
   "id": "33ea4670",
   "metadata": {},
   "outputs": [],
   "source": [
    "X_train, X_test, y_train, y_test = train_test_split(X, y, train_size=0.70, random_state=5)"
   ]
  },
  {
   "cell_type": "code",
   "execution_count": 18,
   "id": "88ce5f22",
   "metadata": {},
   "outputs": [
    {
     "name": "stdout",
     "output_type": "stream",
     "text": [
      "There are 916 observations in Train dataset and 393 in test\n"
     ]
    }
   ],
   "source": [
    "print(f\"There are {X_train.shape[0]} observations in Train dataset and {X_test.shape[0]} in test\")"
   ]
  },
  {
   "cell_type": "code",
   "execution_count": 19,
   "id": "41e9d7df",
   "metadata": {},
   "outputs": [
    {
     "data": {
      "text/html": [
       "<div>\n",
       "<style scoped>\n",
       "    .dataframe tbody tr th:only-of-type {\n",
       "        vertical-align: middle;\n",
       "    }\n",
       "\n",
       "    .dataframe tbody tr th {\n",
       "        vertical-align: top;\n",
       "    }\n",
       "\n",
       "    .dataframe thead th {\n",
       "        text-align: right;\n",
       "    }\n",
       "</style>\n",
       "<table border=\"1\" class=\"dataframe\">\n",
       "  <thead>\n",
       "    <tr style=\"text-align: right;\">\n",
       "      <th></th>\n",
       "      <th>Sex</th>\n",
       "      <th>PassengerClass</th>\n",
       "    </tr>\n",
       "  </thead>\n",
       "  <tbody>\n",
       "    <tr>\n",
       "      <th>count</th>\n",
       "      <td>916.000000</td>\n",
       "      <td>916.000000</td>\n",
       "    </tr>\n",
       "    <tr>\n",
       "      <th>mean</th>\n",
       "      <td>0.348253</td>\n",
       "      <td>2.272926</td>\n",
       "    </tr>\n",
       "    <tr>\n",
       "      <th>std</th>\n",
       "      <td>0.476677</td>\n",
       "      <td>0.854284</td>\n",
       "    </tr>\n",
       "    <tr>\n",
       "      <th>min</th>\n",
       "      <td>0.000000</td>\n",
       "      <td>1.000000</td>\n",
       "    </tr>\n",
       "    <tr>\n",
       "      <th>25%</th>\n",
       "      <td>0.000000</td>\n",
       "      <td>1.000000</td>\n",
       "    </tr>\n",
       "    <tr>\n",
       "      <th>50%</th>\n",
       "      <td>0.000000</td>\n",
       "      <td>3.000000</td>\n",
       "    </tr>\n",
       "    <tr>\n",
       "      <th>75%</th>\n",
       "      <td>1.000000</td>\n",
       "      <td>3.000000</td>\n",
       "    </tr>\n",
       "    <tr>\n",
       "      <th>max</th>\n",
       "      <td>1.000000</td>\n",
       "      <td>3.000000</td>\n",
       "    </tr>\n",
       "  </tbody>\n",
       "</table>\n",
       "</div>"
      ],
      "text/plain": [
       "              Sex  PassengerClass\n",
       "count  916.000000      916.000000\n",
       "mean     0.348253        2.272926\n",
       "std      0.476677        0.854284\n",
       "min      0.000000        1.000000\n",
       "25%      0.000000        1.000000\n",
       "50%      0.000000        3.000000\n",
       "75%      1.000000        3.000000\n",
       "max      1.000000        3.000000"
      ]
     },
     "execution_count": 19,
     "metadata": {},
     "output_type": "execute_result"
    }
   ],
   "source": [
    "X_train.describe()\n"
   ]
  },
  {
   "cell_type": "code",
   "execution_count": 20,
   "id": "ac7eca65",
   "metadata": {},
   "outputs": [
    {
     "data": {
      "text/html": [
       "<div>\n",
       "<style scoped>\n",
       "    .dataframe tbody tr th:only-of-type {\n",
       "        vertical-align: middle;\n",
       "    }\n",
       "\n",
       "    .dataframe tbody tr th {\n",
       "        vertical-align: top;\n",
       "    }\n",
       "\n",
       "    .dataframe thead th {\n",
       "        text-align: right;\n",
       "    }\n",
       "</style>\n",
       "<table border=\"1\" class=\"dataframe\">\n",
       "  <thead>\n",
       "    <tr style=\"text-align: right;\">\n",
       "      <th></th>\n",
       "      <th>Sex</th>\n",
       "      <th>PassengerClass</th>\n",
       "    </tr>\n",
       "  </thead>\n",
       "  <tbody>\n",
       "    <tr>\n",
       "      <th>count</th>\n",
       "      <td>393.000000</td>\n",
       "      <td>393.000000</td>\n",
       "    </tr>\n",
       "    <tr>\n",
       "      <th>mean</th>\n",
       "      <td>0.374046</td>\n",
       "      <td>2.346056</td>\n",
       "    </tr>\n",
       "    <tr>\n",
       "      <th>std</th>\n",
       "      <td>0.484492</td>\n",
       "      <td>0.796895</td>\n",
       "    </tr>\n",
       "    <tr>\n",
       "      <th>min</th>\n",
       "      <td>0.000000</td>\n",
       "      <td>1.000000</td>\n",
       "    </tr>\n",
       "    <tr>\n",
       "      <th>25%</th>\n",
       "      <td>0.000000</td>\n",
       "      <td>2.000000</td>\n",
       "    </tr>\n",
       "    <tr>\n",
       "      <th>50%</th>\n",
       "      <td>0.000000</td>\n",
       "      <td>3.000000</td>\n",
       "    </tr>\n",
       "    <tr>\n",
       "      <th>75%</th>\n",
       "      <td>1.000000</td>\n",
       "      <td>3.000000</td>\n",
       "    </tr>\n",
       "    <tr>\n",
       "      <th>max</th>\n",
       "      <td>1.000000</td>\n",
       "      <td>3.000000</td>\n",
       "    </tr>\n",
       "  </tbody>\n",
       "</table>\n",
       "</div>"
      ],
      "text/plain": [
       "              Sex  PassengerClass\n",
       "count  393.000000      393.000000\n",
       "mean     0.374046        2.346056\n",
       "std      0.484492        0.796895\n",
       "min      0.000000        1.000000\n",
       "25%      0.000000        2.000000\n",
       "50%      0.000000        3.000000\n",
       "75%      1.000000        3.000000\n",
       "max      1.000000        3.000000"
      ]
     },
     "execution_count": 20,
     "metadata": {},
     "output_type": "execute_result"
    }
   ],
   "source": [
    "X_test.describe()"
   ]
  },
  {
   "cell_type": "code",
   "execution_count": 21,
   "id": "12e6dfea",
   "metadata": {},
   "outputs": [
    {
     "data": {
      "text/plain": [
       "count    916.000000\n",
       "mean       0.385371\n",
       "std        0.486949\n",
       "min        0.000000\n",
       "25%        0.000000\n",
       "50%        0.000000\n",
       "75%        1.000000\n",
       "max        1.000000\n",
       "Name: Survived, dtype: float64"
      ]
     },
     "execution_count": 21,
     "metadata": {},
     "output_type": "execute_result"
    }
   ],
   "source": [
    "y_train.describe()"
   ]
  },
  {
   "cell_type": "code",
   "execution_count": 22,
   "id": "a26e81a9",
   "metadata": {},
   "outputs": [
    {
     "data": {
      "text/plain": [
       "count    393.000000\n",
       "mean       0.374046\n",
       "std        0.484492\n",
       "min        0.000000\n",
       "25%        0.000000\n",
       "50%        0.000000\n",
       "75%        1.000000\n",
       "max        1.000000\n",
       "Name: Survived, dtype: float64"
      ]
     },
     "execution_count": 22,
     "metadata": {},
     "output_type": "execute_result"
    }
   ],
   "source": [
    "y_test.describe()"
   ]
  },
  {
   "cell_type": "markdown",
   "id": "7f1ebd08",
   "metadata": {},
   "source": [
    "Выборки достаточно стратифицированы. 37% и 39% выживших, 35% и 37% женщин."
   ]
  },
  {
   "cell_type": "markdown",
   "id": "bdf6e1fc",
   "metadata": {},
   "source": [
    "## 1.2 Реализуйте функцию `get_probability_survived_bayes`\n",
    "\n",
    "Которая считает честные вероятности выживания при условии заданного класса билета и пола:\n",
    "\n",
    "$$\n",
    "P(\\text{y}|\\text{Sex}, \\text{Passenger Class}) = \\frac{p(\\text{Sex}|\\text{Passenger Class}, \\text{y}) p(\\text{Passenger Class}|\\text{ y}) p(\\text{y})}{p(\\text{Sex}|\\text{Passenger Class}) p(\\text{Passenger Class})}\n",
    "$$\n",
    "\n",
    "## Помните что оценка вероятностей всегда должна происходить на тренировчной выборке."
   ]
  },
  {
   "cell_type": "code",
   "execution_count": 23,
   "id": "01177ce2",
   "metadata": {},
   "outputs": [],
   "source": [
    "from typing import Tuple"
   ]
  },
  {
   "cell_type": "code",
   "execution_count": 24,
   "id": "9c477f9b",
   "metadata": {},
   "outputs": [],
   "source": [
    "# Hint 1. Используйте pandas.groupby\n",
    "# Hint 2. Вы возвращаете tuple p_not_survived, p_survived, в котором\n",
    "# вероятность выжить находится на второй позиции, чтобы когда вы берете аргмакс получать метки классов 0/1 (не выжил/выжил)\n",
    "train_data = concat_Xy(X_train, y_train)\n",
    "\n",
    "\n",
    "# Firstly I forgot about groupby\n",
    "def get_probability_survived_bayes_no_groupby(pclass: int, sex: int) -> Tuple[float, float]:\n",
    "    '''Given `Passenger Class` and `Sex` returns true probabilities tuple(p_not_survived, p_survived)'''\n",
    "    cnt_sex_and_class_and_y = train_data.loc[\n",
    "        (train_data['Sex']==sex) &\n",
    "        (train_data['PassengerClass']==pclass) &\n",
    "        (train_data['Survived']==1)\n",
    "    ].shape[0]\n",
    "    \n",
    "    cnt_sex_and_class = train_data.loc[\n",
    "        (train_data['Sex']==sex) &\n",
    "        (train_data['PassengerClass']==pclass)\n",
    "    ].shape[0]\n",
    "    \n",
    "    # Given formula reduces to one fraction. easy\n",
    "    p = cnt_sex_and_class_and_y / cnt_sex_and_class\n",
    "    return (1-p, p)\n",
    "\n",
    "\n",
    "def get_probability_survived_bayes(pclass: int, sex: int) -> Tuple[float, float]:\n",
    "    '''Given `Passenger Class` and `Sex` returns true probabilities tuple(p_not_survived, p_survived)'''\n",
    "    p = train_data.groupby(['Sex', 'PassengerClass']).get_group((sex, pclass))['Survived'].mean()\n",
    "    return (1-p, p)"
   ]
  },
  {
   "cell_type": "code",
   "execution_count": 25,
   "id": "b9d25923",
   "metadata": {},
   "outputs": [
    {
     "name": "stdout",
     "output_type": "stream",
     "text": [
      "Real statistics for train data\n",
      "                       0         1\n",
      "PassengerClass                    \n",
      "1               0.358209  0.963303\n",
      "2               0.122807  0.863636\n",
      "3               0.146132  0.541667\n"
     ]
    }
   ],
   "source": [
    "print(\"Real statistics for train data\")\n",
    "real_probs = naive_probs.copy()\n",
    "for row in real_probs.axes[0]:\n",
    "    for col in real_probs.axes[1]:\n",
    "        real_probs.at[row, col] = get_probability_survived_bayes(row, col)[1]\n",
    "print(real_probs)"
   ]
  },
  {
   "cell_type": "markdown",
   "id": "dc7484a1",
   "metadata": {},
   "source": [
    "## 1.3 Реализуйте функцию `get_probability_survived_bayes_naive`\n",
    "\n",
    "Которая оценивает вероятность выжить в предположении о независимости признаков\n",
    "\n",
    "$$\n",
    "P(\\text{y}|\\text{Sex}, \\text{Passenger Class}) = \\frac{p(\\text{Sex}|\\text{y}) p(\\text{Passenger Class}|\\text{ y}) p^2(\\text{y})}{p(\\text{Sex}) p(\\text{Passenger Class})}\n",
    "$$"
   ]
  },
  {
   "cell_type": "code",
   "execution_count": 61,
   "id": "5ee72a95",
   "metadata": {},
   "outputs": [],
   "source": [
    "def get_probability_survived_bayes_naive(pclass: int, sex: int) -> Tuple[float, float]:\n",
    "    '''Given `Passenger Class` and `Sex` returns tuple(p_not_survived, p_survived), \n",
    "    under naive assumption of features independence'''\n",
    "    p_survived = train_data['Survived'].mean()\n",
    "    p_sex = train_data.value_counts('Sex', normalize=True)[sex]\n",
    "    p_class = train_data.value_counts('PassengerClass', normalize=True)[pclass]\n",
    "    p_sex_if_y = train_data.groupby('Survived').value_counts(['Sex'], normalize=True)[:, sex]\n",
    "    p_class_if_y = train_data.groupby('Survived').value_counts(['PassengerClass'], normalize=True)[:, pclass]\n",
    "    def p_for_y(y):\n",
    "        p_y = p_survived if y == 1 else 1 - p_survived\n",
    "        return p_y * p_y * p_sex_if_y[y] * p_class_if_y[y] / (p_sex * p_class)\n",
    "    return (p_for_y(0), p_for_y(1))\n",
    "        \n",
    "    \n",
    "# Hint 1. Поскольку вы делаете предположении о независимости признаков, то p(y=1|...) + p(y=0| ...) некорректно отнормированы\n",
    "# и не будут суммироваться в 1. Не забудьте выполнить необходимую нормировку."
   ]
  },
  {
   "cell_type": "code",
   "execution_count": 62,
   "id": "1daa083a",
   "metadata": {},
   "outputs": [
    {
     "name": "stdout",
     "output_type": "stream",
     "text": [
      "Naive statistics for train data\n",
      "                       0         1\n",
      "PassengerClass                    \n",
      "1               0.119176  0.473703\n",
      "2               0.074660  0.296761\n",
      "3               0.049528  0.196863\n"
     ]
    }
   ],
   "source": [
    "print(\"Naive statistics for train data\")\n",
    "real_probs = naive_probs.copy()\n",
    "for row in real_probs.axes[0]:\n",
    "    for col in real_probs.axes[1]:\n",
    "        real_probs.at[row, col] = get_probability_survived_bayes_naive(row, col)[1]\n",
    "print(real_probs)"
   ]
  },
  {
   "cell_type": "markdown",
   "id": "ab34439e",
   "metadata": {},
   "source": [
    "## 1.4 Используйте ваши функции для того чтобы сделать предсказание на тесте\n",
    "\n",
    "\n",
    "Для всех 6 уникальных комбинаций значений признаков сравните вероятности принадлежности классу 1\n",
    " - насколько они отличаются?\n",
    " - влияют ли эти отличия на предсказание класса объекта, при пороге $p = 0.5$?"
   ]
  },
  {
   "cell_type": "code",
   "execution_count": 28,
   "id": "b36f3fd7",
   "metadata": {},
   "outputs": [],
   "source": [
    "from tqdm.notebook import tqdm"
   ]
  },
  {
   "cell_type": "code",
   "execution_count": 29,
   "id": "fd4246f5",
   "metadata": {},
   "outputs": [
    {
     "ename": "ValueError",
     "evalue": "not enough values to unpack (expected 3, got 2)",
     "output_type": "error",
     "traceback": [
      "\u001b[1;31m---------------------------------------------------------------------------\u001b[0m",
      "\u001b[1;31mValueError\u001b[0m                                Traceback (most recent call last)",
      "Cell \u001b[1;32mIn[29], line 3\u001b[0m\n\u001b[0;32m      1\u001b[0m y_pred_proba \u001b[38;5;241m=\u001b[39m []\n\u001b[1;32m----> 3\u001b[0m \u001b[38;5;28;01mfor\u001b[39;00m _, (sex, pclass, _) \u001b[38;5;129;01min\u001b[39;00m X_test\u001b[38;5;241m.\u001b[39miterrows():\n\u001b[0;32m      4\u001b[0m     y_pred_proba\u001b[38;5;241m.\u001b[39mappend(get_probability_survived_bayes_naive(pclass, sex))\n",
      "\u001b[1;31mValueError\u001b[0m: not enough values to unpack (expected 3, got 2)"
     ]
    }
   ],
   "source": [
    "y_pred_proba = []\n",
    "\n",
    "for _, (sex, pclass, _) in X_test.iterrows():\n",
    "    y_pred_proba.append(get_probability_survived_bayes_naive(pclass, sex))"
   ]
  },
  {
   "cell_type": "code",
   "execution_count": null,
   "id": "aac56efd",
   "metadata": {},
   "outputs": [],
   "source": []
  },
  {
   "cell_type": "code",
   "execution_count": null,
   "id": "db040d3a",
   "metadata": {},
   "outputs": [],
   "source": []
  },
  {
   "cell_type": "markdown",
   "id": "9b07b1f5",
   "metadata": {},
   "source": [
    "## 1.5 Обучите имплементацию `MultinomialNB` из `sklearn`\n",
    "\n",
    "Тот же вопрос что и 1.4, прокомментируйте отличия в оценке вероятности ваших имлементаций и имплементации\n",
    "`MultinomialNB`. Влияют ли они на предсказание классов при стандартном пороге вероятности (p=0.5)? Заполните таблицу `probabilities`."
   ]
  },
  {
   "cell_type": "code",
   "execution_count": null,
   "id": "bf606069",
   "metadata": {},
   "outputs": [
    {
     "data": {
      "text/html": [
       "<div>\n",
       "<style scoped>\n",
       "    .dataframe tbody tr th:only-of-type {\n",
       "        vertical-align: middle;\n",
       "    }\n",
       "\n",
       "    .dataframe tbody tr th {\n",
       "        vertical-align: top;\n",
       "    }\n",
       "\n",
       "    .dataframe thead th {\n",
       "        text-align: right;\n",
       "    }\n",
       "</style>\n",
       "<table border=\"1\" class=\"dataframe\">\n",
       "  <thead>\n",
       "    <tr style=\"text-align: right;\">\n",
       "      <th></th>\n",
       "      <th>Sex</th>\n",
       "      <th>Passenger Class</th>\n",
       "      <th>Bayes</th>\n",
       "      <th>BayesNaive</th>\n",
       "      <th>MultinomialNB</th>\n",
       "    </tr>\n",
       "  </thead>\n",
       "  <tbody>\n",
       "    <tr>\n",
       "      <th>0</th>\n",
       "      <td>0</td>\n",
       "      <td>1</td>\n",
       "      <td>0</td>\n",
       "      <td>0</td>\n",
       "      <td>0</td>\n",
       "    </tr>\n",
       "    <tr>\n",
       "      <th>1</th>\n",
       "      <td>0</td>\n",
       "      <td>2</td>\n",
       "      <td>0</td>\n",
       "      <td>0</td>\n",
       "      <td>0</td>\n",
       "    </tr>\n",
       "    <tr>\n",
       "      <th>2</th>\n",
       "      <td>0</td>\n",
       "      <td>3</td>\n",
       "      <td>0</td>\n",
       "      <td>0</td>\n",
       "      <td>0</td>\n",
       "    </tr>\n",
       "    <tr>\n",
       "      <th>3</th>\n",
       "      <td>1</td>\n",
       "      <td>1</td>\n",
       "      <td>0</td>\n",
       "      <td>0</td>\n",
       "      <td>0</td>\n",
       "    </tr>\n",
       "    <tr>\n",
       "      <th>4</th>\n",
       "      <td>1</td>\n",
       "      <td>2</td>\n",
       "      <td>0</td>\n",
       "      <td>0</td>\n",
       "      <td>0</td>\n",
       "    </tr>\n",
       "    <tr>\n",
       "      <th>5</th>\n",
       "      <td>1</td>\n",
       "      <td>3</td>\n",
       "      <td>0</td>\n",
       "      <td>0</td>\n",
       "      <td>0</td>\n",
       "    </tr>\n",
       "  </tbody>\n",
       "</table>\n",
       "</div>"
      ],
      "text/plain": [
       "   Sex  Passenger Class  Bayes  BayesNaive  MultinomialNB\n",
       "0    0                1      0           0              0\n",
       "1    0                2      0           0              0\n",
       "2    0                3      0           0              0\n",
       "3    1                1      0           0              0\n",
       "4    1                2      0           0              0\n",
       "5    1                3      0           0              0"
      ]
     },
     "execution_count": 18,
     "metadata": {},
     "output_type": "execute_result"
    }
   ],
   "source": [
    "probabilities = pd.DataFrame()\n",
    "probabilities['Sex'] = [0,0,0,1,1,1]\n",
    "probabilities['Passenger Class'] = [1,2,3,1,2,3]\n",
    "probabilities['Bayes'] = [0]*6\n",
    "probabilities['BayesNaive'] = [0]*6\n",
    "probabilities['MultinomialNB'] = [0]*6\n",
    "\n",
    "probabilities"
   ]
  },
  {
   "cell_type": "code",
   "execution_count": null,
   "id": "d231a5fb",
   "metadata": {},
   "outputs": [],
   "source": []
  },
  {
   "cell_type": "markdown",
   "id": "86941059",
   "metadata": {},
   "source": [
    "## 2.1 Используя MultinomialNB обучите классификатор на бОльшем количестве признаков\n",
    "\n",
    "1. Подготовьте признаки \n",
    "- 'Passenger Class',\n",
    "- 'Sex',\n",
    "- 'Age',\n",
    "- 'No of Siblings or Spouses on Board',\n",
    "- 'No of Parents or Children on Board',\n",
    "- 'Port of Embarkation'\n",
    "\n",
    "для обучения:\n",
    "- закодируйте столбец `Port of Embarkation` по аналогии с `Passenger Class`\n",
    "- заполните пропуски в столбце `Age` средним возрастом в датасете используйте `pd.DataFrame.fillna(...)`\n",
    "- заполните пропуске в столбце `Port of Embarkation` самым частым портом посадки\n",
    "- для разбиения на тренировчную и тестовую часть данных используйте `train_size=0.66` и `random_state=5`\n",
    "\n",
    "2. обучите MultinomialNB модель на тренировочной части данных\n",
    "2. Как изменилась точность вашей модели на тестовой части данных по сравнению с моделью обученной на 2 признаках?\n",
    "3. Что означает признак `Life Boat`? Следуют ли на ваш взгляд включать его в список признаков для обучения модели? \n",
    "- Опишите сценарий (использования модели) в котором его следует включать в список признаков. \n",
    "- Опишите сценарий (использования модели) в котором его не следует включать в список признаков.\n",
    "5. Какая ошибка содержится в предложенной последовательности действий в п. 2.1? "
   ]
  },
  {
   "cell_type": "code",
   "execution_count": null,
   "id": "4d015de2",
   "metadata": {},
   "outputs": [],
   "source": [
    "X_train, X_test, y_train, y_test = train_test_split(X, y, train_size=0.66, random_state=5)"
   ]
  },
  {
   "cell_type": "code",
   "execution_count": null,
   "id": "21717ab2",
   "metadata": {},
   "outputs": [],
   "source": []
  },
  {
   "cell_type": "markdown",
   "id": "e1ece380",
   "metadata": {},
   "source": [
    "## 2.2. Оценка важности признаков\n",
    "\n",
    "Мы воспользуемся простым (и не очень хорошим^[1]) методом оценки важности признаков:\n",
    "\n",
    "1. Воспользуйтесь моделью из п.2. Качество модели на тестовой части данных это ваш бейзлайн\n",
    "2. Исключая по 1 признаку из `X` обучайте модель `MultinomialNB` и измеряйте ее точность на тестовой части данных\n",
    "3. Сохраняйте величину падения или роста качества по сравнению с бейзлайном. Если точность упала значит признак \"полезный\", если выросло - \"вредный\". Абсолютная величина падения или роста в данном случае не так важна, важен только порядок признаков. Такая оценка называется качественной (в противовес количественной).\n",
    "4. Прокомментируйте полученный результат, насколько он согласуется с вашей интуицией?\n",
    "5. В чем на ваш взляд могут быть преимущества использования мЕньшего числа признаков при обучении моделей? (не обязательно в контексте данной задачи)\n",
    "\n",
    "\n",
    "[1] а впрочем какие из них хороши?"
   ]
  },
  {
   "cell_type": "code",
   "execution_count": null,
   "id": "5757bd7e",
   "metadata": {},
   "outputs": [],
   "source": []
  },
  {
   "cell_type": "markdown",
   "id": "6b71f0c8",
   "metadata": {},
   "source": [
    "jupyter notebook c вашим решением необходимо отправить на почту kurmukovai@gmail.com, с темой письма `[ml-ds-2024-ha1-Surname]`, например `[ml-ds-2023-Kurmukov]` до 12:00 МСК 08.02.2023. Задания отправленные до полуночи Вторника 06.02.2023 получают +1 балл в случае полного выполнения (не обязательно верного:))"
   ]
  },
  {
   "cell_type": "code",
   "execution_count": null,
   "id": "36ebcc3b",
   "metadata": {},
   "outputs": [],
   "source": []
  }
 ],
 "metadata": {
  "kernelspec": {
   "display_name": "Python 3 (ipykernel)",
   "language": "python",
   "name": "python3"
  },
  "language_info": {
   "codemirror_mode": {
    "name": "ipython",
    "version": 3
   },
   "file_extension": ".py",
   "mimetype": "text/x-python",
   "name": "python",
   "nbconvert_exporter": "python",
   "pygments_lexer": "ipython3",
   "version": "3.11.4"
  }
 },
 "nbformat": 4,
 "nbformat_minor": 5
}
